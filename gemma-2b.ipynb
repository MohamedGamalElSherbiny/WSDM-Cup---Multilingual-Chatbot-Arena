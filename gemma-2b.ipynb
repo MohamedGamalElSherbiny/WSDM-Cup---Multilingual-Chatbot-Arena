{
 "cells": [
  {
   "cell_type": "markdown",
   "id": "4bfe9043",
   "metadata": {
    "execution": {
     "iopub.execute_input": "2025-02-01T10:32:46.467849Z",
     "iopub.status.busy": "2025-02-01T10:32:46.467521Z",
     "iopub.status.idle": "2025-02-01T10:32:46.473996Z",
     "shell.execute_reply": "2025-02-01T10:32:46.472416Z",
     "shell.execute_reply.started": "2025-02-01T10:32:46.467822Z"
    },
    "papermill": {
     "duration": 0.00798,
     "end_time": "2025-02-01T12:20:55.681251",
     "exception": false,
     "start_time": "2025-02-01T12:20:55.673271",
     "status": "completed"
    },
    "tags": []
   },
   "source": [
    "# Gemma Classification Arena Notebook"
   ]
  },
  {
   "cell_type": "markdown",
   "id": "f1008c11",
   "metadata": {
    "papermill": {
     "duration": 0.006433,
     "end_time": "2025-02-01T12:20:55.694606",
     "exception": false,
     "start_time": "2025-02-01T12:20:55.688173",
     "status": "completed"
    },
    "tags": []
   },
   "source": [
    "## Section 1: Import Libraries and Basic Configuration"
   ]
  },
  {
   "cell_type": "markdown",
   "id": "fa63d3b9",
   "metadata": {
    "papermill": {
     "duration": 0.006295,
     "end_time": "2025-02-01T12:20:55.707332",
     "exception": false,
     "start_time": "2025-02-01T12:20:55.701037",
     "status": "completed"
    },
    "tags": []
   },
   "source": [
    "### Import Libraries and Suppress Warnings"
   ]
  },
  {
   "cell_type": "markdown",
   "id": "69b05df1",
   "metadata": {
    "papermill": {
     "duration": 0.006201,
     "end_time": "2025-02-01T12:20:55.720018",
     "exception": false,
     "start_time": "2025-02-01T12:20:55.713817",
     "status": "completed"
    },
    "tags": []
   },
   "source": [
    "- **Purpose**: Import necessary libraries and suppress warnings to keep the notebook clean.\n",
    "- **Notes**: \n",
    "  - `warnings.filterwarnings(\"ignore\")` suppresses all warnings.\n",
    "  - `logging.getLogger(\"transformers.modeling_utils\").setLevel(logging.ERROR)` reduces logging verbosity from the transformers library.\n"
   ]
  },
  {
   "cell_type": "code",
   "execution_count": 1,
   "id": "8ff37c48",
   "metadata": {
    "execution": {
     "iopub.execute_input": "2025-02-01T12:20:55.734357Z",
     "iopub.status.busy": "2025-02-01T12:20:55.734035Z",
     "iopub.status.idle": "2025-02-01T12:20:55.739161Z",
     "shell.execute_reply": "2025-02-01T12:20:55.738313Z"
    },
    "papermill": {
     "duration": 0.01389,
     "end_time": "2025-02-01T12:20:55.740387",
     "exception": false,
     "start_time": "2025-02-01T12:20:55.726497",
     "status": "completed"
    },
    "tags": []
   },
   "outputs": [],
   "source": [
    "import time\n",
    "import warnings\n",
    "warnings.filterwarnings(\"ignore\")\n",
    "\n",
    "import logging\n",
    "\n",
    "# Suppress warnings from the transformers library\n",
    "logging.getLogger(\"transformers.modeling_utils\").setLevel(logging.ERROR)"
   ]
  },
  {
   "cell_type": "markdown",
   "id": "23a5e697",
   "metadata": {
    "papermill": {
     "duration": 0.006625,
     "end_time": "2025-02-01T12:20:55.753445",
     "exception": false,
     "start_time": "2025-02-01T12:20:55.746820",
     "status": "completed"
    },
    "tags": []
   },
   "source": [
    "### Import Additional Libraries"
   ]
  },
  {
   "cell_type": "markdown",
   "id": "2ba4cb98",
   "metadata": {
    "papermill": {
     "duration": 0.006216,
     "end_time": "2025-02-01T12:20:55.766025",
     "exception": false,
     "start_time": "2025-02-01T12:20:55.759809",
     "status": "completed"
    },
    "tags": []
   },
   "source": [
    "- **Purpose**: Import libraries for model training, evaluation, and data handling.\n",
    "- **Notes**:\n",
    "  - `transformers` provides tools for working with pre-trained models.\n",
    "  - `datasets` is used for handling datasets.\n",
    "  - `torch` is the PyTorch library for deep learning.\n",
    "  - `sklearn` provides metrics for model evaluation.\n",
    "  - `peft` is used for parameter-efficient fine-tuning.\n"
   ]
  },
  {
   "cell_type": "code",
   "execution_count": 2,
   "id": "24f1a623",
   "metadata": {
    "execution": {
     "iopub.execute_input": "2025-02-01T12:20:55.779447Z",
     "iopub.status.busy": "2025-02-01T12:20:55.779194Z",
     "iopub.status.idle": "2025-02-01T12:21:19.777447Z",
     "shell.execute_reply": "2025-02-01T12:21:19.776610Z"
    },
    "papermill": {
     "duration": 24.00661,
     "end_time": "2025-02-01T12:21:19.778980",
     "exception": false,
     "start_time": "2025-02-01T12:20:55.772370",
     "status": "completed"
    },
    "tags": []
   },
   "outputs": [
    {
     "name": "stdout",
     "output_type": "stream",
     "text": [
      "CPU times: user 15 s, sys: 2.3 s, total: 17.3 s\n",
      "Wall time: 24 s\n"
     ]
    }
   ],
   "source": [
    "%%time\n",
    "from transformers import (pipeline, AutoTokenizer, AutoModelForSequenceClassification, Trainer, TrainingArguments,\n",
    "                          AutoConfig, BitsAndBytesConfig, TextDataset, DataCollatorWithPadding)\n",
    "from datasets import Dataset\n",
    "import torch\n",
    "import pandas as pd\n",
    "import numpy as np\n",
    "from sklearn.model_selection import train_test_split\n",
    "from sklearn.metrics import accuracy_score, precision_recall_fscore_support\n",
    "from peft import PeftModel, get_peft_model, LoraConfig, TaskType"
   ]
  },
  {
   "cell_type": "markdown",
   "id": "7d8c4108",
   "metadata": {
    "papermill": {
     "duration": 0.006415,
     "end_time": "2025-02-01T12:21:19.792333",
     "exception": false,
     "start_time": "2025-02-01T12:21:19.785918",
     "status": "completed"
    },
    "tags": []
   },
   "source": [
    "### Ensure GPU Utilization"
   ]
  },
  {
   "cell_type": "markdown",
   "id": "88a58b3f",
   "metadata": {
    "papermill": {
     "duration": 0.00628,
     "end_time": "2025-02-01T12:21:19.805171",
     "exception": false,
     "start_time": "2025-02-01T12:21:19.798891",
     "status": "completed"
    },
    "tags": []
   },
   "source": [
    "- **Purpose**: Ensure the model uses GPU if available and clear GPU memory.\n",
    "- **Notes**:\n",
    "  - `torch.cuda.is_available()` checks if a GPU is available.\n",
    "  - `torch.cuda.empty_cache()` clears unused memory from the GPU.\n"
   ]
  },
  {
   "cell_type": "code",
   "execution_count": 3,
   "id": "d07ded9f",
   "metadata": {
    "execution": {
     "iopub.execute_input": "2025-02-01T12:21:19.819503Z",
     "iopub.status.busy": "2025-02-01T12:21:19.818878Z",
     "iopub.status.idle": "2025-02-01T12:21:19.871470Z",
     "shell.execute_reply": "2025-02-01T12:21:19.870554Z"
    },
    "papermill": {
     "duration": 0.061428,
     "end_time": "2025-02-01T12:21:19.873017",
     "exception": false,
     "start_time": "2025-02-01T12:21:19.811589",
     "status": "completed"
    },
    "tags": []
   },
   "outputs": [],
   "source": [
    "# Ensure GPU utilization\n",
    "device = \"cuda\" if torch.cuda.is_available() else \"cpu\"\n",
    "torch.cuda.empty_cache()"
   ]
  },
  {
   "cell_type": "markdown",
   "id": "af060cd3",
   "metadata": {
    "papermill": {
     "duration": 0.006427,
     "end_time": "2025-02-01T12:21:19.886777",
     "exception": false,
     "start_time": "2025-02-01T12:21:19.880350",
     "status": "completed"
    },
    "tags": []
   },
   "source": [
    "## Section 2: Load and Preprocess Dataset\n",
    "\n",
    "### Load Dataset"
   ]
  },
  {
   "cell_type": "markdown",
   "id": "38421479",
   "metadata": {
    "papermill": {
     "duration": 0.006115,
     "end_time": "2025-02-01T12:21:19.899296",
     "exception": false,
     "start_time": "2025-02-01T12:21:19.893181",
     "status": "completed"
    },
    "tags": []
   },
   "source": [
    "- **Purpose**: Load and preprocess the dataset for training and evaluation.\n",
    "- **Notes**:\n",
    "  - `train_test_split` splits the dataset into training and evaluation sets.\n",
    "  - `Dataset.from_pandas` converts a pandas DataFrame to a Hugging Face Dataset."
   ]
  },
  {
   "cell_type": "code",
   "execution_count": 4,
   "id": "2c13f40f",
   "metadata": {
    "execution": {
     "iopub.execute_input": "2025-02-01T12:21:19.913118Z",
     "iopub.status.busy": "2025-02-01T12:21:19.912851Z",
     "iopub.status.idle": "2025-02-01T12:21:22.431600Z",
     "shell.execute_reply": "2025-02-01T12:21:22.430672Z"
    },
    "papermill": {
     "duration": 2.528066,
     "end_time": "2025-02-01T12:21:22.433805",
     "exception": false,
     "start_time": "2025-02-01T12:21:19.905739",
     "status": "completed"
    },
    "tags": []
   },
   "outputs": [],
   "source": [
    "\n",
    "train_data = pd.read_parquet(\"/kaggle/input/wsdm-cup-multilingual-chatbot-arena/train.parquet\")\n",
    "test_data = pd.read_parquet(\"/kaggle/input/wsdm-cup-multilingual-chatbot-arena/test.parquet\")"
   ]
  },
  {
   "cell_type": "code",
   "execution_count": 5,
   "id": "f45d0eba",
   "metadata": {
    "execution": {
     "iopub.execute_input": "2025-02-01T12:21:22.449375Z",
     "iopub.status.busy": "2025-02-01T12:21:22.449112Z",
     "iopub.status.idle": "2025-02-01T12:21:22.460230Z",
     "shell.execute_reply": "2025-02-01T12:21:22.459470Z"
    },
    "papermill": {
     "duration": 0.019771,
     "end_time": "2025-02-01T12:21:22.461396",
     "exception": false,
     "start_time": "2025-02-01T12:21:22.441625",
     "status": "completed"
    },
    "tags": []
   },
   "outputs": [
    {
     "data": {
      "text/plain": [
       "id            00007cff95d7f7974642a785aca248b0f26e60d3312fac...\n",
       "prompt                                       vieš po Slovensky?\n",
       "response_a     Áno, hovorím po slovensky. Ako vám môžem pomôcť?\n",
       "response_b    Áno, veď som tu! Môžem ti pomôcť s otázkami al...\n",
       "winner                                                  model_a\n",
       "model_a                                              o1-preview\n",
       "model_b                                      reka-core-20240904\n",
       "language                                                 Slovak\n",
       "Name: 0, dtype: object"
      ]
     },
     "execution_count": 5,
     "metadata": {},
     "output_type": "execute_result"
    }
   ],
   "source": [
    "train_data.iloc[0]"
   ]
  },
  {
   "cell_type": "code",
   "execution_count": 6,
   "id": "3693c101",
   "metadata": {
    "execution": {
     "iopub.execute_input": "2025-02-01T12:21:22.476051Z",
     "iopub.status.busy": "2025-02-01T12:21:22.475815Z",
     "iopub.status.idle": "2025-02-01T12:21:26.455647Z",
     "shell.execute_reply": "2025-02-01T12:21:26.454556Z"
    },
    "papermill": {
     "duration": 3.989361,
     "end_time": "2025-02-01T12:21:26.457683",
     "exception": false,
     "start_time": "2025-02-01T12:21:22.468322",
     "status": "completed"
    },
    "tags": []
   },
   "outputs": [
    {
     "name": "stdout",
     "output_type": "stream",
     "text": [
      "CPU times: user 1.93 s, sys: 2.1 s, total: 4.03 s\n",
      "Wall time: 3.97 s\n"
     ]
    }
   ],
   "source": [
    "%%time\n",
    "# Encode labels\n",
    "train_data['label'] = train_data['winner'].map({'model_a': 0, 'model_b': 1})\n",
    "\n",
    "# Preprocess function\n",
    "def preprocess_function(row):\n",
    "    return {\n",
    "        \"input_text\": f\"Prompt: {row['prompt']} | Response A: {row['response_a']} | Response B: {row['response_b']}\",\n",
    "        \"labels\": 0 if 'model_a' == row['winner'] else 1\n",
    "    }\n",
    "\n",
    "processed_data = train_data.apply(preprocess_function, axis=1)\n",
    "df = pd.DataFrame(processed_data.tolist())\n",
    "\n",
    "# Split into train and evaluation datasets\n",
    "train_data, eval_data = train_test_split(df, test_size=0.2, random_state=42)\n",
    "train_dataset = Dataset.from_pandas(train_data)\n",
    "eval_dataset = Dataset.from_pandas(eval_data)"
   ]
  },
  {
   "cell_type": "markdown",
   "id": "502ee4a3",
   "metadata": {
    "papermill": {
     "duration": 0.006472,
     "end_time": "2025-02-01T12:21:26.472195",
     "exception": false,
     "start_time": "2025-02-01T12:21:26.465723",
     "status": "completed"
    },
    "tags": []
   },
   "source": [
    "## Section 3: Load and Configure Model"
   ]
  },
  {
   "cell_type": "markdown",
   "id": "ed9a75b4",
   "metadata": {
    "papermill": {
     "duration": 0.006618,
     "end_time": "2025-02-01T12:21:26.485518",
     "exception": false,
     "start_time": "2025-02-01T12:21:26.478900",
     "status": "completed"
    },
    "tags": []
   },
   "source": [
    "### Load Model and Tokenizer\n",
    "\n",
    "- **Purpose**: Load the pre-trained Gemma model and tokenizer, and configure them for sequence classification.\n",
    "- **Notes**:\n",
    "  - `AutoConfig.from_pretrained` loads the model configuration.\n",
    "  - `AutoTokenizer.from_pretrained` loads the tokenizer.\n",
    "  - `AutoModelForSequenceClassification.from_pretrained` loads the model for sequence classification.\n",
    "  - `model.tie_weights()` ensures shared weights are properly linked.\n",
    "  - `model.resize_token_embeddings(len(tokenizer))` resizes the token embeddings to match the tokenizer.\n"
   ]
  },
  {
   "cell_type": "code",
   "execution_count": 7,
   "id": "110ee587",
   "metadata": {
    "execution": {
     "iopub.execute_input": "2025-02-01T12:21:26.499807Z",
     "iopub.status.busy": "2025-02-01T12:21:26.499464Z",
     "iopub.status.idle": "2025-02-01T12:21:54.103665Z",
     "shell.execute_reply": "2025-02-01T12:21:54.102839Z"
    },
    "papermill": {
     "duration": 27.612882,
     "end_time": "2025-02-01T12:21:54.104938",
     "exception": false,
     "start_time": "2025-02-01T12:21:26.492056",
     "status": "completed"
    },
    "tags": []
   },
   "outputs": [
    {
     "data": {
      "application/vnd.jupyter.widget-view+json": {
       "model_id": "72cbef93c4124af28534cf4f6531d655",
       "version_major": 2,
       "version_minor": 0
      },
      "text/plain": [
       "Loading checkpoint shards:   0%|          | 0/2 [00:00<?, ?it/s]"
      ]
     },
     "metadata": {},
     "output_type": "display_data"
    },
    {
     "name": "stdout",
     "output_type": "stream",
     "text": [
      "GemmaForSequenceClassification(\n",
      "  (model): GemmaModel(\n",
      "    (embed_tokens): Embedding(256000, 2048, padding_idx=0)\n",
      "    (layers): ModuleList(\n",
      "      (0-17): 18 x GemmaDecoderLayer(\n",
      "        (self_attn): GemmaSdpaAttention(\n",
      "          (q_proj): Linear(in_features=2048, out_features=2048, bias=False)\n",
      "          (k_proj): Linear(in_features=2048, out_features=256, bias=False)\n",
      "          (v_proj): Linear(in_features=2048, out_features=256, bias=False)\n",
      "          (o_proj): Linear(in_features=2048, out_features=2048, bias=False)\n",
      "          (rotary_emb): GemmaRotaryEmbedding()\n",
      "        )\n",
      "        (mlp): GemmaMLP(\n",
      "          (gate_proj): Linear(in_features=2048, out_features=16384, bias=False)\n",
      "          (up_proj): Linear(in_features=2048, out_features=16384, bias=False)\n",
      "          (down_proj): Linear(in_features=16384, out_features=2048, bias=False)\n",
      "          (act_fn): GELUActivation()\n",
      "        )\n",
      "        (input_layernorm): GemmaRMSNorm((2048,), eps=1e-06)\n",
      "        (post_attention_layernorm): GemmaRMSNorm((2048,), eps=1e-06)\n",
      "      )\n",
      "    )\n",
      "    (norm): GemmaRMSNorm((2048,), eps=1e-06)\n",
      "  )\n",
      "  (score): Linear(in_features=2048, out_features=2, bias=False)\n",
      ")\n",
      "CPU times: user 8.42 s, sys: 9.45 s, total: 17.9 s\n",
      "Wall time: 27.6 s\n"
     ]
    },
    {
     "data": {
      "text/plain": [
       "Embedding(256000, 2048, padding_idx=0)"
      ]
     },
     "execution_count": 7,
     "metadata": {},
     "output_type": "execute_result"
    }
   ],
   "source": [
    "%%time\n",
    "\n",
    "model_path = \"/kaggle/input/gemma/transformers/2b-it/3\"\n",
    "\n",
    "# Optional: Configure quantization (uncomment if needed and supported)\n",
    "# quantization_config = BitsAndBytesConfig(load_in_4bit=True)\n",
    "\n",
    "# Load base model configuration\n",
    "config = AutoConfig.from_pretrained(model_path)\n",
    "config.hidden_activation = \"gelu\"\n",
    "config.use_cache = False\n",
    "config.num_labels = 2\n",
    "# Load tokenizer and model\n",
    "tokenizer = AutoTokenizer.from_pretrained(model_path)\n",
    "model = AutoModelForSequenceClassification.from_pretrained(\n",
    "    model_path,\n",
    "    config=config,\n",
    "    # quantization_config=quantization_config,\n",
    "    device_map=\"auto\",\n",
    "    ignore_mismatched_sizes=True\n",
    ")\n",
    "\n",
    "# Verify if meta tensors exist and initialize them\n",
    "if any(param.device.type == \"meta\" for param in model.parameters()):\n",
    "    print(\"Meta tensors found. Initializing...\")\n",
    "    model.tie_weights()  # Tie weights, ensures shared weights are properly linked after initialization.\n",
    "    model = model.to_empty(device=device)  #replaces meta tensors with empty tensors, clearing the \"meta\" state and making the model ready for proper initialization or loading onto a device.\n",
    "    model = model.to(device)  # Move to CUDA device\n",
    "\n",
    "# Print model to get hidden layer names, to use it later in LoRA configuration\n",
    "print(model)\n",
    "\n",
    "# Adjust tokenizer and model\n",
    "if tokenizer.pad_token is None:\n",
    "    tokenizer.pad_token = tokenizer.eos_token\n",
    "model.resize_token_embeddings(len(tokenizer))"
   ]
  },
  {
   "cell_type": "markdown",
   "id": "d2247589",
   "metadata": {
    "papermill": {
     "duration": 0.007057,
     "end_time": "2025-02-01T12:21:54.119407",
     "exception": false,
     "start_time": "2025-02-01T12:21:54.112350",
     "status": "completed"
    },
    "tags": []
   },
   "source": [
    "### Apply LoRA (Low-Rank Adaptation) Configuration\n",
    "- **Purpose**: Apply LoRA (Low-Rank Adaptation) for parameter-efficient fine-tuning.\n",
    "- **Notes**:\n",
    "  - `LoraConfig` configures LoRA with specific parameters:\n",
    "    - `task_type=TaskType.SEQ_CLS` sets the task type to sequence classification.\n",
    "    - `r=8` sets the rank of the low-rank matrices.\n",
    "    - `lora_alpha=16` controls the scaling factor.\n",
    "    - `lora_dropout=0.1` sets the dropout rate.\n",
    "    - `target_modules=[\"q_proj\", \"v_proj\"]` specifies the target modules for LoRA."
   ]
  },
  {
   "cell_type": "code",
   "execution_count": 8,
   "id": "4f7fca84",
   "metadata": {
    "execution": {
     "iopub.execute_input": "2025-02-01T12:21:54.135220Z",
     "iopub.status.busy": "2025-02-01T12:21:54.134935Z",
     "iopub.status.idle": "2025-02-01T12:21:54.193855Z",
     "shell.execute_reply": "2025-02-01T12:21:54.192972Z"
    },
    "papermill": {
     "duration": 0.068369,
     "end_time": "2025-02-01T12:21:54.195247",
     "exception": false,
     "start_time": "2025-02-01T12:21:54.126878",
     "status": "completed"
    },
    "tags": []
   },
   "outputs": [
    {
     "name": "stdout",
     "output_type": "stream",
     "text": [
      "CPU times: user 53.4 ms, sys: 0 ns, total: 53.4 ms\n",
      "Wall time: 54.4 ms\n"
     ]
    }
   ],
   "source": [
    "%%time\n",
    "\n",
    "# Apply LoRA configuration\n",
    "lora_config = LoraConfig(\n",
    "    r=8,\n",
    "    lora_alpha=16,\n",
    "    lora_dropout=0.1,\n",
    "    task_type=TaskType.SEQ_CLS,\n",
    "    target_modules=[\"q_proj\", \"v_proj\"]\n",
    ")\n",
    "model = get_peft_model(model, lora_config)"
   ]
  },
  {
   "cell_type": "markdown",
   "id": "7a2fdffc",
   "metadata": {
    "papermill": {
     "duration": 0.007027,
     "end_time": "2025-02-01T12:21:54.209450",
     "exception": false,
     "start_time": "2025-02-01T12:21:54.202423",
     "status": "completed"
    },
    "tags": []
   },
   "source": [
    "## Section 4: Prepare Data for Training"
   ]
  },
  {
   "cell_type": "markdown",
   "id": "0720d919",
   "metadata": {
    "papermill": {
     "duration": 0.006724,
     "end_time": "2025-02-01T12:21:54.223279",
     "exception": false,
     "start_time": "2025-02-01T12:21:54.216555",
     "status": "completed"
    },
    "tags": []
   },
   "source": [
    "### Subset Data for Debugging\n",
    "- **Purpose**: Subset the dataset for faster debugging and testing.\n",
    "- **Notes**:\n",
    "  - `train_dataset.shuffle(seed=42).select(range(subset_size))` shuffles and selects a subset of the training data.\n",
    "  - `eval_dataset.shuffle(seed=42).select(range(subset_size))` does the same for the evaluation data.\n"
   ]
  },
  {
   "cell_type": "code",
   "execution_count": 9,
   "id": "1105c1b2",
   "metadata": {
    "execution": {
     "iopub.execute_input": "2025-02-01T12:21:54.238317Z",
     "iopub.status.busy": "2025-02-01T12:21:54.238049Z",
     "iopub.status.idle": "2025-02-01T12:21:54.261023Z",
     "shell.execute_reply": "2025-02-01T12:21:54.260198Z"
    },
    "papermill": {
     "duration": 0.031986,
     "end_time": "2025-02-01T12:21:54.262349",
     "exception": false,
     "start_time": "2025-02-01T12:21:54.230363",
     "status": "completed"
    },
    "tags": []
   },
   "outputs": [
    {
     "name": "stdout",
     "output_type": "stream",
     "text": [
      "CPU times: user 16.9 ms, sys: 873 µs, total: 17.8 ms\n",
      "Wall time: 18.1 ms\n"
     ]
    }
   ],
   "source": [
    "%%time\n",
    "\n",
    "# subset data to debug\n",
    "subset_size = 900  # Number of examples to use for training\n",
    "train_dataset = train_dataset.shuffle(seed=42).select(range(subset_size))\n",
    "subset_size = int(subset_size*2/8)  # Number of examples to use for test, keep its ratio 8 to 2\n",
    "eval_dataset = eval_dataset.shuffle(seed=42).select(range(subset_size))"
   ]
  },
  {
   "cell_type": "markdown",
   "id": "18aca857",
   "metadata": {
    "papermill": {
     "duration": 0.007137,
     "end_time": "2025-02-01T12:21:54.276870",
     "exception": false,
     "start_time": "2025-02-01T12:21:54.269733",
     "status": "completed"
    },
    "tags": []
   },
   "source": [
    "### Tokenize Dataset\n",
    "\n",
    "- **Purpose**: Tokenize the dataset for model input.\n",
    "- **Notes**:\n",
    "  - `tokenizer` tokenizes the input text with padding and truncation.\n",
    "  - `max_length=512` ensures the input length does not exceed 512 tokens."
   ]
  },
  {
   "cell_type": "code",
   "execution_count": 10,
   "id": "f0e27db2",
   "metadata": {
    "execution": {
     "iopub.execute_input": "2025-02-01T12:21:54.292284Z",
     "iopub.status.busy": "2025-02-01T12:21:54.292012Z",
     "iopub.status.idle": "2025-02-01T12:21:56.639622Z",
     "shell.execute_reply": "2025-02-01T12:21:56.638889Z"
    },
    "papermill": {
     "duration": 2.35677,
     "end_time": "2025-02-01T12:21:56.640861",
     "exception": false,
     "start_time": "2025-02-01T12:21:54.284091",
     "status": "completed"
    },
    "tags": []
   },
   "outputs": [
    {
     "data": {
      "application/vnd.jupyter.widget-view+json": {
       "model_id": "9e3fb48e1388402fa09a7cdb758707ba",
       "version_major": 2,
       "version_minor": 0
      },
      "text/plain": [
       "Map:   0%|          | 0/900 [00:00<?, ? examples/s]"
      ]
     },
     "metadata": {},
     "output_type": "display_data"
    },
    {
     "data": {
      "application/vnd.jupyter.widget-view+json": {
       "model_id": "97f530249e83460db15e60ce4d446381",
       "version_major": 2,
       "version_minor": 0
      },
      "text/plain": [
       "Map:   0%|          | 0/225 [00:00<?, ? examples/s]"
      ]
     },
     "metadata": {},
     "output_type": "display_data"
    },
    {
     "name": "stdout",
     "output_type": "stream",
     "text": [
      "CPU times: user 5.88 s, sys: 135 ms, total: 6.01 s\n",
      "Wall time: 2.34 s\n"
     ]
    }
   ],
   "source": [
    "%%time\n",
    "train_dataset = train_dataset.map(lambda x: tokenizer(x['input_text'], padding=True, truncation=True, max_length=512), batched=True)\n",
    "eval_dataset = eval_dataset.map(lambda x: tokenizer(x['input_text'], padding=True, truncation=True, max_length=512), batched=True)"
   ]
  },
  {
   "cell_type": "markdown",
   "id": "b28ecea5",
   "metadata": {
    "papermill": {
     "duration": 0.007446,
     "end_time": "2025-02-01T12:21:56.656263",
     "exception": false,
     "start_time": "2025-02-01T12:21:56.648817",
     "status": "completed"
    },
    "tags": []
   },
   "source": [
    "### Set Dataset Format\n",
    "\n",
    "- **Purpose**: Set the dataset format to PyTorch tensors.\n",
    "- **Notes**:\n",
    "  - `set_format` converts the dataset to PyTorch tensors for training."
   ]
  },
  {
   "cell_type": "code",
   "execution_count": 11,
   "id": "0d3b21b2",
   "metadata": {
    "execution": {
     "iopub.execute_input": "2025-02-01T12:21:56.672098Z",
     "iopub.status.busy": "2025-02-01T12:21:56.671832Z",
     "iopub.status.idle": "2025-02-01T12:21:56.677683Z",
     "shell.execute_reply": "2025-02-01T12:21:56.676833Z"
    },
    "papermill": {
     "duration": 0.015298,
     "end_time": "2025-02-01T12:21:56.679006",
     "exception": false,
     "start_time": "2025-02-01T12:21:56.663708",
     "status": "completed"
    },
    "tags": []
   },
   "outputs": [
    {
     "name": "stdout",
     "output_type": "stream",
     "text": [
      "CPU times: user 984 µs, sys: 0 ns, total: 984 µs\n",
      "Wall time: 879 µs\n"
     ]
    }
   ],
   "source": [
    "%%time\n",
    "train_dataset.set_format(type=\"torch\", columns=[\"input_ids\", \"attention_mask\", \"labels\"])\n",
    "eval_dataset.set_format(type=\"torch\", columns=[\"input_ids\", \"attention_mask\", \"labels\"])"
   ]
  },
  {
   "cell_type": "markdown",
   "id": "d3dcdd09",
   "metadata": {
    "papermill": {
     "duration": 0.00816,
     "end_time": "2025-02-01T12:21:56.695331",
     "exception": false,
     "start_time": "2025-02-01T12:21:56.687171",
     "status": "completed"
    },
    "tags": []
   },
   "source": [
    "## Section 5: Define Metrics and Training Arguments"
   ]
  },
  {
   "cell_type": "markdown",
   "id": "52259a9c",
   "metadata": {
    "papermill": {
     "duration": 0.007511,
     "end_time": "2025-02-01T12:21:56.710223",
     "exception": false,
     "start_time": "2025-02-01T12:21:56.702712",
     "status": "completed"
    },
    "tags": []
   },
   "source": [
    "### Define Metrics\n",
    "\n",
    "- **Purpose**: Define metrics for model evaluation.\n",
    "- **Notes**:\n",
    "    The `compute_metrics` function calculates evaluation metrics for the model:\n",
    "    - `accuracy`: How many predictions match the ground truth.\n",
    "    - `precision`: Correctly predicted positives / All predicted positives.\n",
    "    - `recall`: Correctly predicted positives / All actual positives.\n",
    "    - `f1`: Harmonic mean of precision and recall."
   ]
  },
  {
   "cell_type": "code",
   "execution_count": 12,
   "id": "36054545",
   "metadata": {
    "execution": {
     "iopub.execute_input": "2025-02-01T12:21:56.726107Z",
     "iopub.status.busy": "2025-02-01T12:21:56.725816Z",
     "iopub.status.idle": "2025-02-01T12:21:56.730028Z",
     "shell.execute_reply": "2025-02-01T12:21:56.729322Z"
    },
    "papermill": {
     "duration": 0.013611,
     "end_time": "2025-02-01T12:21:56.731295",
     "exception": false,
     "start_time": "2025-02-01T12:21:56.717684",
     "status": "completed"
    },
    "tags": []
   },
   "outputs": [],
   "source": [
    "def compute_metrics(eval_pred):\n",
    "    logits, labels = eval_pred\n",
    "    predictions = torch.argmax(torch.tensor(logits), dim=1).numpy()\n",
    "    precision, recall, f1, _ = precision_recall_fscore_support(labels, predictions, average=\"binary\")\n",
    "    acc = accuracy_score(labels, predictions)\n",
    "    return {\"accuracy\": acc, \"precision\": precision, \"recall\": recall, \"f1\": f1}"
   ]
  },
  {
   "cell_type": "markdown",
   "id": "a210059b",
   "metadata": {
    "papermill": {
     "duration": 0.007177,
     "end_time": "2025-02-01T12:21:56.746014",
     "exception": false,
     "start_time": "2025-02-01T12:21:56.738837",
     "status": "completed"
    },
    "tags": []
   },
   "source": [
    "### Define Training Arguments\n",
    "\n",
    "- **Purpose**: Configure training arguments.\n",
    "- **Notes**:\n",
    "  - `TrainingArguments` configures various training parameters:\n",
    "    - `output_dir=\"./results\"` sets the output directory.\n",
    "    - `eval_strategy=\"epoch\"` evaluates the model at the end of each epoch.\n",
    "    - `learning_rate=2e-4` sets the learning rate.\n",
    "    - `per_device_train_batch_size=2` sets the batch size for training.\n",
    "    - `num_train_epochs=3` sets the number of training epochs.\n",
    "    - `weight_decay=0.01` sets the weight decay for regularization.\n",
    "    - `fp16=torch.cuda.is_available()` enables mixed precision training if a GPU is available."
   ]
  },
  {
   "cell_type": "code",
   "execution_count": 13,
   "id": "5849caff",
   "metadata": {
    "execution": {
     "iopub.execute_input": "2025-02-01T12:21:56.761674Z",
     "iopub.status.busy": "2025-02-01T12:21:56.761422Z",
     "iopub.status.idle": "2025-02-01T12:21:56.788771Z",
     "shell.execute_reply": "2025-02-01T12:21:56.787982Z"
    },
    "papermill": {
     "duration": 0.036887,
     "end_time": "2025-02-01T12:21:56.790332",
     "exception": false,
     "start_time": "2025-02-01T12:21:56.753445",
     "status": "completed"
    },
    "tags": []
   },
   "outputs": [],
   "source": [
    "training_args = TrainingArguments(\n",
    "    output_dir=\"./results\",\n",
    "    eval_strategy=\"epoch\",\n",
    "    learning_rate=2e-4,\n",
    "    per_device_train_batch_size=2,\n",
    "    per_device_eval_batch_size=2,\n",
    "    num_train_epochs=3,\n",
    "    weight_decay=0.01,\n",
    "    save_strategy=\"epoch\",\n",
    "    logging_dir=\"./logs\",\n",
    "    logging_steps=100,\n",
    "    save_total_limit=2,\n",
    "    load_best_model_at_end=True,\n",
    "    metric_for_best_model=\"accuracy\",\n",
    "    greater_is_better=True,\n",
    "    fp16=torch.cuda.is_available(),\n",
    "    # fp16_opt_level=\"O2\",\n",
    "    report_to=\"none\",\n",
    "    warmup_steps=500,\n",
    "    save_steps=500,\n",
    "    gradient_checkpointing=True\n",
    ")"
   ]
  },
  {
   "cell_type": "markdown",
   "id": "0ecf49ea",
   "metadata": {
    "papermill": {
     "duration": 0.007442,
     "end_time": "2025-02-01T12:21:56.805950",
     "exception": false,
     "start_time": "2025-02-01T12:21:56.798508",
     "status": "completed"
    },
    "tags": []
   },
   "source": [
    "## Section 6: Initialize Trainer and Train"
   ]
  },
  {
   "cell_type": "markdown",
   "id": "a0024b55",
   "metadata": {
    "papermill": {
     "duration": 0.007263,
     "end_time": "2025-02-01T12:21:56.820634",
     "exception": false,
     "start_time": "2025-02-01T12:21:56.813371",
     "status": "completed"
    },
    "tags": []
   },
   "source": [
    "### Initialize Trainer\n",
    "\n",
    "- **Purpose**: Initialize the Trainer for model training.\n",
    "- **Notes**:\n",
    "  - `DataCollatorWithPadding` ensures the input data is padded to the same length.\n",
    "  - `Trainer` handles the training loop, evaluation, and saving of the model."
   ]
  },
  {
   "cell_type": "code",
   "execution_count": 14,
   "id": "cf08a563",
   "metadata": {
    "execution": {
     "iopub.execute_input": "2025-02-01T12:21:56.837695Z",
     "iopub.status.busy": "2025-02-01T12:21:56.837375Z",
     "iopub.status.idle": "2025-02-01T12:21:56.855366Z",
     "shell.execute_reply": "2025-02-01T12:21:56.854457Z"
    },
    "papermill": {
     "duration": 0.028894,
     "end_time": "2025-02-01T12:21:56.856879",
     "exception": false,
     "start_time": "2025-02-01T12:21:56.827985",
     "status": "completed"
    },
    "tags": []
   },
   "outputs": [],
   "source": [
    "data_collator = DataCollatorWithPadding(tokenizer=tokenizer)\n",
    "trainer = Trainer(\n",
    "    model=model,\n",
    "    args=training_args,\n",
    "    train_dataset=train_dataset,\n",
    "    eval_dataset=eval_dataset,\n",
    "    data_collator=data_collator,\n",
    "    compute_metrics=compute_metrics\n",
    ")"
   ]
  },
  {
   "cell_type": "markdown",
   "id": "6c7d2ab3",
   "metadata": {
    "papermill": {
     "duration": 0.007229,
     "end_time": "2025-02-01T12:21:56.871697",
     "exception": false,
     "start_time": "2025-02-01T12:21:56.864468",
     "status": "completed"
    },
    "tags": []
   },
   "source": [
    "### Clear GPU Cache\n",
    "\n",
    "- **Purpose**: Clear GPU memory before training.\n",
    "- **Notes**: Ensures that there is enough memory available for training."
   ]
  },
  {
   "cell_type": "code",
   "execution_count": 15,
   "id": "f94d4748",
   "metadata": {
    "execution": {
     "iopub.execute_input": "2025-02-01T12:21:56.887521Z",
     "iopub.status.busy": "2025-02-01T12:21:56.887253Z",
     "iopub.status.idle": "2025-02-01T12:21:56.890295Z",
     "shell.execute_reply": "2025-02-01T12:21:56.889687Z"
    },
    "papermill": {
     "duration": 0.012375,
     "end_time": "2025-02-01T12:21:56.891536",
     "exception": false,
     "start_time": "2025-02-01T12:21:56.879161",
     "status": "completed"
    },
    "tags": []
   },
   "outputs": [],
   "source": [
    "torch.cuda.empty_cache()"
   ]
  },
  {
   "cell_type": "markdown",
   "id": "cd4e27ba",
   "metadata": {
    "papermill": {
     "duration": 0.007179,
     "end_time": "2025-02-01T12:21:56.906510",
     "exception": false,
     "start_time": "2025-02-01T12:21:56.899331",
     "status": "completed"
    },
    "tags": []
   },
   "source": [
    "### Train the Model\n",
    "\n",
    "\n",
    "- **Purpose**: Train the model using the configured Trainer.\n",
    "- **Notes**: The model is trained for the specified number of epochs."
   ]
  },
  {
   "cell_type": "code",
   "execution_count": 16,
   "id": "9e6a189e",
   "metadata": {
    "execution": {
     "iopub.execute_input": "2025-02-01T12:21:56.921965Z",
     "iopub.status.busy": "2025-02-01T12:21:56.921739Z",
     "iopub.status.idle": "2025-02-01T12:40:55.913850Z",
     "shell.execute_reply": "2025-02-01T12:40:55.912983Z"
    },
    "papermill": {
     "duration": 1139.001329,
     "end_time": "2025-02-01T12:40:55.915080",
     "exception": false,
     "start_time": "2025-02-01T12:21:56.913751",
     "status": "completed"
    },
    "tags": []
   },
   "outputs": [
    {
     "data": {
      "text/html": [
       "\n",
       "    <div>\n",
       "      \n",
       "      <progress value='1350' max='1350' style='width:300px; height:20px; vertical-align: middle;'></progress>\n",
       "      [1350/1350 18:57, Epoch 3/3]\n",
       "    </div>\n",
       "    <table border=\"1\" class=\"dataframe\">\n",
       "  <thead>\n",
       " <tr style=\"text-align: left;\">\n",
       "      <th>Epoch</th>\n",
       "      <th>Training Loss</th>\n",
       "      <th>Validation Loss</th>\n",
       "      <th>Accuracy</th>\n",
       "      <th>Precision</th>\n",
       "      <th>Recall</th>\n",
       "      <th>F1</th>\n",
       "    </tr>\n",
       "  </thead>\n",
       "  <tbody>\n",
       "    <tr>\n",
       "      <td>1</td>\n",
       "      <td>0.942300</td>\n",
       "      <td>1.050014</td>\n",
       "      <td>0.488889</td>\n",
       "      <td>0.512821</td>\n",
       "      <td>0.341880</td>\n",
       "      <td>0.410256</td>\n",
       "    </tr>\n",
       "    <tr>\n",
       "      <td>2</td>\n",
       "      <td>0.858800</td>\n",
       "      <td>0.989795</td>\n",
       "      <td>0.484444</td>\n",
       "      <td>0.504202</td>\n",
       "      <td>0.512821</td>\n",
       "      <td>0.508475</td>\n",
       "    </tr>\n",
       "    <tr>\n",
       "      <td>3</td>\n",
       "      <td>0.608800</td>\n",
       "      <td>0.983975</td>\n",
       "      <td>0.466667</td>\n",
       "      <td>0.486486</td>\n",
       "      <td>0.461538</td>\n",
       "      <td>0.473684</td>\n",
       "    </tr>\n",
       "  </tbody>\n",
       "</table><p>"
      ],
      "text/plain": [
       "<IPython.core.display.HTML object>"
      ]
     },
     "metadata": {},
     "output_type": "display_data"
    },
    {
     "name": "stdout",
     "output_type": "stream",
     "text": [
      "CPU times: user 17min 19s, sys: 1min 39s, total: 18min 59s\n",
      "Wall time: 18min 58s\n"
     ]
    },
    {
     "data": {
      "text/plain": [
       "TrainOutput(global_step=1350, training_loss=0.8322746955023872, metrics={'train_runtime': 1138.6269, 'train_samples_per_second': 2.371, 'train_steps_per_second': 1.186, 'total_flos': 1.64462541668352e+16, 'train_loss': 0.8322746955023872, 'epoch': 3.0})"
      ]
     },
     "execution_count": 16,
     "metadata": {},
     "output_type": "execute_result"
    }
   ],
   "source": [
    "%%time\n",
    "trainer.train()"
   ]
  },
  {
   "cell_type": "code",
   "execution_count": 17,
   "id": "c5c6fb38",
   "metadata": {
    "execution": {
     "iopub.execute_input": "2025-02-01T12:40:55.931771Z",
     "iopub.status.busy": "2025-02-01T12:40:55.931515Z",
     "iopub.status.idle": "2025-02-01T12:40:55.942606Z",
     "shell.execute_reply": "2025-02-01T12:40:55.941821Z"
    },
    "papermill": {
     "duration": 0.020675,
     "end_time": "2025-02-01T12:40:55.943826",
     "exception": false,
     "start_time": "2025-02-01T12:40:55.923151",
     "status": "completed"
    },
    "tags": []
   },
   "outputs": [],
   "source": [
    "torch.cuda.empty_cache()"
   ]
  },
  {
   "cell_type": "markdown",
   "id": "b8d122f0",
   "metadata": {
    "papermill": {
     "duration": 0.007585,
     "end_time": "2025-02-01T12:40:55.959009",
     "exception": false,
     "start_time": "2025-02-01T12:40:55.951424",
     "status": "completed"
    },
    "tags": []
   },
   "source": [
    "## Section 7: Save Model"
   ]
  },
  {
   "cell_type": "markdown",
   "id": "1d18dec5",
   "metadata": {
    "papermill": {
     "duration": 0.007407,
     "end_time": "2025-02-01T12:40:55.974153",
     "exception": false,
     "start_time": "2025-02-01T12:40:55.966746",
     "status": "completed"
    },
    "tags": []
   },
   "source": [
    "### Save Model and Tokenizer\n",
    "\n",
    "- **Purpose**: Save the trained model and tokenizer for future use.\n",
    "- **Notes**: The model and tokenizer are saved to the specified directory."
   ]
  },
  {
   "cell_type": "code",
   "execution_count": 18,
   "id": "65551eda",
   "metadata": {
    "execution": {
     "iopub.execute_input": "2025-02-01T12:40:55.989883Z",
     "iopub.status.busy": "2025-02-01T12:40:55.989682Z",
     "iopub.status.idle": "2025-02-01T12:40:55.992456Z",
     "shell.execute_reply": "2025-02-01T12:40:55.991786Z"
    },
    "papermill": {
     "duration": 0.011886,
     "end_time": "2025-02-01T12:40:55.993606",
     "exception": false,
     "start_time": "2025-02-01T12:40:55.981720",
     "status": "completed"
    },
    "tags": []
   },
   "outputs": [],
   "source": [
    "# model.save_pretrained(\"./trained_gemma_predictor_model\")\n",
    "# tokenizer.save_pretrained(\"./trained_gemma_predictor_model\")"
   ]
  },
  {
   "cell_type": "markdown",
   "id": "fc2e0e6d",
   "metadata": {
    "papermill": {
     "duration": 0.007456,
     "end_time": "2025-02-01T12:40:56.008628",
     "exception": false,
     "start_time": "2025-02-01T12:40:56.001172",
     "status": "completed"
    },
    "tags": []
   },
   "source": [
    "## Section 8: Prediction Function"
   ]
  },
  {
   "cell_type": "markdown",
   "id": "e8c93226",
   "metadata": {
    "papermill": {
     "duration": 0.007768,
     "end_time": "2025-02-01T12:40:56.023963",
     "exception": false,
     "start_time": "2025-02-01T12:40:56.016195",
     "status": "completed"
    },
    "tags": []
   },
   "source": [
    "### Define Prediction Function\n",
    "\n",
    "\n",
    "- **Purpose**: Define a function to predict the better response given a prompt and two responses, based on highest probability.\n",
    "- **Notes**:\n",
    "  - `tokenizer` tokenizes the input text.\n",
    "  - `model(**inputs)` generates predictions.\n",
    "  - `torch.nn.functional.softmax` converts logits to probabilities."
   ]
  },
  {
   "cell_type": "code",
   "execution_count": 19,
   "id": "450502ed",
   "metadata": {
    "execution": {
     "iopub.execute_input": "2025-02-01T12:40:56.039838Z",
     "iopub.status.busy": "2025-02-01T12:40:56.039641Z",
     "iopub.status.idle": "2025-02-01T12:40:56.043622Z",
     "shell.execute_reply": "2025-02-01T12:40:56.042979Z"
    },
    "papermill": {
     "duration": 0.013222,
     "end_time": "2025-02-01T12:40:56.044768",
     "exception": false,
     "start_time": "2025-02-01T12:40:56.031546",
     "status": "completed"
    },
    "tags": []
   },
   "outputs": [],
   "source": [
    "def predict(prompt, response_a, response_b):\n",
    "    input_text = f\"Prompt: {prompt} | Response A: {response_a} | Response B: {response_b}\"\n",
    "    inputs = tokenizer(input_text, return_tensors=\"pt\", padding=True, truncation=True, max_length=512).to(device)\n",
    "    outputs = model(**inputs)\n",
    "    probabilities = torch.nn.functional.softmax(outputs.logits, dim=-1)\n",
    "    return \"model_a\" if probabilities[0][0] > probabilities[0][1] else \"model_b\""
   ]
  },
  {
   "cell_type": "markdown",
   "id": "b2d99a50",
   "metadata": {
    "papermill": {
     "duration": 0.007321,
     "end_time": "2025-02-01T12:40:56.059598",
     "exception": false,
     "start_time": "2025-02-01T12:40:56.052277",
     "status": "completed"
    },
    "tags": []
   },
   "source": [
    "## Section 9: Evaluate Responses"
   ]
  },
  {
   "cell_type": "markdown",
   "id": "be87ba75",
   "metadata": {
    "papermill": {
     "duration": 0.007294,
     "end_time": "2025-02-01T12:40:56.074416",
     "exception": false,
     "start_time": "2025-02-01T12:40:56.067122",
     "status": "completed"
    },
    "tags": []
   },
   "source": [
    "### Evaluate Responses\n",
    "- **Purpose**: Evaluate responses on the test dataset.\n",
    "- **Notes**:\n",
    "  - `evaluate_responses` iterates over the test data and predicts the better response for each row."
   ]
  },
  {
   "cell_type": "code",
   "execution_count": 20,
   "id": "b3b3177f",
   "metadata": {
    "execution": {
     "iopub.execute_input": "2025-02-01T12:40:56.089995Z",
     "iopub.status.busy": "2025-02-01T12:40:56.089799Z",
     "iopub.status.idle": "2025-02-01T12:40:56.093195Z",
     "shell.execute_reply": "2025-02-01T12:40:56.092568Z"
    },
    "papermill": {
     "duration": 0.01241,
     "end_time": "2025-02-01T12:40:56.094289",
     "exception": false,
     "start_time": "2025-02-01T12:40:56.081879",
     "status": "completed"
    },
    "tags": []
   },
   "outputs": [],
   "source": [
    "def evaluate_responses(test_data):\n",
    "    results = []\n",
    "    for _, row in test_data.iterrows():\n",
    "        results.append({\n",
    "            'id': row[\"id\"],\n",
    "            'winner': predict(row[\"prompt\"], row[\"response_a\"], row[\"response_b\"])\n",
    "        })\n",
    "    return pd.DataFrame(results)"
   ]
  },
  {
   "cell_type": "markdown",
   "id": "cc154f1a",
   "metadata": {
    "papermill": {
     "duration": 0.007488,
     "end_time": "2025-02-01T12:40:56.109323",
     "exception": false,
     "start_time": "2025-02-01T12:40:56.101835",
     "status": "completed"
    },
    "tags": []
   },
   "source": [
    "## Section 10: Generate Submission"
   ]
  },
  {
   "cell_type": "markdown",
   "id": "8c64cc8f",
   "metadata": {
    "papermill": {
     "duration": 0.007456,
     "end_time": "2025-02-01T12:40:56.124404",
     "exception": false,
     "start_time": "2025-02-01T12:40:56.116948",
     "status": "completed"
    },
    "tags": []
   },
   "source": [
    "### Generate and Save Submission\n",
    "- **Purpose**: Generate predictions for the test dataset and save them to a CSV file.\n",
    "- **Notes**:\n",
    "  - `results_df.to_csv(\"submission.csv\", index=False)` saves the results to a CSV file.\n",
    "  - `print(results_df.head())` prints the first few rows of the results."
   ]
  },
  {
   "cell_type": "code",
   "execution_count": 21,
   "id": "19c5f556",
   "metadata": {
    "execution": {
     "iopub.execute_input": "2025-02-01T12:40:56.140444Z",
     "iopub.status.busy": "2025-02-01T12:40:56.140241Z",
     "iopub.status.idle": "2025-02-01T12:40:57.236316Z",
     "shell.execute_reply": "2025-02-01T12:40:57.235327Z"
    },
    "papermill": {
     "duration": 1.105859,
     "end_time": "2025-02-01T12:40:57.237806",
     "exception": false,
     "start_time": "2025-02-01T12:40:56.131947",
     "status": "completed"
    },
    "tags": []
   },
   "outputs": [
    {
     "name": "stdout",
     "output_type": "stream",
     "text": [
      "        id   winner\n",
      "0   327228  model_a\n",
      "1  1139415  model_a\n",
      "2  1235630  model_a\n"
     ]
    }
   ],
   "source": [
    "results_df = evaluate_responses(test_data)\n",
    "results_df.to_csv(\"submission.csv\", index=False)\n",
    "print(results_df.head())"
   ]
  }
 ],
 "metadata": {
  "kaggle": {
   "accelerator": "gpu",
   "dataSources": [
    {
     "databundleVersionId": 10131489,
     "sourceId": 86946,
     "sourceType": "competition"
    },
    {
     "databundleVersionId": 10413908,
     "datasetId": 6251858,
     "sourceId": 10130260,
     "sourceType": "datasetVersion"
    },
    {
     "databundleVersionId": 10815760,
     "datasetId": 6494800,
     "sourceId": 10489754,
     "sourceType": "datasetVersion"
    },
    {
     "databundleVersionId": 8202256,
     "modelInstanceId": 8318,
     "sourceId": 28785,
     "sourceType": "modelInstanceVersion"
    }
   ],
   "dockerImageVersionId": 30839,
   "isGpuEnabled": true,
   "isInternetEnabled": true,
   "language": "python",
   "sourceType": "notebook"
  },
  "kernelspec": {
   "display_name": "Python 3",
   "language": "python",
   "name": "python3"
  },
  "language_info": {
   "codemirror_mode": {
    "name": "ipython",
    "version": 3
   },
   "file_extension": ".py",
   "mimetype": "text/x-python",
   "name": "python",
   "nbconvert_exporter": "python",
   "pygments_lexer": "ipython3",
   "version": "3.10.12"
  },
  "papermill": {
   "default_parameters": {},
   "duration": 1207.249572,
   "end_time": "2025-02-01T12:41:00.388375",
   "environment_variables": {},
   "exception": null,
   "input_path": "__notebook__.ipynb",
   "output_path": "__notebook__.ipynb",
   "parameters": {},
   "start_time": "2025-02-01T12:20:53.138803",
   "version": "2.6.0"
  },
  "widgets": {
   "application/vnd.jupyter.widget-state+json": {
    "state": {
     "00f7b6baf0114537957b9e4d3675e3b0": {
      "model_module": "@jupyter-widgets/base",
      "model_module_version": "2.0.0",
      "model_name": "LayoutModel",
      "state": {
       "_model_module": "@jupyter-widgets/base",
       "_model_module_version": "2.0.0",
       "_model_name": "LayoutModel",
       "_view_count": null,
       "_view_module": "@jupyter-widgets/base",
       "_view_module_version": "2.0.0",
       "_view_name": "LayoutView",
       "align_content": null,
       "align_items": null,
       "align_self": null,
       "border_bottom": null,
       "border_left": null,
       "border_right": null,
       "border_top": null,
       "bottom": null,
       "display": null,
       "flex": null,
       "flex_flow": null,
       "grid_area": null,
       "grid_auto_columns": null,
       "grid_auto_flow": null,
       "grid_auto_rows": null,
       "grid_column": null,
       "grid_gap": null,
       "grid_row": null,
       "grid_template_areas": null,
       "grid_template_columns": null,
       "grid_template_rows": null,
       "height": null,
       "justify_content": null,
       "justify_items": null,
       "left": null,
       "margin": null,
       "max_height": null,
       "max_width": null,
       "min_height": null,
       "min_width": null,
       "object_fit": null,
       "object_position": null,
       "order": null,
       "overflow": null,
       "padding": null,
       "right": null,
       "top": null,
       "visibility": null,
       "width": null
      }
     },
     "08394ee5eed64b728541183e3fe14a7e": {
      "model_module": "@jupyter-widgets/base",
      "model_module_version": "2.0.0",
      "model_name": "LayoutModel",
      "state": {
       "_model_module": "@jupyter-widgets/base",
       "_model_module_version": "2.0.0",
       "_model_name": "LayoutModel",
       "_view_count": null,
       "_view_module": "@jupyter-widgets/base",
       "_view_module_version": "2.0.0",
       "_view_name": "LayoutView",
       "align_content": null,
       "align_items": null,
       "align_self": null,
       "border_bottom": null,
       "border_left": null,
       "border_right": null,
       "border_top": null,
       "bottom": null,
       "display": null,
       "flex": null,
       "flex_flow": null,
       "grid_area": null,
       "grid_auto_columns": null,
       "grid_auto_flow": null,
       "grid_auto_rows": null,
       "grid_column": null,
       "grid_gap": null,
       "grid_row": null,
       "grid_template_areas": null,
       "grid_template_columns": null,
       "grid_template_rows": null,
       "height": null,
       "justify_content": null,
       "justify_items": null,
       "left": null,
       "margin": null,
       "max_height": null,
       "max_width": null,
       "min_height": null,
       "min_width": null,
       "object_fit": null,
       "object_position": null,
       "order": null,
       "overflow": null,
       "padding": null,
       "right": null,
       "top": null,
       "visibility": null,
       "width": null
      }
     },
     "0d6d7099b87a4730b459a7d56889012b": {
      "model_module": "@jupyter-widgets/controls",
      "model_module_version": "2.0.0",
      "model_name": "HTMLStyleModel",
      "state": {
       "_model_module": "@jupyter-widgets/controls",
       "_model_module_version": "2.0.0",
       "_model_name": "HTMLStyleModel",
       "_view_count": null,
       "_view_module": "@jupyter-widgets/base",
       "_view_module_version": "2.0.0",
       "_view_name": "StyleView",
       "background": null,
       "description_width": "",
       "font_size": null,
       "text_color": null
      }
     },
     "1b388b23a0b5417bba5bfd6239176068": {
      "model_module": "@jupyter-widgets/base",
      "model_module_version": "2.0.0",
      "model_name": "LayoutModel",
      "state": {
       "_model_module": "@jupyter-widgets/base",
       "_model_module_version": "2.0.0",
       "_model_name": "LayoutModel",
       "_view_count": null,
       "_view_module": "@jupyter-widgets/base",
       "_view_module_version": "2.0.0",
       "_view_name": "LayoutView",
       "align_content": null,
       "align_items": null,
       "align_self": null,
       "border_bottom": null,
       "border_left": null,
       "border_right": null,
       "border_top": null,
       "bottom": null,
       "display": null,
       "flex": null,
       "flex_flow": null,
       "grid_area": null,
       "grid_auto_columns": null,
       "grid_auto_flow": null,
       "grid_auto_rows": null,
       "grid_column": null,
       "grid_gap": null,
       "grid_row": null,
       "grid_template_areas": null,
       "grid_template_columns": null,
       "grid_template_rows": null,
       "height": null,
       "justify_content": null,
       "justify_items": null,
       "left": null,
       "margin": null,
       "max_height": null,
       "max_width": null,
       "min_height": null,
       "min_width": null,
       "object_fit": null,
       "object_position": null,
       "order": null,
       "overflow": null,
       "padding": null,
       "right": null,
       "top": null,
       "visibility": null,
       "width": null
      }
     },
     "24569105d720493a9affbbee478c67ae": {
      "model_module": "@jupyter-widgets/controls",
      "model_module_version": "2.0.0",
      "model_name": "HTMLModel",
      "state": {
       "_dom_classes": [],
       "_model_module": "@jupyter-widgets/controls",
       "_model_module_version": "2.0.0",
       "_model_name": "HTMLModel",
       "_view_count": null,
       "_view_module": "@jupyter-widgets/controls",
       "_view_module_version": "2.0.0",
       "_view_name": "HTMLView",
       "description": "",
       "description_allow_html": false,
       "layout": "IPY_MODEL_1b388b23a0b5417bba5bfd6239176068",
       "placeholder": "​",
       "style": "IPY_MODEL_a92b432365dc43cc91a861b999141d17",
       "tabbable": null,
       "tooltip": null,
       "value": " 2/2 [00:25&lt;00:00, 10.79s/it]"
      }
     },
     "2a1b5bc3ea9f4ab5ab297a3aeda4f4fa": {
      "model_module": "@jupyter-widgets/controls",
      "model_module_version": "2.0.0",
      "model_name": "ProgressStyleModel",
      "state": {
       "_model_module": "@jupyter-widgets/controls",
       "_model_module_version": "2.0.0",
       "_model_name": "ProgressStyleModel",
       "_view_count": null,
       "_view_module": "@jupyter-widgets/base",
       "_view_module_version": "2.0.0",
       "_view_name": "StyleView",
       "bar_color": null,
       "description_width": ""
      }
     },
     "37e0c105f80246deb573281d78f49e99": {
      "model_module": "@jupyter-widgets/base",
      "model_module_version": "2.0.0",
      "model_name": "LayoutModel",
      "state": {
       "_model_module": "@jupyter-widgets/base",
       "_model_module_version": "2.0.0",
       "_model_name": "LayoutModel",
       "_view_count": null,
       "_view_module": "@jupyter-widgets/base",
       "_view_module_version": "2.0.0",
       "_view_name": "LayoutView",
       "align_content": null,
       "align_items": null,
       "align_self": null,
       "border_bottom": null,
       "border_left": null,
       "border_right": null,
       "border_top": null,
       "bottom": null,
       "display": null,
       "flex": null,
       "flex_flow": null,
       "grid_area": null,
       "grid_auto_columns": null,
       "grid_auto_flow": null,
       "grid_auto_rows": null,
       "grid_column": null,
       "grid_gap": null,
       "grid_row": null,
       "grid_template_areas": null,
       "grid_template_columns": null,
       "grid_template_rows": null,
       "height": null,
       "justify_content": null,
       "justify_items": null,
       "left": null,
       "margin": null,
       "max_height": null,
       "max_width": null,
       "min_height": null,
       "min_width": null,
       "object_fit": null,
       "object_position": null,
       "order": null,
       "overflow": null,
       "padding": null,
       "right": null,
       "top": null,
       "visibility": null,
       "width": null
      }
     },
     "38dd9efe5d5f4b6892352213e0a90139": {
      "model_module": "@jupyter-widgets/base",
      "model_module_version": "2.0.0",
      "model_name": "LayoutModel",
      "state": {
       "_model_module": "@jupyter-widgets/base",
       "_model_module_version": "2.0.0",
       "_model_name": "LayoutModel",
       "_view_count": null,
       "_view_module": "@jupyter-widgets/base",
       "_view_module_version": "2.0.0",
       "_view_name": "LayoutView",
       "align_content": null,
       "align_items": null,
       "align_self": null,
       "border_bottom": null,
       "border_left": null,
       "border_right": null,
       "border_top": null,
       "bottom": null,
       "display": null,
       "flex": null,
       "flex_flow": null,
       "grid_area": null,
       "grid_auto_columns": null,
       "grid_auto_flow": null,
       "grid_auto_rows": null,
       "grid_column": null,
       "grid_gap": null,
       "grid_row": null,
       "grid_template_areas": null,
       "grid_template_columns": null,
       "grid_template_rows": null,
       "height": null,
       "justify_content": null,
       "justify_items": null,
       "left": null,
       "margin": null,
       "max_height": null,
       "max_width": null,
       "min_height": null,
       "min_width": null,
       "object_fit": null,
       "object_position": null,
       "order": null,
       "overflow": null,
       "padding": null,
       "right": null,
       "top": null,
       "visibility": null,
       "width": null
      }
     },
     "3b01c34742db41c0b56e5656349aa047": {
      "model_module": "@jupyter-widgets/controls",
      "model_module_version": "2.0.0",
      "model_name": "HTMLModel",
      "state": {
       "_dom_classes": [],
       "_model_module": "@jupyter-widgets/controls",
       "_model_module_version": "2.0.0",
       "_model_name": "HTMLModel",
       "_view_count": null,
       "_view_module": "@jupyter-widgets/controls",
       "_view_module_version": "2.0.0",
       "_view_name": "HTMLView",
       "description": "",
       "description_allow_html": false,
       "layout": "IPY_MODEL_846a1e76a0bf4fa1bda097595903e59b",
       "placeholder": "​",
       "style": "IPY_MODEL_5af2d581e2b34181bb5831737f893773",
       "tabbable": null,
       "tooltip": null,
       "value": "Loading checkpoint shards: 100%"
      }
     },
     "3d6a1f7257764ea8b64a728748e5d2f9": {
      "model_module": "@jupyter-widgets/controls",
      "model_module_version": "2.0.0",
      "model_name": "HTMLStyleModel",
      "state": {
       "_model_module": "@jupyter-widgets/controls",
       "_model_module_version": "2.0.0",
       "_model_name": "HTMLStyleModel",
       "_view_count": null,
       "_view_module": "@jupyter-widgets/base",
       "_view_module_version": "2.0.0",
       "_view_name": "StyleView",
       "background": null,
       "description_width": "",
       "font_size": null,
       "text_color": null
      }
     },
     "567a1fa3ea6347e0b8eb7e066c82c395": {
      "model_module": "@jupyter-widgets/controls",
      "model_module_version": "2.0.0",
      "model_name": "HTMLModel",
      "state": {
       "_dom_classes": [],
       "_model_module": "@jupyter-widgets/controls",
       "_model_module_version": "2.0.0",
       "_model_name": "HTMLModel",
       "_view_count": null,
       "_view_module": "@jupyter-widgets/controls",
       "_view_module_version": "2.0.0",
       "_view_name": "HTMLView",
       "description": "",
       "description_allow_html": false,
       "layout": "IPY_MODEL_37e0c105f80246deb573281d78f49e99",
       "placeholder": "​",
       "style": "IPY_MODEL_0d6d7099b87a4730b459a7d56889012b",
       "tabbable": null,
       "tooltip": null,
       "value": " 225/225 [00:00&lt;00:00, 635.17 examples/s]"
      }
     },
     "5766433962e4436699efd9b59e664f55": {
      "model_module": "@jupyter-widgets/controls",
      "model_module_version": "2.0.0",
      "model_name": "FloatProgressModel",
      "state": {
       "_dom_classes": [],
       "_model_module": "@jupyter-widgets/controls",
       "_model_module_version": "2.0.0",
       "_model_name": "FloatProgressModel",
       "_view_count": null,
       "_view_module": "@jupyter-widgets/controls",
       "_view_module_version": "2.0.0",
       "_view_name": "ProgressView",
       "bar_style": "success",
       "description": "",
       "description_allow_html": false,
       "layout": "IPY_MODEL_edc5cdf471b14c569993ed326e5acd2f",
       "max": 900.0,
       "min": 0.0,
       "orientation": "horizontal",
       "style": "IPY_MODEL_70fc4127f74749599cc538898ec06de8",
       "tabbable": null,
       "tooltip": null,
       "value": 900.0
      }
     },
     "5af2d581e2b34181bb5831737f893773": {
      "model_module": "@jupyter-widgets/controls",
      "model_module_version": "2.0.0",
      "model_name": "HTMLStyleModel",
      "state": {
       "_model_module": "@jupyter-widgets/controls",
       "_model_module_version": "2.0.0",
       "_model_name": "HTMLStyleModel",
       "_view_count": null,
       "_view_module": "@jupyter-widgets/base",
       "_view_module_version": "2.0.0",
       "_view_name": "StyleView",
       "background": null,
       "description_width": "",
       "font_size": null,
       "text_color": null
      }
     },
     "5e9b6e2bdef0453dbc1523dc1ccad399": {
      "model_module": "@jupyter-widgets/base",
      "model_module_version": "2.0.0",
      "model_name": "LayoutModel",
      "state": {
       "_model_module": "@jupyter-widgets/base",
       "_model_module_version": "2.0.0",
       "_model_name": "LayoutModel",
       "_view_count": null,
       "_view_module": "@jupyter-widgets/base",
       "_view_module_version": "2.0.0",
       "_view_name": "LayoutView",
       "align_content": null,
       "align_items": null,
       "align_self": null,
       "border_bottom": null,
       "border_left": null,
       "border_right": null,
       "border_top": null,
       "bottom": null,
       "display": null,
       "flex": null,
       "flex_flow": null,
       "grid_area": null,
       "grid_auto_columns": null,
       "grid_auto_flow": null,
       "grid_auto_rows": null,
       "grid_column": null,
       "grid_gap": null,
       "grid_row": null,
       "grid_template_areas": null,
       "grid_template_columns": null,
       "grid_template_rows": null,
       "height": null,
       "justify_content": null,
       "justify_items": null,
       "left": null,
       "margin": null,
       "max_height": null,
       "max_width": null,
       "min_height": null,
       "min_width": null,
       "object_fit": null,
       "object_position": null,
       "order": null,
       "overflow": null,
       "padding": null,
       "right": null,
       "top": null,
       "visibility": null,
       "width": null
      }
     },
     "67b02fbd0b414e15b684decf1a6da608": {
      "model_module": "@jupyter-widgets/controls",
      "model_module_version": "2.0.0",
      "model_name": "HTMLModel",
      "state": {
       "_dom_classes": [],
       "_model_module": "@jupyter-widgets/controls",
       "_model_module_version": "2.0.0",
       "_model_name": "HTMLModel",
       "_view_count": null,
       "_view_module": "@jupyter-widgets/controls",
       "_view_module_version": "2.0.0",
       "_view_name": "HTMLView",
       "description": "",
       "description_allow_html": false,
       "layout": "IPY_MODEL_74a1793e1d93497f9e932c8e32c3724a",
       "placeholder": "​",
       "style": "IPY_MODEL_7eacf85498854e3099aedfa3a0424f76",
       "tabbable": null,
       "tooltip": null,
       "value": " 900/900 [00:01&lt;00:00, 758.55 examples/s]"
      }
     },
     "70fc4127f74749599cc538898ec06de8": {
      "model_module": "@jupyter-widgets/controls",
      "model_module_version": "2.0.0",
      "model_name": "ProgressStyleModel",
      "state": {
       "_model_module": "@jupyter-widgets/controls",
       "_model_module_version": "2.0.0",
       "_model_name": "ProgressStyleModel",
       "_view_count": null,
       "_view_module": "@jupyter-widgets/base",
       "_view_module_version": "2.0.0",
       "_view_name": "StyleView",
       "bar_color": null,
       "description_width": ""
      }
     },
     "72cbef93c4124af28534cf4f6531d655": {
      "model_module": "@jupyter-widgets/controls",
      "model_module_version": "2.0.0",
      "model_name": "HBoxModel",
      "state": {
       "_dom_classes": [],
       "_model_module": "@jupyter-widgets/controls",
       "_model_module_version": "2.0.0",
       "_model_name": "HBoxModel",
       "_view_count": null,
       "_view_module": "@jupyter-widgets/controls",
       "_view_module_version": "2.0.0",
       "_view_name": "HBoxView",
       "box_style": "",
       "children": [
        "IPY_MODEL_3b01c34742db41c0b56e5656349aa047",
        "IPY_MODEL_92814cf4afe346c5aaddb4198cfc1424",
        "IPY_MODEL_24569105d720493a9affbbee478c67ae"
       ],
       "layout": "IPY_MODEL_a926342f597c4b988760b309809d2d1a",
       "tabbable": null,
       "tooltip": null
      }
     },
     "74a1793e1d93497f9e932c8e32c3724a": {
      "model_module": "@jupyter-widgets/base",
      "model_module_version": "2.0.0",
      "model_name": "LayoutModel",
      "state": {
       "_model_module": "@jupyter-widgets/base",
       "_model_module_version": "2.0.0",
       "_model_name": "LayoutModel",
       "_view_count": null,
       "_view_module": "@jupyter-widgets/base",
       "_view_module_version": "2.0.0",
       "_view_name": "LayoutView",
       "align_content": null,
       "align_items": null,
       "align_self": null,
       "border_bottom": null,
       "border_left": null,
       "border_right": null,
       "border_top": null,
       "bottom": null,
       "display": null,
       "flex": null,
       "flex_flow": null,
       "grid_area": null,
       "grid_auto_columns": null,
       "grid_auto_flow": null,
       "grid_auto_rows": null,
       "grid_column": null,
       "grid_gap": null,
       "grid_row": null,
       "grid_template_areas": null,
       "grid_template_columns": null,
       "grid_template_rows": null,
       "height": null,
       "justify_content": null,
       "justify_items": null,
       "left": null,
       "margin": null,
       "max_height": null,
       "max_width": null,
       "min_height": null,
       "min_width": null,
       "object_fit": null,
       "object_position": null,
       "order": null,
       "overflow": null,
       "padding": null,
       "right": null,
       "top": null,
       "visibility": null,
       "width": null
      }
     },
     "7eacf85498854e3099aedfa3a0424f76": {
      "model_module": "@jupyter-widgets/controls",
      "model_module_version": "2.0.0",
      "model_name": "HTMLStyleModel",
      "state": {
       "_model_module": "@jupyter-widgets/controls",
       "_model_module_version": "2.0.0",
       "_model_name": "HTMLStyleModel",
       "_view_count": null,
       "_view_module": "@jupyter-widgets/base",
       "_view_module_version": "2.0.0",
       "_view_name": "StyleView",
       "background": null,
       "description_width": "",
       "font_size": null,
       "text_color": null
      }
     },
     "842f6308c00e497383373108d362ad21": {
      "model_module": "@jupyter-widgets/controls",
      "model_module_version": "2.0.0",
      "model_name": "HTMLStyleModel",
      "state": {
       "_model_module": "@jupyter-widgets/controls",
       "_model_module_version": "2.0.0",
       "_model_name": "HTMLStyleModel",
       "_view_count": null,
       "_view_module": "@jupyter-widgets/base",
       "_view_module_version": "2.0.0",
       "_view_name": "StyleView",
       "background": null,
       "description_width": "",
       "font_size": null,
       "text_color": null
      }
     },
     "846a1e76a0bf4fa1bda097595903e59b": {
      "model_module": "@jupyter-widgets/base",
      "model_module_version": "2.0.0",
      "model_name": "LayoutModel",
      "state": {
       "_model_module": "@jupyter-widgets/base",
       "_model_module_version": "2.0.0",
       "_model_name": "LayoutModel",
       "_view_count": null,
       "_view_module": "@jupyter-widgets/base",
       "_view_module_version": "2.0.0",
       "_view_name": "LayoutView",
       "align_content": null,
       "align_items": null,
       "align_self": null,
       "border_bottom": null,
       "border_left": null,
       "border_right": null,
       "border_top": null,
       "bottom": null,
       "display": null,
       "flex": null,
       "flex_flow": null,
       "grid_area": null,
       "grid_auto_columns": null,
       "grid_auto_flow": null,
       "grid_auto_rows": null,
       "grid_column": null,
       "grid_gap": null,
       "grid_row": null,
       "grid_template_areas": null,
       "grid_template_columns": null,
       "grid_template_rows": null,
       "height": null,
       "justify_content": null,
       "justify_items": null,
       "left": null,
       "margin": null,
       "max_height": null,
       "max_width": null,
       "min_height": null,
       "min_width": null,
       "object_fit": null,
       "object_position": null,
       "order": null,
       "overflow": null,
       "padding": null,
       "right": null,
       "top": null,
       "visibility": null,
       "width": null
      }
     },
     "85524354dc614c34941d350ea2c2e2b3": {
      "model_module": "@jupyter-widgets/base",
      "model_module_version": "2.0.0",
      "model_name": "LayoutModel",
      "state": {
       "_model_module": "@jupyter-widgets/base",
       "_model_module_version": "2.0.0",
       "_model_name": "LayoutModel",
       "_view_count": null,
       "_view_module": "@jupyter-widgets/base",
       "_view_module_version": "2.0.0",
       "_view_name": "LayoutView",
       "align_content": null,
       "align_items": null,
       "align_self": null,
       "border_bottom": null,
       "border_left": null,
       "border_right": null,
       "border_top": null,
       "bottom": null,
       "display": null,
       "flex": null,
       "flex_flow": null,
       "grid_area": null,
       "grid_auto_columns": null,
       "grid_auto_flow": null,
       "grid_auto_rows": null,
       "grid_column": null,
       "grid_gap": null,
       "grid_row": null,
       "grid_template_areas": null,
       "grid_template_columns": null,
       "grid_template_rows": null,
       "height": null,
       "justify_content": null,
       "justify_items": null,
       "left": null,
       "margin": null,
       "max_height": null,
       "max_width": null,
       "min_height": null,
       "min_width": null,
       "object_fit": null,
       "object_position": null,
       "order": null,
       "overflow": null,
       "padding": null,
       "right": null,
       "top": null,
       "visibility": null,
       "width": null
      }
     },
     "92814cf4afe346c5aaddb4198cfc1424": {
      "model_module": "@jupyter-widgets/controls",
      "model_module_version": "2.0.0",
      "model_name": "FloatProgressModel",
      "state": {
       "_dom_classes": [],
       "_model_module": "@jupyter-widgets/controls",
       "_model_module_version": "2.0.0",
       "_model_name": "FloatProgressModel",
       "_view_count": null,
       "_view_module": "@jupyter-widgets/controls",
       "_view_module_version": "2.0.0",
       "_view_name": "ProgressView",
       "bar_style": "success",
       "description": "",
       "description_allow_html": false,
       "layout": "IPY_MODEL_85524354dc614c34941d350ea2c2e2b3",
       "max": 2.0,
       "min": 0.0,
       "orientation": "horizontal",
       "style": "IPY_MODEL_dc605a6edde0487183f3da5d099c75a1",
       "tabbable": null,
       "tooltip": null,
       "value": 2.0
      }
     },
     "97f530249e83460db15e60ce4d446381": {
      "model_module": "@jupyter-widgets/controls",
      "model_module_version": "2.0.0",
      "model_name": "HBoxModel",
      "state": {
       "_dom_classes": [],
       "_model_module": "@jupyter-widgets/controls",
       "_model_module_version": "2.0.0",
       "_model_name": "HBoxModel",
       "_view_count": null,
       "_view_module": "@jupyter-widgets/controls",
       "_view_module_version": "2.0.0",
       "_view_name": "HBoxView",
       "box_style": "",
       "children": [
        "IPY_MODEL_ffdd5878001d4c0d95e2c76d2ec4f45a",
        "IPY_MODEL_cdf7538a6e19452c857672f46ebf69cf",
        "IPY_MODEL_567a1fa3ea6347e0b8eb7e066c82c395"
       ],
       "layout": "IPY_MODEL_08394ee5eed64b728541183e3fe14a7e",
       "tabbable": null,
       "tooltip": null
      }
     },
     "9e3fb48e1388402fa09a7cdb758707ba": {
      "model_module": "@jupyter-widgets/controls",
      "model_module_version": "2.0.0",
      "model_name": "HBoxModel",
      "state": {
       "_dom_classes": [],
       "_model_module": "@jupyter-widgets/controls",
       "_model_module_version": "2.0.0",
       "_model_name": "HBoxModel",
       "_view_count": null,
       "_view_module": "@jupyter-widgets/controls",
       "_view_module_version": "2.0.0",
       "_view_name": "HBoxView",
       "box_style": "",
       "children": [
        "IPY_MODEL_ea997f2db17946fa9cc09bd10222cfea",
        "IPY_MODEL_5766433962e4436699efd9b59e664f55",
        "IPY_MODEL_67b02fbd0b414e15b684decf1a6da608"
       ],
       "layout": "IPY_MODEL_00f7b6baf0114537957b9e4d3675e3b0",
       "tabbable": null,
       "tooltip": null
      }
     },
     "a926342f597c4b988760b309809d2d1a": {
      "model_module": "@jupyter-widgets/base",
      "model_module_version": "2.0.0",
      "model_name": "LayoutModel",
      "state": {
       "_model_module": "@jupyter-widgets/base",
       "_model_module_version": "2.0.0",
       "_model_name": "LayoutModel",
       "_view_count": null,
       "_view_module": "@jupyter-widgets/base",
       "_view_module_version": "2.0.0",
       "_view_name": "LayoutView",
       "align_content": null,
       "align_items": null,
       "align_self": null,
       "border_bottom": null,
       "border_left": null,
       "border_right": null,
       "border_top": null,
       "bottom": null,
       "display": null,
       "flex": null,
       "flex_flow": null,
       "grid_area": null,
       "grid_auto_columns": null,
       "grid_auto_flow": null,
       "grid_auto_rows": null,
       "grid_column": null,
       "grid_gap": null,
       "grid_row": null,
       "grid_template_areas": null,
       "grid_template_columns": null,
       "grid_template_rows": null,
       "height": null,
       "justify_content": null,
       "justify_items": null,
       "left": null,
       "margin": null,
       "max_height": null,
       "max_width": null,
       "min_height": null,
       "min_width": null,
       "object_fit": null,
       "object_position": null,
       "order": null,
       "overflow": null,
       "padding": null,
       "right": null,
       "top": null,
       "visibility": null,
       "width": null
      }
     },
     "a92b432365dc43cc91a861b999141d17": {
      "model_module": "@jupyter-widgets/controls",
      "model_module_version": "2.0.0",
      "model_name": "HTMLStyleModel",
      "state": {
       "_model_module": "@jupyter-widgets/controls",
       "_model_module_version": "2.0.0",
       "_model_name": "HTMLStyleModel",
       "_view_count": null,
       "_view_module": "@jupyter-widgets/base",
       "_view_module_version": "2.0.0",
       "_view_name": "StyleView",
       "background": null,
       "description_width": "",
       "font_size": null,
       "text_color": null
      }
     },
     "cdf7538a6e19452c857672f46ebf69cf": {
      "model_module": "@jupyter-widgets/controls",
      "model_module_version": "2.0.0",
      "model_name": "FloatProgressModel",
      "state": {
       "_dom_classes": [],
       "_model_module": "@jupyter-widgets/controls",
       "_model_module_version": "2.0.0",
       "_model_name": "FloatProgressModel",
       "_view_count": null,
       "_view_module": "@jupyter-widgets/controls",
       "_view_module_version": "2.0.0",
       "_view_name": "ProgressView",
       "bar_style": "success",
       "description": "",
       "description_allow_html": false,
       "layout": "IPY_MODEL_5e9b6e2bdef0453dbc1523dc1ccad399",
       "max": 225.0,
       "min": 0.0,
       "orientation": "horizontal",
       "style": "IPY_MODEL_2a1b5bc3ea9f4ab5ab297a3aeda4f4fa",
       "tabbable": null,
       "tooltip": null,
       "value": 225.0
      }
     },
     "dc605a6edde0487183f3da5d099c75a1": {
      "model_module": "@jupyter-widgets/controls",
      "model_module_version": "2.0.0",
      "model_name": "ProgressStyleModel",
      "state": {
       "_model_module": "@jupyter-widgets/controls",
       "_model_module_version": "2.0.0",
       "_model_name": "ProgressStyleModel",
       "_view_count": null,
       "_view_module": "@jupyter-widgets/base",
       "_view_module_version": "2.0.0",
       "_view_name": "StyleView",
       "bar_color": null,
       "description_width": ""
      }
     },
     "ea997f2db17946fa9cc09bd10222cfea": {
      "model_module": "@jupyter-widgets/controls",
      "model_module_version": "2.0.0",
      "model_name": "HTMLModel",
      "state": {
       "_dom_classes": [],
       "_model_module": "@jupyter-widgets/controls",
       "_model_module_version": "2.0.0",
       "_model_name": "HTMLModel",
       "_view_count": null,
       "_view_module": "@jupyter-widgets/controls",
       "_view_module_version": "2.0.0",
       "_view_name": "HTMLView",
       "description": "",
       "description_allow_html": false,
       "layout": "IPY_MODEL_38dd9efe5d5f4b6892352213e0a90139",
       "placeholder": "​",
       "style": "IPY_MODEL_842f6308c00e497383373108d362ad21",
       "tabbable": null,
       "tooltip": null,
       "value": "Map: 100%"
      }
     },
     "edc5cdf471b14c569993ed326e5acd2f": {
      "model_module": "@jupyter-widgets/base",
      "model_module_version": "2.0.0",
      "model_name": "LayoutModel",
      "state": {
       "_model_module": "@jupyter-widgets/base",
       "_model_module_version": "2.0.0",
       "_model_name": "LayoutModel",
       "_view_count": null,
       "_view_module": "@jupyter-widgets/base",
       "_view_module_version": "2.0.0",
       "_view_name": "LayoutView",
       "align_content": null,
       "align_items": null,
       "align_self": null,
       "border_bottom": null,
       "border_left": null,
       "border_right": null,
       "border_top": null,
       "bottom": null,
       "display": null,
       "flex": null,
       "flex_flow": null,
       "grid_area": null,
       "grid_auto_columns": null,
       "grid_auto_flow": null,
       "grid_auto_rows": null,
       "grid_column": null,
       "grid_gap": null,
       "grid_row": null,
       "grid_template_areas": null,
       "grid_template_columns": null,
       "grid_template_rows": null,
       "height": null,
       "justify_content": null,
       "justify_items": null,
       "left": null,
       "margin": null,
       "max_height": null,
       "max_width": null,
       "min_height": null,
       "min_width": null,
       "object_fit": null,
       "object_position": null,
       "order": null,
       "overflow": null,
       "padding": null,
       "right": null,
       "top": null,
       "visibility": null,
       "width": null
      }
     },
     "fcbb8c3232a447c88452216b0597b9fd": {
      "model_module": "@jupyter-widgets/base",
      "model_module_version": "2.0.0",
      "model_name": "LayoutModel",
      "state": {
       "_model_module": "@jupyter-widgets/base",
       "_model_module_version": "2.0.0",
       "_model_name": "LayoutModel",
       "_view_count": null,
       "_view_module": "@jupyter-widgets/base",
       "_view_module_version": "2.0.0",
       "_view_name": "LayoutView",
       "align_content": null,
       "align_items": null,
       "align_self": null,
       "border_bottom": null,
       "border_left": null,
       "border_right": null,
       "border_top": null,
       "bottom": null,
       "display": null,
       "flex": null,
       "flex_flow": null,
       "grid_area": null,
       "grid_auto_columns": null,
       "grid_auto_flow": null,
       "grid_auto_rows": null,
       "grid_column": null,
       "grid_gap": null,
       "grid_row": null,
       "grid_template_areas": null,
       "grid_template_columns": null,
       "grid_template_rows": null,
       "height": null,
       "justify_content": null,
       "justify_items": null,
       "left": null,
       "margin": null,
       "max_height": null,
       "max_width": null,
       "min_height": null,
       "min_width": null,
       "object_fit": null,
       "object_position": null,
       "order": null,
       "overflow": null,
       "padding": null,
       "right": null,
       "top": null,
       "visibility": null,
       "width": null
      }
     },
     "ffdd5878001d4c0d95e2c76d2ec4f45a": {
      "model_module": "@jupyter-widgets/controls",
      "model_module_version": "2.0.0",
      "model_name": "HTMLModel",
      "state": {
       "_dom_classes": [],
       "_model_module": "@jupyter-widgets/controls",
       "_model_module_version": "2.0.0",
       "_model_name": "HTMLModel",
       "_view_count": null,
       "_view_module": "@jupyter-widgets/controls",
       "_view_module_version": "2.0.0",
       "_view_name": "HTMLView",
       "description": "",
       "description_allow_html": false,
       "layout": "IPY_MODEL_fcbb8c3232a447c88452216b0597b9fd",
       "placeholder": "​",
       "style": "IPY_MODEL_3d6a1f7257764ea8b64a728748e5d2f9",
       "tabbable": null,
       "tooltip": null,
       "value": "Map: 100%"
      }
     }
    },
    "version_major": 2,
    "version_minor": 0
   }
  }
 },
 "nbformat": 4,
 "nbformat_minor": 5
}

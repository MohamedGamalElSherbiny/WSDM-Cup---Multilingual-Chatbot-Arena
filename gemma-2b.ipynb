{
 "cells": [
  {
   "cell_type": "markdown",
   "id": "dd4a3a0a",
   "metadata": {
    "execution": {
     "iopub.execute_input": "2025-02-01T10:32:46.467849Z",
     "iopub.status.busy": "2025-02-01T10:32:46.467521Z",
     "iopub.status.idle": "2025-02-01T10:32:46.473996Z",
     "shell.execute_reply": "2025-02-01T10:32:46.472416Z",
     "shell.execute_reply.started": "2025-02-01T10:32:46.467822Z"
    },
    "papermill": {
     "duration": 0.008356,
     "end_time": "2025-02-01T12:43:59.234256",
     "exception": false,
     "start_time": "2025-02-01T12:43:59.225900",
     "status": "completed"
    },
    "tags": []
   },
   "source": [
    "# Gemma Classification Arena Notebook"
   ]
  },
  {
   "cell_type": "markdown",
   "id": "1838a1bf",
   "metadata": {
    "papermill": {
     "duration": 0.007385,
     "end_time": "2025-02-01T12:43:59.249152",
     "exception": false,
     "start_time": "2025-02-01T12:43:59.241767",
     "status": "completed"
    },
    "tags": []
   },
   "source": [
    "## Section 1: Import Libraries and Basic Configuration"
   ]
  },
  {
   "cell_type": "markdown",
   "id": "5b12ffb4",
   "metadata": {
    "papermill": {
     "duration": 0.006914,
     "end_time": "2025-02-01T12:43:59.262716",
     "exception": false,
     "start_time": "2025-02-01T12:43:59.255802",
     "status": "completed"
    },
    "tags": []
   },
   "source": [
    "### Import Libraries and Suppress Warnings"
   ]
  },
  {
   "cell_type": "markdown",
   "id": "5ad0704e",
   "metadata": {
    "papermill": {
     "duration": 0.006829,
     "end_time": "2025-02-01T12:43:59.276804",
     "exception": false,
     "start_time": "2025-02-01T12:43:59.269975",
     "status": "completed"
    },
    "tags": []
   },
   "source": [
    "- **Purpose**: Import necessary libraries and suppress warnings to keep the notebook clean.\n",
    "- **Notes**: \n",
    "  - `warnings.filterwarnings(\"ignore\")` suppresses all warnings.\n",
    "  - `logging.getLogger(\"transformers.modeling_utils\").setLevel(logging.ERROR)` reduces logging verbosity from the transformers library.\n"
   ]
  },
  {
   "cell_type": "code",
   "execution_count": 1,
   "id": "c7201fc2",
   "metadata": {
    "execution": {
     "iopub.execute_input": "2025-02-01T12:43:59.292231Z",
     "iopub.status.busy": "2025-02-01T12:43:59.291897Z",
     "iopub.status.idle": "2025-02-01T12:43:59.297062Z",
     "shell.execute_reply": "2025-02-01T12:43:59.296177Z"
    },
    "papermill": {
     "duration": 0.014481,
     "end_time": "2025-02-01T12:43:59.298339",
     "exception": false,
     "start_time": "2025-02-01T12:43:59.283858",
     "status": "completed"
    },
    "tags": []
   },
   "outputs": [],
   "source": [
    "import time\n",
    "import warnings\n",
    "warnings.filterwarnings(\"ignore\")\n",
    "\n",
    "import logging\n",
    "\n",
    "# Suppress warnings from the transformers library\n",
    "logging.getLogger(\"transformers.modeling_utils\").setLevel(logging.ERROR)"
   ]
  },
  {
   "cell_type": "markdown",
   "id": "dc0c2317",
   "metadata": {
    "papermill": {
     "duration": 0.007112,
     "end_time": "2025-02-01T12:43:59.312845",
     "exception": false,
     "start_time": "2025-02-01T12:43:59.305733",
     "status": "completed"
    },
    "tags": []
   },
   "source": [
    "### Import Additional Libraries"
   ]
  },
  {
   "cell_type": "markdown",
   "id": "64009e4e",
   "metadata": {
    "papermill": {
     "duration": 0.007069,
     "end_time": "2025-02-01T12:43:59.327250",
     "exception": false,
     "start_time": "2025-02-01T12:43:59.320181",
     "status": "completed"
    },
    "tags": []
   },
   "source": [
    "- **Purpose**: Import libraries for model training, evaluation, and data handling.\n",
    "- **Notes**:\n",
    "  - `transformers` provides tools for working with pre-trained models.\n",
    "  - `datasets` is used for handling datasets.\n",
    "  - `torch` is the PyTorch library for deep learning.\n",
    "  - `sklearn` provides metrics for model evaluation.\n",
    "  - `peft` is used for parameter-efficient fine-tuning.\n"
   ]
  },
  {
   "cell_type": "code",
   "execution_count": 2,
   "id": "a7b81aa4",
   "metadata": {
    "execution": {
     "iopub.execute_input": "2025-02-01T12:43:59.342497Z",
     "iopub.status.busy": "2025-02-01T12:43:59.342195Z",
     "iopub.status.idle": "2025-02-01T12:44:25.843319Z",
     "shell.execute_reply": "2025-02-01T12:44:25.842432Z"
    },
    "papermill": {
     "duration": 26.510289,
     "end_time": "2025-02-01T12:44:25.844818",
     "exception": false,
     "start_time": "2025-02-01T12:43:59.334529",
     "status": "completed"
    },
    "tags": []
   },
   "outputs": [
    {
     "name": "stdout",
     "output_type": "stream",
     "text": [
      "CPU times: user 16.4 s, sys: 2.62 s, total: 19 s\n",
      "Wall time: 26.5 s\n"
     ]
    }
   ],
   "source": [
    "%%time\n",
    "from transformers import (pipeline, AutoTokenizer, AutoModelForSequenceClassification, Trainer, TrainingArguments,\n",
    "                          AutoConfig, BitsAndBytesConfig, TextDataset, DataCollatorWithPadding)\n",
    "from datasets import Dataset\n",
    "import torch\n",
    "import pandas as pd\n",
    "import numpy as np\n",
    "from sklearn.model_selection import train_test_split\n",
    "from sklearn.metrics import accuracy_score, precision_recall_fscore_support\n",
    "from peft import PeftModel, get_peft_model, LoraConfig, TaskType"
   ]
  },
  {
   "cell_type": "markdown",
   "id": "6075b5e5",
   "metadata": {
    "papermill": {
     "duration": 0.007026,
     "end_time": "2025-02-01T12:44:25.859339",
     "exception": false,
     "start_time": "2025-02-01T12:44:25.852313",
     "status": "completed"
    },
    "tags": []
   },
   "source": [
    "### Ensure GPU Utilization"
   ]
  },
  {
   "cell_type": "markdown",
   "id": "d58eea76",
   "metadata": {
    "papermill": {
     "duration": 0.006999,
     "end_time": "2025-02-01T12:44:25.873379",
     "exception": false,
     "start_time": "2025-02-01T12:44:25.866380",
     "status": "completed"
    },
    "tags": []
   },
   "source": [
    "- **Purpose**: Ensure the model uses GPU if available and clear GPU memory.\n",
    "- **Notes**:\n",
    "  - `torch.cuda.is_available()` checks if a GPU is available.\n",
    "  - `torch.cuda.empty_cache()` clears unused memory from the GPU.\n"
   ]
  },
  {
   "cell_type": "code",
   "execution_count": 3,
   "id": "fa0bb7c6",
   "metadata": {
    "execution": {
     "iopub.execute_input": "2025-02-01T12:44:25.888687Z",
     "iopub.status.busy": "2025-02-01T12:44:25.888022Z",
     "iopub.status.idle": "2025-02-01T12:44:25.945982Z",
     "shell.execute_reply": "2025-02-01T12:44:25.945156Z"
    },
    "papermill": {
     "duration": 0.066974,
     "end_time": "2025-02-01T12:44:25.947271",
     "exception": false,
     "start_time": "2025-02-01T12:44:25.880297",
     "status": "completed"
    },
    "tags": []
   },
   "outputs": [],
   "source": [
    "# Ensure GPU utilization\n",
    "device = \"cuda\" if torch.cuda.is_available() else \"cpu\"\n",
    "torch.cuda.empty_cache()"
   ]
  },
  {
   "cell_type": "markdown",
   "id": "e45a0622",
   "metadata": {
    "papermill": {
     "duration": 0.006643,
     "end_time": "2025-02-01T12:44:25.961276",
     "exception": false,
     "start_time": "2025-02-01T12:44:25.954633",
     "status": "completed"
    },
    "tags": []
   },
   "source": [
    "## Section 2: Load and Preprocess Dataset\n",
    "\n",
    "### Load Dataset"
   ]
  },
  {
   "cell_type": "markdown",
   "id": "6b59603f",
   "metadata": {
    "papermill": {
     "duration": 0.006959,
     "end_time": "2025-02-01T12:44:25.975227",
     "exception": false,
     "start_time": "2025-02-01T12:44:25.968268",
     "status": "completed"
    },
    "tags": []
   },
   "source": [
    "- **Purpose**: Load and preprocess the dataset for training and evaluation.\n",
    "- **Notes**:\n",
    "  - `train_test_split` splits the dataset into training and evaluation sets.\n",
    "  - `Dataset.from_pandas` converts a pandas DataFrame to a Hugging Face Dataset."
   ]
  },
  {
   "cell_type": "code",
   "execution_count": 4,
   "id": "a4989c48",
   "metadata": {
    "execution": {
     "iopub.execute_input": "2025-02-01T12:44:25.990695Z",
     "iopub.status.busy": "2025-02-01T12:44:25.990392Z",
     "iopub.status.idle": "2025-02-01T12:44:28.493086Z",
     "shell.execute_reply": "2025-02-01T12:44:28.492003Z"
    },
    "papermill": {
     "duration": 2.512684,
     "end_time": "2025-02-01T12:44:28.494934",
     "exception": false,
     "start_time": "2025-02-01T12:44:25.982250",
     "status": "completed"
    },
    "tags": []
   },
   "outputs": [],
   "source": [
    "\n",
    "train_data = pd.read_parquet(\"/kaggle/input/wsdm-cup-multilingual-chatbot-arena/train.parquet\")\n",
    "test_data = pd.read_parquet(\"/kaggle/input/wsdm-cup-multilingual-chatbot-arena/test.parquet\")"
   ]
  },
  {
   "cell_type": "code",
   "execution_count": 5,
   "id": "97cfb2f5",
   "metadata": {
    "execution": {
     "iopub.execute_input": "2025-02-01T12:44:28.511432Z",
     "iopub.status.busy": "2025-02-01T12:44:28.511167Z",
     "iopub.status.idle": "2025-02-01T12:44:28.524042Z",
     "shell.execute_reply": "2025-02-01T12:44:28.523001Z"
    },
    "papermill": {
     "duration": 0.021929,
     "end_time": "2025-02-01T12:44:28.525451",
     "exception": false,
     "start_time": "2025-02-01T12:44:28.503522",
     "status": "completed"
    },
    "tags": []
   },
   "outputs": [
    {
     "data": {
      "text/plain": [
       "id            00007cff95d7f7974642a785aca248b0f26e60d3312fac...\n",
       "prompt                                       vieš po Slovensky?\n",
       "response_a     Áno, hovorím po slovensky. Ako vám môžem pomôcť?\n",
       "response_b    Áno, veď som tu! Môžem ti pomôcť s otázkami al...\n",
       "winner                                                  model_a\n",
       "model_a                                              o1-preview\n",
       "model_b                                      reka-core-20240904\n",
       "language                                                 Slovak\n",
       "Name: 0, dtype: object"
      ]
     },
     "execution_count": 5,
     "metadata": {},
     "output_type": "execute_result"
    }
   ],
   "source": [
    "train_data.iloc[0]"
   ]
  },
  {
   "cell_type": "code",
   "execution_count": 6,
   "id": "c82cac48",
   "metadata": {
    "execution": {
     "iopub.execute_input": "2025-02-01T12:44:28.541087Z",
     "iopub.status.busy": "2025-02-01T12:44:28.540867Z",
     "iopub.status.idle": "2025-02-01T12:44:32.866172Z",
     "shell.execute_reply": "2025-02-01T12:44:32.865039Z"
    },
    "papermill": {
     "duration": 4.334839,
     "end_time": "2025-02-01T12:44:32.867860",
     "exception": false,
     "start_time": "2025-02-01T12:44:28.533021",
     "status": "completed"
    },
    "tags": []
   },
   "outputs": [
    {
     "name": "stdout",
     "output_type": "stream",
     "text": [
      "CPU times: user 2.17 s, sys: 2.2 s, total: 4.37 s\n",
      "Wall time: 4.32 s\n"
     ]
    }
   ],
   "source": [
    "%%time\n",
    "# Encode labels\n",
    "train_data['label'] = train_data['winner'].map({'model_a': 0, 'model_b': 1})\n",
    "\n",
    "# Preprocess function\n",
    "def preprocess_function(row):\n",
    "    return {\n",
    "        \"input_text\": f\"Prompt: {row['prompt']} | Response A: {row['response_a']} | Response B: {row['response_b']}\",\n",
    "        \"labels\": 0 if 'model_a' == row['winner'] else 1\n",
    "    }\n",
    "\n",
    "processed_data = train_data.apply(preprocess_function, axis=1)\n",
    "df = pd.DataFrame(processed_data.tolist())\n",
    "\n",
    "# Split into train and evaluation datasets\n",
    "train_data, eval_data = train_test_split(df, test_size=0.2, random_state=42)\n",
    "train_dataset = Dataset.from_pandas(train_data)\n",
    "eval_dataset = Dataset.from_pandas(eval_data)"
   ]
  },
  {
   "cell_type": "markdown",
   "id": "0f6e986d",
   "metadata": {
    "papermill": {
     "duration": 0.00711,
     "end_time": "2025-02-01T12:44:32.882671",
     "exception": false,
     "start_time": "2025-02-01T12:44:32.875561",
     "status": "completed"
    },
    "tags": []
   },
   "source": [
    "## Section 3: Load and Configure Model"
   ]
  },
  {
   "cell_type": "markdown",
   "id": "8ace5e8e",
   "metadata": {
    "papermill": {
     "duration": 0.006753,
     "end_time": "2025-02-01T12:44:32.896861",
     "exception": false,
     "start_time": "2025-02-01T12:44:32.890108",
     "status": "completed"
    },
    "tags": []
   },
   "source": [
    "### Load Model and Tokenizer\n",
    "\n",
    "- **Purpose**: Load the pre-trained Gemma model and tokenizer, and configure them for sequence classification.\n",
    "- **Notes**:\n",
    "  - `AutoConfig.from_pretrained` loads the model configuration.\n",
    "  - `AutoTokenizer.from_pretrained` loads the tokenizer.\n",
    "  - `AutoModelForSequenceClassification.from_pretrained` loads the model for sequence classification.\n",
    "  - `model.tie_weights()` ensures shared weights are properly linked.\n",
    "  - `model.resize_token_embeddings(len(tokenizer))` resizes the token embeddings to match the tokenizer.\n"
   ]
  },
  {
   "cell_type": "code",
   "execution_count": 7,
   "id": "2f6c0b4a",
   "metadata": {
    "execution": {
     "iopub.execute_input": "2025-02-01T12:44:32.912333Z",
     "iopub.status.busy": "2025-02-01T12:44:32.912061Z",
     "iopub.status.idle": "2025-02-01T12:45:12.872536Z",
     "shell.execute_reply": "2025-02-01T12:45:12.871558Z"
    },
    "papermill": {
     "duration": 39.970023,
     "end_time": "2025-02-01T12:45:12.873953",
     "exception": false,
     "start_time": "2025-02-01T12:44:32.903930",
     "status": "completed"
    },
    "tags": []
   },
   "outputs": [
    {
     "data": {
      "application/vnd.jupyter.widget-view+json": {
       "model_id": "1e03494226304e559fdb0e78646fe0b8",
       "version_major": 2,
       "version_minor": 0
      },
      "text/plain": [
       "Loading checkpoint shards:   0%|          | 0/2 [00:00<?, ?it/s]"
      ]
     },
     "metadata": {},
     "output_type": "display_data"
    },
    {
     "name": "stdout",
     "output_type": "stream",
     "text": [
      "GemmaForSequenceClassification(\n",
      "  (model): GemmaModel(\n",
      "    (embed_tokens): Embedding(256000, 2048, padding_idx=0)\n",
      "    (layers): ModuleList(\n",
      "      (0-17): 18 x GemmaDecoderLayer(\n",
      "        (self_attn): GemmaSdpaAttention(\n",
      "          (q_proj): Linear(in_features=2048, out_features=2048, bias=False)\n",
      "          (k_proj): Linear(in_features=2048, out_features=256, bias=False)\n",
      "          (v_proj): Linear(in_features=2048, out_features=256, bias=False)\n",
      "          (o_proj): Linear(in_features=2048, out_features=2048, bias=False)\n",
      "          (rotary_emb): GemmaRotaryEmbedding()\n",
      "        )\n",
      "        (mlp): GemmaMLP(\n",
      "          (gate_proj): Linear(in_features=2048, out_features=16384, bias=False)\n",
      "          (up_proj): Linear(in_features=2048, out_features=16384, bias=False)\n",
      "          (down_proj): Linear(in_features=16384, out_features=2048, bias=False)\n",
      "          (act_fn): GELUActivation()\n",
      "        )\n",
      "        (input_layernorm): GemmaRMSNorm((2048,), eps=1e-06)\n",
      "        (post_attention_layernorm): GemmaRMSNorm((2048,), eps=1e-06)\n",
      "      )\n",
      "    )\n",
      "    (norm): GemmaRMSNorm((2048,), eps=1e-06)\n",
      "  )\n",
      "  (score): Linear(in_features=2048, out_features=2, bias=False)\n",
      ")\n",
      "CPU times: user 9.14 s, sys: 9.95 s, total: 19.1 s\n",
      "Wall time: 40 s\n"
     ]
    },
    {
     "data": {
      "text/plain": [
       "Embedding(256000, 2048, padding_idx=0)"
      ]
     },
     "execution_count": 7,
     "metadata": {},
     "output_type": "execute_result"
    }
   ],
   "source": [
    "%%time\n",
    "\n",
    "model_path = \"/kaggle/input/gemma/transformers/2b-it/3\"\n",
    "\n",
    "# Optional: Configure quantization (uncomment if needed and supported)\n",
    "# quantization_config = BitsAndBytesConfig(load_in_4bit=True)\n",
    "\n",
    "# Load base model configuration\n",
    "config = AutoConfig.from_pretrained(model_path)\n",
    "config.hidden_activation = \"gelu\"\n",
    "config.use_cache = False\n",
    "config.num_labels = 2\n",
    "# Load tokenizer and model\n",
    "tokenizer = AutoTokenizer.from_pretrained(model_path)\n",
    "model = AutoModelForSequenceClassification.from_pretrained(\n",
    "    model_path,\n",
    "    config=config,\n",
    "    # quantization_config=quantization_config,\n",
    "    device_map=\"auto\",\n",
    "    ignore_mismatched_sizes=True\n",
    ")\n",
    "\n",
    "# Verify if meta tensors exist and initialize them\n",
    "if any(param.device.type == \"meta\" for param in model.parameters()):\n",
    "    print(\"Meta tensors found. Initializing...\")\n",
    "    model.tie_weights()  # Tie weights, ensures shared weights are properly linked after initialization.\n",
    "    model = model.to_empty(device=device)  #replaces meta tensors with empty tensors, clearing the \"meta\" state and making the model ready for proper initialization or loading onto a device.\n",
    "    model = model.to(device)  # Move to CUDA device\n",
    "\n",
    "# Print model to get hidden layer names, to use it later in LoRA configuration\n",
    "print(model)\n",
    "\n",
    "# Adjust tokenizer and model\n",
    "if tokenizer.pad_token is None:\n",
    "    tokenizer.pad_token = tokenizer.eos_token\n",
    "model.resize_token_embeddings(len(tokenizer))"
   ]
  },
  {
   "cell_type": "markdown",
   "id": "1df53437",
   "metadata": {
    "papermill": {
     "duration": 0.00727,
     "end_time": "2025-02-01T12:45:12.888870",
     "exception": false,
     "start_time": "2025-02-01T12:45:12.881600",
     "status": "completed"
    },
    "tags": []
   },
   "source": [
    "### Apply LoRA (Low-Rank Adaptation) Configuration\n",
    "- **Purpose**: Apply LoRA (Low-Rank Adaptation) for parameter-efficient fine-tuning.\n",
    "- **Notes**:\n",
    "  - `LoraConfig` configures LoRA with specific parameters:\n",
    "    - `task_type=TaskType.SEQ_CLS` sets the task type to sequence classification.\n",
    "    - `r=8` sets the rank of the low-rank matrices.\n",
    "    - `lora_alpha=16` controls the scaling factor.\n",
    "    - `lora_dropout=0.1` sets the dropout rate.\n",
    "    - `target_modules=[\"q_proj\", \"v_proj\"]` specifies the target modules for LoRA."
   ]
  },
  {
   "cell_type": "code",
   "execution_count": 8,
   "id": "c009a334",
   "metadata": {
    "execution": {
     "iopub.execute_input": "2025-02-01T12:45:12.904838Z",
     "iopub.status.busy": "2025-02-01T12:45:12.904520Z",
     "iopub.status.idle": "2025-02-01T12:45:12.970885Z",
     "shell.execute_reply": "2025-02-01T12:45:12.969900Z"
    },
    "papermill": {
     "duration": 0.07623,
     "end_time": "2025-02-01T12:45:12.972405",
     "exception": false,
     "start_time": "2025-02-01T12:45:12.896175",
     "status": "completed"
    },
    "tags": []
   },
   "outputs": [
    {
     "name": "stdout",
     "output_type": "stream",
     "text": [
      "CPU times: user 54.4 ms, sys: 2.42 ms, total: 56.8 ms\n",
      "Wall time: 61.4 ms\n"
     ]
    }
   ],
   "source": [
    "%%time\n",
    "\n",
    "# Apply LoRA configuration\n",
    "lora_config = LoraConfig(\n",
    "    r=8,\n",
    "    lora_alpha=16,\n",
    "    lora_dropout=0.1,\n",
    "    task_type=TaskType.SEQ_CLS,\n",
    "    target_modules=[\"q_proj\", \"v_proj\"]\n",
    ")\n",
    "model = get_peft_model(model, lora_config)"
   ]
  },
  {
   "cell_type": "markdown",
   "id": "8f1081c7",
   "metadata": {
    "papermill": {
     "duration": 0.007591,
     "end_time": "2025-02-01T12:45:12.987809",
     "exception": false,
     "start_time": "2025-02-01T12:45:12.980218",
     "status": "completed"
    },
    "tags": []
   },
   "source": [
    "## Section 4: Prepare Data for Training"
   ]
  },
  {
   "cell_type": "markdown",
   "id": "7f081d57",
   "metadata": {
    "papermill": {
     "duration": 0.007069,
     "end_time": "2025-02-01T12:45:13.002283",
     "exception": false,
     "start_time": "2025-02-01T12:45:12.995214",
     "status": "completed"
    },
    "tags": []
   },
   "source": [
    "### Subset Data for Debugging\n",
    "- **Purpose**: Subset the dataset for faster debugging and testing.\n",
    "- **Notes**:\n",
    "  - `train_dataset.shuffle(seed=42).select(range(subset_size))` shuffles and selects a subset of the training data.\n",
    "  - `eval_dataset.shuffle(seed=42).select(range(subset_size))` does the same for the evaluation data.\n"
   ]
  },
  {
   "cell_type": "code",
   "execution_count": 9,
   "id": "665420df",
   "metadata": {
    "execution": {
     "iopub.execute_input": "2025-02-01T12:45:13.018367Z",
     "iopub.status.busy": "2025-02-01T12:45:13.018078Z",
     "iopub.status.idle": "2025-02-01T12:45:13.042520Z",
     "shell.execute_reply": "2025-02-01T12:45:13.041577Z"
    },
    "papermill": {
     "duration": 0.034251,
     "end_time": "2025-02-01T12:45:13.044048",
     "exception": false,
     "start_time": "2025-02-01T12:45:13.009797",
     "status": "completed"
    },
    "tags": []
   },
   "outputs": [
    {
     "name": "stdout",
     "output_type": "stream",
     "text": [
      "CPU times: user 16.7 ms, sys: 1.88 ms, total: 18.5 ms\n",
      "Wall time: 18.8 ms\n"
     ]
    }
   ],
   "source": [
    "%%time\n",
    "\n",
    "# subset data to debug\n",
    "subset_size = 900  # Number of examples to use for training\n",
    "train_dataset = train_dataset.shuffle(seed=42).select(range(subset_size))\n",
    "subset_size = int(subset_size*2/8)  # Number of examples to use for test, keep its ratio 8 to 2\n",
    "eval_dataset = eval_dataset.shuffle(seed=42).select(range(subset_size))"
   ]
  },
  {
   "cell_type": "markdown",
   "id": "8bc9ec95",
   "metadata": {
    "papermill": {
     "duration": 0.007389,
     "end_time": "2025-02-01T12:45:13.059617",
     "exception": false,
     "start_time": "2025-02-01T12:45:13.052228",
     "status": "completed"
    },
    "tags": []
   },
   "source": [
    "### Tokenize Dataset\n",
    "\n",
    "- **Purpose**: Tokenize the dataset for model input.\n",
    "- **Notes**:\n",
    "  - `tokenizer` tokenizes the input text with padding and truncation.\n",
    "  - `max_length=512` ensures the input length does not exceed 512 tokens."
   ]
  },
  {
   "cell_type": "code",
   "execution_count": 10,
   "id": "729861c4",
   "metadata": {
    "execution": {
     "iopub.execute_input": "2025-02-01T12:45:13.076025Z",
     "iopub.status.busy": "2025-02-01T12:45:13.075686Z",
     "iopub.status.idle": "2025-02-01T12:45:15.735717Z",
     "shell.execute_reply": "2025-02-01T12:45:15.734715Z"
    },
    "papermill": {
     "duration": 2.669976,
     "end_time": "2025-02-01T12:45:15.737171",
     "exception": false,
     "start_time": "2025-02-01T12:45:13.067195",
     "status": "completed"
    },
    "tags": []
   },
   "outputs": [
    {
     "data": {
      "application/vnd.jupyter.widget-view+json": {
       "model_id": "934e2dfa4eba4aa4976dbbed098e8788",
       "version_major": 2,
       "version_minor": 0
      },
      "text/plain": [
       "Map:   0%|          | 0/900 [00:00<?, ? examples/s]"
      ]
     },
     "metadata": {},
     "output_type": "display_data"
    },
    {
     "data": {
      "application/vnd.jupyter.widget-view+json": {
       "model_id": "69108f6f2a1c4f90ad5a32f4cc175da6",
       "version_major": 2,
       "version_minor": 0
      },
      "text/plain": [
       "Map:   0%|          | 0/225 [00:00<?, ? examples/s]"
      ]
     },
     "metadata": {},
     "output_type": "display_data"
    },
    {
     "name": "stdout",
     "output_type": "stream",
     "text": [
      "CPU times: user 6.6 s, sys: 150 ms, total: 6.75 s\n",
      "Wall time: 2.65 s\n"
     ]
    }
   ],
   "source": [
    "%%time\n",
    "train_dataset = train_dataset.map(lambda x: tokenizer(x['input_text'], padding=True, truncation=True, max_length=512), batched=True)\n",
    "eval_dataset = eval_dataset.map(lambda x: tokenizer(x['input_text'], padding=True, truncation=True, max_length=512), batched=True)"
   ]
  },
  {
   "cell_type": "markdown",
   "id": "db3267b3",
   "metadata": {
    "papermill": {
     "duration": 0.007856,
     "end_time": "2025-02-01T12:45:15.753743",
     "exception": false,
     "start_time": "2025-02-01T12:45:15.745887",
     "status": "completed"
    },
    "tags": []
   },
   "source": [
    "### Set Dataset Format\n",
    "\n",
    "- **Purpose**: Set the dataset format to PyTorch tensors.\n",
    "- **Notes**:\n",
    "  - `set_format` converts the dataset to PyTorch tensors for training."
   ]
  },
  {
   "cell_type": "code",
   "execution_count": 11,
   "id": "28293708",
   "metadata": {
    "execution": {
     "iopub.execute_input": "2025-02-01T12:45:15.770884Z",
     "iopub.status.busy": "2025-02-01T12:45:15.770588Z",
     "iopub.status.idle": "2025-02-01T12:45:15.776484Z",
     "shell.execute_reply": "2025-02-01T12:45:15.775724Z"
    },
    "papermill": {
     "duration": 0.016309,
     "end_time": "2025-02-01T12:45:15.777735",
     "exception": false,
     "start_time": "2025-02-01T12:45:15.761426",
     "status": "completed"
    },
    "tags": []
   },
   "outputs": [
    {
     "name": "stdout",
     "output_type": "stream",
     "text": [
      "CPU times: user 236 µs, sys: 672 µs, total: 908 µs\n",
      "Wall time: 823 µs\n"
     ]
    }
   ],
   "source": [
    "%%time\n",
    "train_dataset.set_format(type=\"torch\", columns=[\"input_ids\", \"attention_mask\", \"labels\"])\n",
    "eval_dataset.set_format(type=\"torch\", columns=[\"input_ids\", \"attention_mask\", \"labels\"])"
   ]
  },
  {
   "cell_type": "markdown",
   "id": "5dfd4656",
   "metadata": {
    "papermill": {
     "duration": 0.007871,
     "end_time": "2025-02-01T12:45:15.793607",
     "exception": false,
     "start_time": "2025-02-01T12:45:15.785736",
     "status": "completed"
    },
    "tags": []
   },
   "source": [
    "## Section 5: Define Metrics and Training Arguments"
   ]
  },
  {
   "cell_type": "markdown",
   "id": "7d3c78de",
   "metadata": {
    "papermill": {
     "duration": 0.009283,
     "end_time": "2025-02-01T12:45:15.811163",
     "exception": false,
     "start_time": "2025-02-01T12:45:15.801880",
     "status": "completed"
    },
    "tags": []
   },
   "source": [
    "### Define Metrics\n",
    "\n",
    "- **Purpose**: Define metrics for model evaluation.\n",
    "- **Notes**:\n",
    "    The `compute_metrics` function calculates evaluation metrics for the model:\n",
    "    - `accuracy`: How many predictions match the ground truth.\n",
    "    - `precision`: Correctly predicted positives / All predicted positives.\n",
    "    - `recall`: Correctly predicted positives / All actual positives.\n",
    "    - `f1`: Harmonic mean of precision and recall."
   ]
  },
  {
   "cell_type": "code",
   "execution_count": 12,
   "id": "90874aae",
   "metadata": {
    "execution": {
     "iopub.execute_input": "2025-02-01T12:45:15.828452Z",
     "iopub.status.busy": "2025-02-01T12:45:15.828104Z",
     "iopub.status.idle": "2025-02-01T12:45:15.832853Z",
     "shell.execute_reply": "2025-02-01T12:45:15.831892Z"
    },
    "papermill": {
     "duration": 0.015344,
     "end_time": "2025-02-01T12:45:15.834410",
     "exception": false,
     "start_time": "2025-02-01T12:45:15.819066",
     "status": "completed"
    },
    "tags": []
   },
   "outputs": [],
   "source": [
    "def compute_metrics(eval_pred):\n",
    "    logits, labels = eval_pred\n",
    "    predictions = torch.argmax(torch.tensor(logits), dim=1).numpy()\n",
    "    precision, recall, f1, _ = precision_recall_fscore_support(labels, predictions, average=\"binary\")\n",
    "    acc = accuracy_score(labels, predictions)\n",
    "    return {\"accuracy\": acc, \"precision\": precision, \"recall\": recall, \"f1\": f1}"
   ]
  },
  {
   "cell_type": "markdown",
   "id": "a4a85c88",
   "metadata": {
    "papermill": {
     "duration": 0.007993,
     "end_time": "2025-02-01T12:45:15.850607",
     "exception": false,
     "start_time": "2025-02-01T12:45:15.842614",
     "status": "completed"
    },
    "tags": []
   },
   "source": [
    "### Define Training Arguments\n",
    "\n",
    "- **Purpose**: Configure training arguments.\n",
    "- **Notes**:\n",
    "  - `TrainingArguments` configures various training parameters:\n",
    "    - `output_dir=\"./results\"` sets the output directory.\n",
    "    - `eval_strategy=\"epoch\"` evaluates the model at the end of each epoch.\n",
    "    - `learning_rate=2e-4` sets the learning rate.\n",
    "    - `per_device_train_batch_size=2` sets the batch size for training.\n",
    "    - `num_train_epochs=3` sets the number of training epochs.\n",
    "    - `weight_decay=0.01` sets the weight decay for regularization.\n",
    "    - `fp16=torch.cuda.is_available()` enables mixed precision training if a GPU is available."
   ]
  },
  {
   "cell_type": "code",
   "execution_count": 13,
   "id": "6499c0c7",
   "metadata": {
    "execution": {
     "iopub.execute_input": "2025-02-01T12:45:15.867587Z",
     "iopub.status.busy": "2025-02-01T12:45:15.867216Z",
     "iopub.status.idle": "2025-02-01T12:45:15.897305Z",
     "shell.execute_reply": "2025-02-01T12:45:15.896312Z"
    },
    "papermill": {
     "duration": 0.040692,
     "end_time": "2025-02-01T12:45:15.899140",
     "exception": false,
     "start_time": "2025-02-01T12:45:15.858448",
     "status": "completed"
    },
    "tags": []
   },
   "outputs": [],
   "source": [
    "training_args = TrainingArguments(\n",
    "    output_dir=\"./results\",\n",
    "    eval_strategy=\"epoch\",\n",
    "    learning_rate=2e-4,\n",
    "    per_device_train_batch_size=2,\n",
    "    per_device_eval_batch_size=2,\n",
    "    num_train_epochs=3,\n",
    "    weight_decay=0.01,\n",
    "    save_strategy=\"epoch\",\n",
    "    logging_dir=\"./logs\",\n",
    "    logging_steps=100,\n",
    "    save_total_limit=2,\n",
    "    load_best_model_at_end=True,\n",
    "    metric_for_best_model=\"accuracy\",\n",
    "    greater_is_better=True,\n",
    "    fp16=torch.cuda.is_available(),\n",
    "    # fp16_opt_level=\"O2\",\n",
    "    report_to=\"none\",\n",
    "    warmup_steps=500,\n",
    "    save_steps=500,\n",
    "    gradient_checkpointing=True\n",
    ")"
   ]
  },
  {
   "cell_type": "markdown",
   "id": "6e364dd1",
   "metadata": {
    "papermill": {
     "duration": 0.008083,
     "end_time": "2025-02-01T12:45:15.915982",
     "exception": false,
     "start_time": "2025-02-01T12:45:15.907899",
     "status": "completed"
    },
    "tags": []
   },
   "source": [
    "## Section 6: Initialize Trainer and Train"
   ]
  },
  {
   "cell_type": "markdown",
   "id": "2244ccc4",
   "metadata": {
    "papermill": {
     "duration": 0.007985,
     "end_time": "2025-02-01T12:45:15.932328",
     "exception": false,
     "start_time": "2025-02-01T12:45:15.924343",
     "status": "completed"
    },
    "tags": []
   },
   "source": [
    "### Initialize Trainer\n",
    "\n",
    "- **Purpose**: Initialize the Trainer for model training.\n",
    "- **Notes**:\n",
    "  - `DataCollatorWithPadding` ensures the input data is padded to the same length.\n",
    "  - `Trainer` handles the training loop, evaluation, and saving of the model."
   ]
  },
  {
   "cell_type": "code",
   "execution_count": 14,
   "id": "0e7259a7",
   "metadata": {
    "execution": {
     "iopub.execute_input": "2025-02-01T12:45:15.950349Z",
     "iopub.status.busy": "2025-02-01T12:45:15.950019Z",
     "iopub.status.idle": "2025-02-01T12:45:15.968627Z",
     "shell.execute_reply": "2025-02-01T12:45:15.967860Z"
    },
    "papermill": {
     "duration": 0.029067,
     "end_time": "2025-02-01T12:45:15.970064",
     "exception": false,
     "start_time": "2025-02-01T12:45:15.940997",
     "status": "completed"
    },
    "tags": []
   },
   "outputs": [],
   "source": [
    "data_collator = DataCollatorWithPadding(tokenizer=tokenizer)\n",
    "trainer = Trainer(\n",
    "    model=model,\n",
    "    args=training_args,\n",
    "    train_dataset=train_dataset,\n",
    "    eval_dataset=eval_dataset,\n",
    "    data_collator=data_collator,\n",
    "    compute_metrics=compute_metrics\n",
    ")"
   ]
  },
  {
   "cell_type": "markdown",
   "id": "e975347b",
   "metadata": {
    "papermill": {
     "duration": 0.007742,
     "end_time": "2025-02-01T12:45:15.986240",
     "exception": false,
     "start_time": "2025-02-01T12:45:15.978498",
     "status": "completed"
    },
    "tags": []
   },
   "source": [
    "### Clear GPU Cache\n",
    "\n",
    "- **Purpose**: Clear GPU memory before training.\n",
    "- **Notes**: Ensures that there is enough memory available for training."
   ]
  },
  {
   "cell_type": "code",
   "execution_count": 15,
   "id": "f01a2865",
   "metadata": {
    "execution": {
     "iopub.execute_input": "2025-02-01T12:45:16.003427Z",
     "iopub.status.busy": "2025-02-01T12:45:16.003093Z",
     "iopub.status.idle": "2025-02-01T12:45:16.007401Z",
     "shell.execute_reply": "2025-02-01T12:45:16.006496Z"
    },
    "papermill": {
     "duration": 0.014522,
     "end_time": "2025-02-01T12:45:16.009018",
     "exception": false,
     "start_time": "2025-02-01T12:45:15.994496",
     "status": "completed"
    },
    "tags": []
   },
   "outputs": [],
   "source": [
    "torch.cuda.empty_cache()"
   ]
  },
  {
   "cell_type": "markdown",
   "id": "46a51280",
   "metadata": {
    "papermill": {
     "duration": 0.007651,
     "end_time": "2025-02-01T12:45:16.024578",
     "exception": false,
     "start_time": "2025-02-01T12:45:16.016927",
     "status": "completed"
    },
    "tags": []
   },
   "source": [
    "### Train the Model\n",
    "\n",
    "\n",
    "- **Purpose**: Train the model using the configured Trainer.\n",
    "- **Notes**: The model is trained for the specified number of epochs."
   ]
  },
  {
   "cell_type": "code",
   "execution_count": 16,
   "id": "6c7d34dd",
   "metadata": {
    "execution": {
     "iopub.execute_input": "2025-02-01T12:45:16.041040Z",
     "iopub.status.busy": "2025-02-01T12:45:16.040735Z",
     "iopub.status.idle": "2025-02-01T13:04:16.498093Z",
     "shell.execute_reply": "2025-02-01T13:04:16.497245Z"
    },
    "papermill": {
     "duration": 1140.467394,
     "end_time": "2025-02-01T13:04:16.499683",
     "exception": false,
     "start_time": "2025-02-01T12:45:16.032289",
     "status": "completed"
    },
    "tags": []
   },
   "outputs": [
    {
     "data": {
      "text/html": [
       "\n",
       "    <div>\n",
       "      \n",
       "      <progress value='1350' max='1350' style='width:300px; height:20px; vertical-align: middle;'></progress>\n",
       "      [1350/1350 18:58, Epoch 3/3]\n",
       "    </div>\n",
       "    <table border=\"1\" class=\"dataframe\">\n",
       "  <thead>\n",
       " <tr style=\"text-align: left;\">\n",
       "      <th>Epoch</th>\n",
       "      <th>Training Loss</th>\n",
       "      <th>Validation Loss</th>\n",
       "      <th>Accuracy</th>\n",
       "      <th>Precision</th>\n",
       "      <th>Recall</th>\n",
       "      <th>F1</th>\n",
       "    </tr>\n",
       "  </thead>\n",
       "  <tbody>\n",
       "    <tr>\n",
       "      <td>1</td>\n",
       "      <td>0.927200</td>\n",
       "      <td>0.994485</td>\n",
       "      <td>0.497778</td>\n",
       "      <td>0.521739</td>\n",
       "      <td>0.410256</td>\n",
       "      <td>0.459330</td>\n",
       "    </tr>\n",
       "    <tr>\n",
       "      <td>2</td>\n",
       "      <td>0.873700</td>\n",
       "      <td>0.942825</td>\n",
       "      <td>0.537778</td>\n",
       "      <td>0.554622</td>\n",
       "      <td>0.564103</td>\n",
       "      <td>0.559322</td>\n",
       "    </tr>\n",
       "    <tr>\n",
       "      <td>3</td>\n",
       "      <td>0.609400</td>\n",
       "      <td>0.934594</td>\n",
       "      <td>0.528889</td>\n",
       "      <td>0.547009</td>\n",
       "      <td>0.547009</td>\n",
       "      <td>0.547009</td>\n",
       "    </tr>\n",
       "  </tbody>\n",
       "</table><p>"
      ],
      "text/plain": [
       "<IPython.core.display.HTML object>"
      ]
     },
     "metadata": {},
     "output_type": "display_data"
    },
    {
     "name": "stdout",
     "output_type": "stream",
     "text": [
      "CPU times: user 17min 24s, sys: 1min 36s, total: 19min 1s\n",
      "Wall time: 19min\n"
     ]
    },
    {
     "data": {
      "text/plain": [
       "TrainOutput(global_step=1350, training_loss=0.898730214436849, metrics={'train_runtime': 1140.0749, 'train_samples_per_second': 2.368, 'train_steps_per_second': 1.184, 'total_flos': 1.64462541668352e+16, 'train_loss': 0.898730214436849, 'epoch': 3.0})"
      ]
     },
     "execution_count": 16,
     "metadata": {},
     "output_type": "execute_result"
    }
   ],
   "source": [
    "%%time\n",
    "trainer.train()"
   ]
  },
  {
   "cell_type": "code",
   "execution_count": 17,
   "id": "69322a03",
   "metadata": {
    "execution": {
     "iopub.execute_input": "2025-02-01T13:04:16.518201Z",
     "iopub.status.busy": "2025-02-01T13:04:16.517945Z",
     "iopub.status.idle": "2025-02-01T13:04:16.529241Z",
     "shell.execute_reply": "2025-02-01T13:04:16.528545Z"
    },
    "papermill": {
     "duration": 0.021935,
     "end_time": "2025-02-01T13:04:16.530663",
     "exception": false,
     "start_time": "2025-02-01T13:04:16.508728",
     "status": "completed"
    },
    "tags": []
   },
   "outputs": [],
   "source": [
    "torch.cuda.empty_cache()"
   ]
  },
  {
   "cell_type": "markdown",
   "id": "08546d18",
   "metadata": {
    "papermill": {
     "duration": 0.008594,
     "end_time": "2025-02-01T13:04:16.548113",
     "exception": false,
     "start_time": "2025-02-01T13:04:16.539519",
     "status": "completed"
    },
    "tags": []
   },
   "source": [
    "## Section 7: Save Model"
   ]
  },
  {
   "cell_type": "markdown",
   "id": "16195afe",
   "metadata": {
    "papermill": {
     "duration": 0.008021,
     "end_time": "2025-02-01T13:04:16.564667",
     "exception": false,
     "start_time": "2025-02-01T13:04:16.556646",
     "status": "completed"
    },
    "tags": []
   },
   "source": [
    "### Save Model and Tokenizer\n",
    "\n",
    "- **Purpose**: Save the trained model and tokenizer for future use.\n",
    "- **Notes**: The model and tokenizer are saved to the specified directory."
   ]
  },
  {
   "cell_type": "code",
   "execution_count": 18,
   "id": "ee0b5b8b",
   "metadata": {
    "execution": {
     "iopub.execute_input": "2025-02-01T13:04:16.583096Z",
     "iopub.status.busy": "2025-02-01T13:04:16.582775Z",
     "iopub.status.idle": "2025-02-01T13:04:16.586176Z",
     "shell.execute_reply": "2025-02-01T13:04:16.585404Z"
    },
    "papermill": {
     "duration": 0.01428,
     "end_time": "2025-02-01T13:04:16.587640",
     "exception": false,
     "start_time": "2025-02-01T13:04:16.573360",
     "status": "completed"
    },
    "tags": []
   },
   "outputs": [],
   "source": [
    "# model.save_pretrained(\"./trained_gemma_predictor_model\")\n",
    "# tokenizer.save_pretrained(\"./trained_gemma_predictor_model\")"
   ]
  },
  {
   "cell_type": "markdown",
   "id": "c34b60f8",
   "metadata": {
    "papermill": {
     "duration": 0.008522,
     "end_time": "2025-02-01T13:04:16.604839",
     "exception": false,
     "start_time": "2025-02-01T13:04:16.596317",
     "status": "completed"
    },
    "tags": []
   },
   "source": [
    "## Section 8: Prediction Function"
   ]
  },
  {
   "cell_type": "markdown",
   "id": "355e3b72",
   "metadata": {
    "papermill": {
     "duration": 0.008458,
     "end_time": "2025-02-01T13:04:16.621998",
     "exception": false,
     "start_time": "2025-02-01T13:04:16.613540",
     "status": "completed"
    },
    "tags": []
   },
   "source": [
    "### Define Prediction Function\n",
    "\n",
    "\n",
    "- **Purpose**: Define a function to predict the better response given a prompt and two responses, based on highest probability.\n",
    "- **Notes**:\n",
    "  - `tokenizer` tokenizes the input text.\n",
    "  - `model(**inputs)` generates predictions.\n",
    "  - `torch.nn.functional.softmax` converts logits to probabilities."
   ]
  },
  {
   "cell_type": "code",
   "execution_count": 19,
   "id": "1c1496cb",
   "metadata": {
    "execution": {
     "iopub.execute_input": "2025-02-01T13:04:16.640762Z",
     "iopub.status.busy": "2025-02-01T13:04:16.640402Z",
     "iopub.status.idle": "2025-02-01T13:04:16.645243Z",
     "shell.execute_reply": "2025-02-01T13:04:16.644479Z"
    },
    "papermill": {
     "duration": 0.015969,
     "end_time": "2025-02-01T13:04:16.646640",
     "exception": false,
     "start_time": "2025-02-01T13:04:16.630671",
     "status": "completed"
    },
    "tags": []
   },
   "outputs": [],
   "source": [
    "def predict(prompt, response_a, response_b):\n",
    "    input_text = f\"Prompt: {prompt} | Response A: {response_a} | Response B: {response_b}\"\n",
    "    inputs = tokenizer(input_text, return_tensors=\"pt\", padding=True, truncation=True, max_length=512).to(device)\n",
    "    outputs = model(**inputs)\n",
    "    probabilities = torch.nn.functional.softmax(outputs.logits, dim=-1)\n",
    "    return \"model_a\" if probabilities[0][0] > probabilities[0][1] else \"model_b\""
   ]
  },
  {
   "cell_type": "markdown",
   "id": "db996dce",
   "metadata": {
    "papermill": {
     "duration": 0.008403,
     "end_time": "2025-02-01T13:04:16.663850",
     "exception": false,
     "start_time": "2025-02-01T13:04:16.655447",
     "status": "completed"
    },
    "tags": []
   },
   "source": [
    "## Section 9: Evaluate Responses"
   ]
  },
  {
   "cell_type": "markdown",
   "id": "1561cede",
   "metadata": {
    "papermill": {
     "duration": 0.008291,
     "end_time": "2025-02-01T13:04:16.680670",
     "exception": false,
     "start_time": "2025-02-01T13:04:16.672379",
     "status": "completed"
    },
    "tags": []
   },
   "source": [
    "### Evaluate Responses\n",
    "- **Purpose**: Evaluate responses on the test dataset.\n",
    "- **Notes**:\n",
    "  - `evaluate_responses` iterates over the test data and predicts the better response for each row."
   ]
  },
  {
   "cell_type": "code",
   "execution_count": 20,
   "id": "ec777800",
   "metadata": {
    "execution": {
     "iopub.execute_input": "2025-02-01T13:04:16.699213Z",
     "iopub.status.busy": "2025-02-01T13:04:16.698927Z",
     "iopub.status.idle": "2025-02-01T13:04:16.703193Z",
     "shell.execute_reply": "2025-02-01T13:04:16.702433Z"
    },
    "papermill": {
     "duration": 0.015043,
     "end_time": "2025-02-01T13:04:16.704525",
     "exception": false,
     "start_time": "2025-02-01T13:04:16.689482",
     "status": "completed"
    },
    "tags": []
   },
   "outputs": [],
   "source": [
    "def evaluate_responses(test_data):\n",
    "    results = []\n",
    "    for _, row in test_data.iterrows():\n",
    "        results.append({\n",
    "            'id': row[\"id\"],\n",
    "            'winner': predict(row[\"prompt\"], row[\"response_a\"], row[\"response_b\"])\n",
    "        })\n",
    "    return pd.DataFrame(results)"
   ]
  },
  {
   "cell_type": "markdown",
   "id": "b6467c54",
   "metadata": {
    "papermill": {
     "duration": 0.008824,
     "end_time": "2025-02-01T13:04:16.721781",
     "exception": false,
     "start_time": "2025-02-01T13:04:16.712957",
     "status": "completed"
    },
    "tags": []
   },
   "source": [
    "## Section 10: Generate Submission"
   ]
  },
  {
   "cell_type": "markdown",
   "id": "672d2bbe",
   "metadata": {
    "papermill": {
     "duration": 0.00899,
     "end_time": "2025-02-01T13:04:16.739774",
     "exception": false,
     "start_time": "2025-02-01T13:04:16.730784",
     "status": "completed"
    },
    "tags": []
   },
   "source": [
    "### Generate and Save Submission\n",
    "- **Purpose**: Generate predictions for the test dataset and save them to a CSV file.\n",
    "- **Notes**:\n",
    "  - `results_df.to_csv(\"submission.csv\", index=False)` saves the results to a CSV file.\n",
    "  - `print(results_df.head())` prints the first few rows of the results."
   ]
  },
  {
   "cell_type": "code",
   "execution_count": 21,
   "id": "7b9c4d05",
   "metadata": {
    "execution": {
     "iopub.execute_input": "2025-02-01T13:04:16.757821Z",
     "iopub.status.busy": "2025-02-01T13:04:16.757442Z",
     "iopub.status.idle": "2025-02-01T13:04:17.859450Z",
     "shell.execute_reply": "2025-02-01T13:04:17.858388Z"
    },
    "papermill": {
     "duration": 1.112586,
     "end_time": "2025-02-01T13:04:17.861007",
     "exception": false,
     "start_time": "2025-02-01T13:04:16.748421",
     "status": "completed"
    },
    "tags": []
   },
   "outputs": [
    {
     "name": "stdout",
     "output_type": "stream",
     "text": [
      "        id   winner\n",
      "0   327228  model_b\n",
      "1  1139415  model_b\n",
      "2  1235630  model_a\n"
     ]
    }
   ],
   "source": [
    "results_df = evaluate_responses(test_data)\n",
    "results_df.to_csv(\"submission.csv\", index=False)\n",
    "print(results_df.head())"
   ]
  }
 ],
 "metadata": {
  "kaggle": {
   "accelerator": "gpu",
   "dataSources": [
    {
     "databundleVersionId": 10131489,
     "sourceId": 86946,
     "sourceType": "competition"
    },
    {
     "datasetId": 6251858,
     "sourceId": 10130260,
     "sourceType": "datasetVersion"
    },
    {
     "datasetId": 6494800,
     "sourceId": 10489754,
     "sourceType": "datasetVersion"
    },
    {
     "modelId": 3301,
     "modelInstanceId": 8318,
     "sourceId": 28785,
     "sourceType": "modelInstanceVersion"
    }
   ],
   "dockerImageVersionId": 30839,
   "isGpuEnabled": true,
   "isInternetEnabled": false,
   "language": "python",
   "sourceType": "notebook"
  },
  "kernelspec": {
   "display_name": "Python 3",
   "language": "python",
   "name": "python3"
  },
  "language_info": {
   "codemirror_mode": {
    "name": "ipython",
    "version": 3
   },
   "file_extension": ".py",
   "mimetype": "text/x-python",
   "name": "python",
   "nbconvert_exporter": "python",
   "pygments_lexer": "ipython3",
   "version": "3.10.12"
  },
  "papermill": {
   "default_parameters": {},
   "duration": 1224.491638,
   "end_time": "2025-02-01T13:04:20.847289",
   "environment_variables": {},
   "exception": null,
   "input_path": "__notebook__.ipynb",
   "output_path": "__notebook__.ipynb",
   "parameters": {},
   "start_time": "2025-02-01T12:43:56.355651",
   "version": "2.6.0"
  },
  "widgets": {
   "application/vnd.jupyter.widget-state+json": {
    "state": {
     "0320bd96292e4764b8a14b5dd009675d": {
      "model_module": "@jupyter-widgets/base",
      "model_module_version": "2.0.0",
      "model_name": "LayoutModel",
      "state": {
       "_model_module": "@jupyter-widgets/base",
       "_model_module_version": "2.0.0",
       "_model_name": "LayoutModel",
       "_view_count": null,
       "_view_module": "@jupyter-widgets/base",
       "_view_module_version": "2.0.0",
       "_view_name": "LayoutView",
       "align_content": null,
       "align_items": null,
       "align_self": null,
       "border_bottom": null,
       "border_left": null,
       "border_right": null,
       "border_top": null,
       "bottom": null,
       "display": null,
       "flex": null,
       "flex_flow": null,
       "grid_area": null,
       "grid_auto_columns": null,
       "grid_auto_flow": null,
       "grid_auto_rows": null,
       "grid_column": null,
       "grid_gap": null,
       "grid_row": null,
       "grid_template_areas": null,
       "grid_template_columns": null,
       "grid_template_rows": null,
       "height": null,
       "justify_content": null,
       "justify_items": null,
       "left": null,
       "margin": null,
       "max_height": null,
       "max_width": null,
       "min_height": null,
       "min_width": null,
       "object_fit": null,
       "object_position": null,
       "order": null,
       "overflow": null,
       "padding": null,
       "right": null,
       "top": null,
       "visibility": null,
       "width": null
      }
     },
     "059a4a8617404063afdb150cc3fca98e": {
      "model_module": "@jupyter-widgets/controls",
      "model_module_version": "2.0.0",
      "model_name": "HTMLModel",
      "state": {
       "_dom_classes": [],
       "_model_module": "@jupyter-widgets/controls",
       "_model_module_version": "2.0.0",
       "_model_name": "HTMLModel",
       "_view_count": null,
       "_view_module": "@jupyter-widgets/controls",
       "_view_module_version": "2.0.0",
       "_view_name": "HTMLView",
       "description": "",
       "description_allow_html": false,
       "layout": "IPY_MODEL_f72807a9d7824f00a3b29c314daaceeb",
       "placeholder": "​",
       "style": "IPY_MODEL_b7a0e2087e4e44a6bda97077559056ce",
       "tabbable": null,
       "tooltip": null,
       "value": "Map: 100%"
      }
     },
     "0db5c60ef46044ca8073ef53bef89dcd": {
      "model_module": "@jupyter-widgets/controls",
      "model_module_version": "2.0.0",
      "model_name": "HTMLModel",
      "state": {
       "_dom_classes": [],
       "_model_module": "@jupyter-widgets/controls",
       "_model_module_version": "2.0.0",
       "_model_name": "HTMLModel",
       "_view_count": null,
       "_view_module": "@jupyter-widgets/controls",
       "_view_module_version": "2.0.0",
       "_view_name": "HTMLView",
       "description": "",
       "description_allow_html": false,
       "layout": "IPY_MODEL_bcdd2993888d4259862ad0612bd73f06",
       "placeholder": "​",
       "style": "IPY_MODEL_feeefaa2768843dc90b3a8b35aca73c2",
       "tabbable": null,
       "tooltip": null,
       "value": " 225/225 [00:00&lt;00:00, 594.71 examples/s]"
      }
     },
     "11cca0d2c4b04a5d9ed7237ee75ce223": {
      "model_module": "@jupyter-widgets/base",
      "model_module_version": "2.0.0",
      "model_name": "LayoutModel",
      "state": {
       "_model_module": "@jupyter-widgets/base",
       "_model_module_version": "2.0.0",
       "_model_name": "LayoutModel",
       "_view_count": null,
       "_view_module": "@jupyter-widgets/base",
       "_view_module_version": "2.0.0",
       "_view_name": "LayoutView",
       "align_content": null,
       "align_items": null,
       "align_self": null,
       "border_bottom": null,
       "border_left": null,
       "border_right": null,
       "border_top": null,
       "bottom": null,
       "display": null,
       "flex": null,
       "flex_flow": null,
       "grid_area": null,
       "grid_auto_columns": null,
       "grid_auto_flow": null,
       "grid_auto_rows": null,
       "grid_column": null,
       "grid_gap": null,
       "grid_row": null,
       "grid_template_areas": null,
       "grid_template_columns": null,
       "grid_template_rows": null,
       "height": null,
       "justify_content": null,
       "justify_items": null,
       "left": null,
       "margin": null,
       "max_height": null,
       "max_width": null,
       "min_height": null,
       "min_width": null,
       "object_fit": null,
       "object_position": null,
       "order": null,
       "overflow": null,
       "padding": null,
       "right": null,
       "top": null,
       "visibility": null,
       "width": null
      }
     },
     "19359327520647dc92df5e50be854aaf": {
      "model_module": "@jupyter-widgets/base",
      "model_module_version": "2.0.0",
      "model_name": "LayoutModel",
      "state": {
       "_model_module": "@jupyter-widgets/base",
       "_model_module_version": "2.0.0",
       "_model_name": "LayoutModel",
       "_view_count": null,
       "_view_module": "@jupyter-widgets/base",
       "_view_module_version": "2.0.0",
       "_view_name": "LayoutView",
       "align_content": null,
       "align_items": null,
       "align_self": null,
       "border_bottom": null,
       "border_left": null,
       "border_right": null,
       "border_top": null,
       "bottom": null,
       "display": null,
       "flex": null,
       "flex_flow": null,
       "grid_area": null,
       "grid_auto_columns": null,
       "grid_auto_flow": null,
       "grid_auto_rows": null,
       "grid_column": null,
       "grid_gap": null,
       "grid_row": null,
       "grid_template_areas": null,
       "grid_template_columns": null,
       "grid_template_rows": null,
       "height": null,
       "justify_content": null,
       "justify_items": null,
       "left": null,
       "margin": null,
       "max_height": null,
       "max_width": null,
       "min_height": null,
       "min_width": null,
       "object_fit": null,
       "object_position": null,
       "order": null,
       "overflow": null,
       "padding": null,
       "right": null,
       "top": null,
       "visibility": null,
       "width": null
      }
     },
     "1e03494226304e559fdb0e78646fe0b8": {
      "model_module": "@jupyter-widgets/controls",
      "model_module_version": "2.0.0",
      "model_name": "HBoxModel",
      "state": {
       "_dom_classes": [],
       "_model_module": "@jupyter-widgets/controls",
       "_model_module_version": "2.0.0",
       "_model_name": "HBoxModel",
       "_view_count": null,
       "_view_module": "@jupyter-widgets/controls",
       "_view_module_version": "2.0.0",
       "_view_name": "HBoxView",
       "box_style": "",
       "children": [
        "IPY_MODEL_4997d3792d4b429dac2a0f950b77eba0",
        "IPY_MODEL_f04a868bde214ebda174d18df8fe1ad9",
        "IPY_MODEL_5dc6c0d125a7488099db6218abc9dfea"
       ],
       "layout": "IPY_MODEL_63da8b44753b45c3bfd2d11a351209a2",
       "tabbable": null,
       "tooltip": null
      }
     },
     "2630345066134e0e88a8a5a1ff3e6729": {
      "model_module": "@jupyter-widgets/base",
      "model_module_version": "2.0.0",
      "model_name": "LayoutModel",
      "state": {
       "_model_module": "@jupyter-widgets/base",
       "_model_module_version": "2.0.0",
       "_model_name": "LayoutModel",
       "_view_count": null,
       "_view_module": "@jupyter-widgets/base",
       "_view_module_version": "2.0.0",
       "_view_name": "LayoutView",
       "align_content": null,
       "align_items": null,
       "align_self": null,
       "border_bottom": null,
       "border_left": null,
       "border_right": null,
       "border_top": null,
       "bottom": null,
       "display": null,
       "flex": null,
       "flex_flow": null,
       "grid_area": null,
       "grid_auto_columns": null,
       "grid_auto_flow": null,
       "grid_auto_rows": null,
       "grid_column": null,
       "grid_gap": null,
       "grid_row": null,
       "grid_template_areas": null,
       "grid_template_columns": null,
       "grid_template_rows": null,
       "height": null,
       "justify_content": null,
       "justify_items": null,
       "left": null,
       "margin": null,
       "max_height": null,
       "max_width": null,
       "min_height": null,
       "min_width": null,
       "object_fit": null,
       "object_position": null,
       "order": null,
       "overflow": null,
       "padding": null,
       "right": null,
       "top": null,
       "visibility": null,
       "width": null
      }
     },
     "315e9e5a52c64091ad24587e36f97cf4": {
      "model_module": "@jupyter-widgets/base",
      "model_module_version": "2.0.0",
      "model_name": "LayoutModel",
      "state": {
       "_model_module": "@jupyter-widgets/base",
       "_model_module_version": "2.0.0",
       "_model_name": "LayoutModel",
       "_view_count": null,
       "_view_module": "@jupyter-widgets/base",
       "_view_module_version": "2.0.0",
       "_view_name": "LayoutView",
       "align_content": null,
       "align_items": null,
       "align_self": null,
       "border_bottom": null,
       "border_left": null,
       "border_right": null,
       "border_top": null,
       "bottom": null,
       "display": null,
       "flex": null,
       "flex_flow": null,
       "grid_area": null,
       "grid_auto_columns": null,
       "grid_auto_flow": null,
       "grid_auto_rows": null,
       "grid_column": null,
       "grid_gap": null,
       "grid_row": null,
       "grid_template_areas": null,
       "grid_template_columns": null,
       "grid_template_rows": null,
       "height": null,
       "justify_content": null,
       "justify_items": null,
       "left": null,
       "margin": null,
       "max_height": null,
       "max_width": null,
       "min_height": null,
       "min_width": null,
       "object_fit": null,
       "object_position": null,
       "order": null,
       "overflow": null,
       "padding": null,
       "right": null,
       "top": null,
       "visibility": null,
       "width": null
      }
     },
     "4997d3792d4b429dac2a0f950b77eba0": {
      "model_module": "@jupyter-widgets/controls",
      "model_module_version": "2.0.0",
      "model_name": "HTMLModel",
      "state": {
       "_dom_classes": [],
       "_model_module": "@jupyter-widgets/controls",
       "_model_module_version": "2.0.0",
       "_model_name": "HTMLModel",
       "_view_count": null,
       "_view_module": "@jupyter-widgets/controls",
       "_view_module_version": "2.0.0",
       "_view_name": "HTMLView",
       "description": "",
       "description_allow_html": false,
       "layout": "IPY_MODEL_909b012ee25e4ed69c038a89499ea312",
       "placeholder": "​",
       "style": "IPY_MODEL_9d6157fc1fa84bf3ba19a67b0eec3e47",
       "tabbable": null,
       "tooltip": null,
       "value": "Loading checkpoint shards: 100%"
      }
     },
     "54ac0969603642759459442091f63021": {
      "model_module": "@jupyter-widgets/controls",
      "model_module_version": "2.0.0",
      "model_name": "HTMLModel",
      "state": {
       "_dom_classes": [],
       "_model_module": "@jupyter-widgets/controls",
       "_model_module_version": "2.0.0",
       "_model_name": "HTMLModel",
       "_view_count": null,
       "_view_module": "@jupyter-widgets/controls",
       "_view_module_version": "2.0.0",
       "_view_name": "HTMLView",
       "description": "",
       "description_allow_html": false,
       "layout": "IPY_MODEL_0320bd96292e4764b8a14b5dd009675d",
       "placeholder": "​",
       "style": "IPY_MODEL_793171c28bb94f04ad03694b34ff9042",
       "tabbable": null,
       "tooltip": null,
       "value": " 900/900 [00:01&lt;00:00, 675.56 examples/s]"
      }
     },
     "5dc6c0d125a7488099db6218abc9dfea": {
      "model_module": "@jupyter-widgets/controls",
      "model_module_version": "2.0.0",
      "model_name": "HTMLModel",
      "state": {
       "_dom_classes": [],
       "_model_module": "@jupyter-widgets/controls",
       "_model_module_version": "2.0.0",
       "_model_name": "HTMLModel",
       "_view_count": null,
       "_view_module": "@jupyter-widgets/controls",
       "_view_module_version": "2.0.0",
       "_view_name": "HTMLView",
       "description": "",
       "description_allow_html": false,
       "layout": "IPY_MODEL_315e9e5a52c64091ad24587e36f97cf4",
       "placeholder": "​",
       "style": "IPY_MODEL_9a9ec616f0da44679b2655d9deb78a5e",
       "tabbable": null,
       "tooltip": null,
       "value": " 2/2 [00:38&lt;00:00, 15.82s/it]"
      }
     },
     "63da8b44753b45c3bfd2d11a351209a2": {
      "model_module": "@jupyter-widgets/base",
      "model_module_version": "2.0.0",
      "model_name": "LayoutModel",
      "state": {
       "_model_module": "@jupyter-widgets/base",
       "_model_module_version": "2.0.0",
       "_model_name": "LayoutModel",
       "_view_count": null,
       "_view_module": "@jupyter-widgets/base",
       "_view_module_version": "2.0.0",
       "_view_name": "LayoutView",
       "align_content": null,
       "align_items": null,
       "align_self": null,
       "border_bottom": null,
       "border_left": null,
       "border_right": null,
       "border_top": null,
       "bottom": null,
       "display": null,
       "flex": null,
       "flex_flow": null,
       "grid_area": null,
       "grid_auto_columns": null,
       "grid_auto_flow": null,
       "grid_auto_rows": null,
       "grid_column": null,
       "grid_gap": null,
       "grid_row": null,
       "grid_template_areas": null,
       "grid_template_columns": null,
       "grid_template_rows": null,
       "height": null,
       "justify_content": null,
       "justify_items": null,
       "left": null,
       "margin": null,
       "max_height": null,
       "max_width": null,
       "min_height": null,
       "min_width": null,
       "object_fit": null,
       "object_position": null,
       "order": null,
       "overflow": null,
       "padding": null,
       "right": null,
       "top": null,
       "visibility": null,
       "width": null
      }
     },
     "69108f6f2a1c4f90ad5a32f4cc175da6": {
      "model_module": "@jupyter-widgets/controls",
      "model_module_version": "2.0.0",
      "model_name": "HBoxModel",
      "state": {
       "_dom_classes": [],
       "_model_module": "@jupyter-widgets/controls",
       "_model_module_version": "2.0.0",
       "_model_name": "HBoxModel",
       "_view_count": null,
       "_view_module": "@jupyter-widgets/controls",
       "_view_module_version": "2.0.0",
       "_view_name": "HBoxView",
       "box_style": "",
       "children": [
        "IPY_MODEL_059a4a8617404063afdb150cc3fca98e",
        "IPY_MODEL_acc38dd8e49d4d0d8645de086922f9b5",
        "IPY_MODEL_0db5c60ef46044ca8073ef53bef89dcd"
       ],
       "layout": "IPY_MODEL_19359327520647dc92df5e50be854aaf",
       "tabbable": null,
       "tooltip": null
      }
     },
     "6b7b7e63246c45ab8c100c6b1cc9efd0": {
      "model_module": "@jupyter-widgets/base",
      "model_module_version": "2.0.0",
      "model_name": "LayoutModel",
      "state": {
       "_model_module": "@jupyter-widgets/base",
       "_model_module_version": "2.0.0",
       "_model_name": "LayoutModel",
       "_view_count": null,
       "_view_module": "@jupyter-widgets/base",
       "_view_module_version": "2.0.0",
       "_view_name": "LayoutView",
       "align_content": null,
       "align_items": null,
       "align_self": null,
       "border_bottom": null,
       "border_left": null,
       "border_right": null,
       "border_top": null,
       "bottom": null,
       "display": null,
       "flex": null,
       "flex_flow": null,
       "grid_area": null,
       "grid_auto_columns": null,
       "grid_auto_flow": null,
       "grid_auto_rows": null,
       "grid_column": null,
       "grid_gap": null,
       "grid_row": null,
       "grid_template_areas": null,
       "grid_template_columns": null,
       "grid_template_rows": null,
       "height": null,
       "justify_content": null,
       "justify_items": null,
       "left": null,
       "margin": null,
       "max_height": null,
       "max_width": null,
       "min_height": null,
       "min_width": null,
       "object_fit": null,
       "object_position": null,
       "order": null,
       "overflow": null,
       "padding": null,
       "right": null,
       "top": null,
       "visibility": null,
       "width": null
      }
     },
     "793171c28bb94f04ad03694b34ff9042": {
      "model_module": "@jupyter-widgets/controls",
      "model_module_version": "2.0.0",
      "model_name": "HTMLStyleModel",
      "state": {
       "_model_module": "@jupyter-widgets/controls",
       "_model_module_version": "2.0.0",
       "_model_name": "HTMLStyleModel",
       "_view_count": null,
       "_view_module": "@jupyter-widgets/base",
       "_view_module_version": "2.0.0",
       "_view_name": "StyleView",
       "background": null,
       "description_width": "",
       "font_size": null,
       "text_color": null
      }
     },
     "802e67dee7404304b86d562dee048d56": {
      "model_module": "@jupyter-widgets/controls",
      "model_module_version": "2.0.0",
      "model_name": "FloatProgressModel",
      "state": {
       "_dom_classes": [],
       "_model_module": "@jupyter-widgets/controls",
       "_model_module_version": "2.0.0",
       "_model_name": "FloatProgressModel",
       "_view_count": null,
       "_view_module": "@jupyter-widgets/controls",
       "_view_module_version": "2.0.0",
       "_view_name": "ProgressView",
       "bar_style": "success",
       "description": "",
       "description_allow_html": false,
       "layout": "IPY_MODEL_a44d4fa3de3c437382d5df5f58949dc8",
       "max": 900.0,
       "min": 0.0,
       "orientation": "horizontal",
       "style": "IPY_MODEL_c4b6362cf2564cd7aed947d5df720cb4",
       "tabbable": null,
       "tooltip": null,
       "value": 900.0
      }
     },
     "909b012ee25e4ed69c038a89499ea312": {
      "model_module": "@jupyter-widgets/base",
      "model_module_version": "2.0.0",
      "model_name": "LayoutModel",
      "state": {
       "_model_module": "@jupyter-widgets/base",
       "_model_module_version": "2.0.0",
       "_model_name": "LayoutModel",
       "_view_count": null,
       "_view_module": "@jupyter-widgets/base",
       "_view_module_version": "2.0.0",
       "_view_name": "LayoutView",
       "align_content": null,
       "align_items": null,
       "align_self": null,
       "border_bottom": null,
       "border_left": null,
       "border_right": null,
       "border_top": null,
       "bottom": null,
       "display": null,
       "flex": null,
       "flex_flow": null,
       "grid_area": null,
       "grid_auto_columns": null,
       "grid_auto_flow": null,
       "grid_auto_rows": null,
       "grid_column": null,
       "grid_gap": null,
       "grid_row": null,
       "grid_template_areas": null,
       "grid_template_columns": null,
       "grid_template_rows": null,
       "height": null,
       "justify_content": null,
       "justify_items": null,
       "left": null,
       "margin": null,
       "max_height": null,
       "max_width": null,
       "min_height": null,
       "min_width": null,
       "object_fit": null,
       "object_position": null,
       "order": null,
       "overflow": null,
       "padding": null,
       "right": null,
       "top": null,
       "visibility": null,
       "width": null
      }
     },
     "934e2dfa4eba4aa4976dbbed098e8788": {
      "model_module": "@jupyter-widgets/controls",
      "model_module_version": "2.0.0",
      "model_name": "HBoxModel",
      "state": {
       "_dom_classes": [],
       "_model_module": "@jupyter-widgets/controls",
       "_model_module_version": "2.0.0",
       "_model_name": "HBoxModel",
       "_view_count": null,
       "_view_module": "@jupyter-widgets/controls",
       "_view_module_version": "2.0.0",
       "_view_name": "HBoxView",
       "box_style": "",
       "children": [
        "IPY_MODEL_d5944dc799344ec8a4931c1f3fb67d12",
        "IPY_MODEL_802e67dee7404304b86d562dee048d56",
        "IPY_MODEL_54ac0969603642759459442091f63021"
       ],
       "layout": "IPY_MODEL_2630345066134e0e88a8a5a1ff3e6729",
       "tabbable": null,
       "tooltip": null
      }
     },
     "9a9ec616f0da44679b2655d9deb78a5e": {
      "model_module": "@jupyter-widgets/controls",
      "model_module_version": "2.0.0",
      "model_name": "HTMLStyleModel",
      "state": {
       "_model_module": "@jupyter-widgets/controls",
       "_model_module_version": "2.0.0",
       "_model_name": "HTMLStyleModel",
       "_view_count": null,
       "_view_module": "@jupyter-widgets/base",
       "_view_module_version": "2.0.0",
       "_view_name": "StyleView",
       "background": null,
       "description_width": "",
       "font_size": null,
       "text_color": null
      }
     },
     "9d6157fc1fa84bf3ba19a67b0eec3e47": {
      "model_module": "@jupyter-widgets/controls",
      "model_module_version": "2.0.0",
      "model_name": "HTMLStyleModel",
      "state": {
       "_model_module": "@jupyter-widgets/controls",
       "_model_module_version": "2.0.0",
       "_model_name": "HTMLStyleModel",
       "_view_count": null,
       "_view_module": "@jupyter-widgets/base",
       "_view_module_version": "2.0.0",
       "_view_name": "StyleView",
       "background": null,
       "description_width": "",
       "font_size": null,
       "text_color": null
      }
     },
     "a14b2709248f4ce880b8728c7c2b9844": {
      "model_module": "@jupyter-widgets/controls",
      "model_module_version": "2.0.0",
      "model_name": "HTMLStyleModel",
      "state": {
       "_model_module": "@jupyter-widgets/controls",
       "_model_module_version": "2.0.0",
       "_model_name": "HTMLStyleModel",
       "_view_count": null,
       "_view_module": "@jupyter-widgets/base",
       "_view_module_version": "2.0.0",
       "_view_name": "StyleView",
       "background": null,
       "description_width": "",
       "font_size": null,
       "text_color": null
      }
     },
     "a26ccfce6b514c1ea28575839f6de895": {
      "model_module": "@jupyter-widgets/controls",
      "model_module_version": "2.0.0",
      "model_name": "ProgressStyleModel",
      "state": {
       "_model_module": "@jupyter-widgets/controls",
       "_model_module_version": "2.0.0",
       "_model_name": "ProgressStyleModel",
       "_view_count": null,
       "_view_module": "@jupyter-widgets/base",
       "_view_module_version": "2.0.0",
       "_view_name": "StyleView",
       "bar_color": null,
       "description_width": ""
      }
     },
     "a44d4fa3de3c437382d5df5f58949dc8": {
      "model_module": "@jupyter-widgets/base",
      "model_module_version": "2.0.0",
      "model_name": "LayoutModel",
      "state": {
       "_model_module": "@jupyter-widgets/base",
       "_model_module_version": "2.0.0",
       "_model_name": "LayoutModel",
       "_view_count": null,
       "_view_module": "@jupyter-widgets/base",
       "_view_module_version": "2.0.0",
       "_view_name": "LayoutView",
       "align_content": null,
       "align_items": null,
       "align_self": null,
       "border_bottom": null,
       "border_left": null,
       "border_right": null,
       "border_top": null,
       "bottom": null,
       "display": null,
       "flex": null,
       "flex_flow": null,
       "grid_area": null,
       "grid_auto_columns": null,
       "grid_auto_flow": null,
       "grid_auto_rows": null,
       "grid_column": null,
       "grid_gap": null,
       "grid_row": null,
       "grid_template_areas": null,
       "grid_template_columns": null,
       "grid_template_rows": null,
       "height": null,
       "justify_content": null,
       "justify_items": null,
       "left": null,
       "margin": null,
       "max_height": null,
       "max_width": null,
       "min_height": null,
       "min_width": null,
       "object_fit": null,
       "object_position": null,
       "order": null,
       "overflow": null,
       "padding": null,
       "right": null,
       "top": null,
       "visibility": null,
       "width": null
      }
     },
     "ac2081cce7ad46e78ebcaf8627bf082f": {
      "model_module": "@jupyter-widgets/controls",
      "model_module_version": "2.0.0",
      "model_name": "ProgressStyleModel",
      "state": {
       "_model_module": "@jupyter-widgets/controls",
       "_model_module_version": "2.0.0",
       "_model_name": "ProgressStyleModel",
       "_view_count": null,
       "_view_module": "@jupyter-widgets/base",
       "_view_module_version": "2.0.0",
       "_view_name": "StyleView",
       "bar_color": null,
       "description_width": ""
      }
     },
     "acc38dd8e49d4d0d8645de086922f9b5": {
      "model_module": "@jupyter-widgets/controls",
      "model_module_version": "2.0.0",
      "model_name": "FloatProgressModel",
      "state": {
       "_dom_classes": [],
       "_model_module": "@jupyter-widgets/controls",
       "_model_module_version": "2.0.0",
       "_model_name": "FloatProgressModel",
       "_view_count": null,
       "_view_module": "@jupyter-widgets/controls",
       "_view_module_version": "2.0.0",
       "_view_name": "ProgressView",
       "bar_style": "success",
       "description": "",
       "description_allow_html": false,
       "layout": "IPY_MODEL_6b7b7e63246c45ab8c100c6b1cc9efd0",
       "max": 225.0,
       "min": 0.0,
       "orientation": "horizontal",
       "style": "IPY_MODEL_a26ccfce6b514c1ea28575839f6de895",
       "tabbable": null,
       "tooltip": null,
       "value": 225.0
      }
     },
     "adba14a0a00c43618536fb42bb0eb6ce": {
      "model_module": "@jupyter-widgets/base",
      "model_module_version": "2.0.0",
      "model_name": "LayoutModel",
      "state": {
       "_model_module": "@jupyter-widgets/base",
       "_model_module_version": "2.0.0",
       "_model_name": "LayoutModel",
       "_view_count": null,
       "_view_module": "@jupyter-widgets/base",
       "_view_module_version": "2.0.0",
       "_view_name": "LayoutView",
       "align_content": null,
       "align_items": null,
       "align_self": null,
       "border_bottom": null,
       "border_left": null,
       "border_right": null,
       "border_top": null,
       "bottom": null,
       "display": null,
       "flex": null,
       "flex_flow": null,
       "grid_area": null,
       "grid_auto_columns": null,
       "grid_auto_flow": null,
       "grid_auto_rows": null,
       "grid_column": null,
       "grid_gap": null,
       "grid_row": null,
       "grid_template_areas": null,
       "grid_template_columns": null,
       "grid_template_rows": null,
       "height": null,
       "justify_content": null,
       "justify_items": null,
       "left": null,
       "margin": null,
       "max_height": null,
       "max_width": null,
       "min_height": null,
       "min_width": null,
       "object_fit": null,
       "object_position": null,
       "order": null,
       "overflow": null,
       "padding": null,
       "right": null,
       "top": null,
       "visibility": null,
       "width": null
      }
     },
     "b7a0e2087e4e44a6bda97077559056ce": {
      "model_module": "@jupyter-widgets/controls",
      "model_module_version": "2.0.0",
      "model_name": "HTMLStyleModel",
      "state": {
       "_model_module": "@jupyter-widgets/controls",
       "_model_module_version": "2.0.0",
       "_model_name": "HTMLStyleModel",
       "_view_count": null,
       "_view_module": "@jupyter-widgets/base",
       "_view_module_version": "2.0.0",
       "_view_name": "StyleView",
       "background": null,
       "description_width": "",
       "font_size": null,
       "text_color": null
      }
     },
     "bcdd2993888d4259862ad0612bd73f06": {
      "model_module": "@jupyter-widgets/base",
      "model_module_version": "2.0.0",
      "model_name": "LayoutModel",
      "state": {
       "_model_module": "@jupyter-widgets/base",
       "_model_module_version": "2.0.0",
       "_model_name": "LayoutModel",
       "_view_count": null,
       "_view_module": "@jupyter-widgets/base",
       "_view_module_version": "2.0.0",
       "_view_name": "LayoutView",
       "align_content": null,
       "align_items": null,
       "align_self": null,
       "border_bottom": null,
       "border_left": null,
       "border_right": null,
       "border_top": null,
       "bottom": null,
       "display": null,
       "flex": null,
       "flex_flow": null,
       "grid_area": null,
       "grid_auto_columns": null,
       "grid_auto_flow": null,
       "grid_auto_rows": null,
       "grid_column": null,
       "grid_gap": null,
       "grid_row": null,
       "grid_template_areas": null,
       "grid_template_columns": null,
       "grid_template_rows": null,
       "height": null,
       "justify_content": null,
       "justify_items": null,
       "left": null,
       "margin": null,
       "max_height": null,
       "max_width": null,
       "min_height": null,
       "min_width": null,
       "object_fit": null,
       "object_position": null,
       "order": null,
       "overflow": null,
       "padding": null,
       "right": null,
       "top": null,
       "visibility": null,
       "width": null
      }
     },
     "c4b6362cf2564cd7aed947d5df720cb4": {
      "model_module": "@jupyter-widgets/controls",
      "model_module_version": "2.0.0",
      "model_name": "ProgressStyleModel",
      "state": {
       "_model_module": "@jupyter-widgets/controls",
       "_model_module_version": "2.0.0",
       "_model_name": "ProgressStyleModel",
       "_view_count": null,
       "_view_module": "@jupyter-widgets/base",
       "_view_module_version": "2.0.0",
       "_view_name": "StyleView",
       "bar_color": null,
       "description_width": ""
      }
     },
     "d5944dc799344ec8a4931c1f3fb67d12": {
      "model_module": "@jupyter-widgets/controls",
      "model_module_version": "2.0.0",
      "model_name": "HTMLModel",
      "state": {
       "_dom_classes": [],
       "_model_module": "@jupyter-widgets/controls",
       "_model_module_version": "2.0.0",
       "_model_name": "HTMLModel",
       "_view_count": null,
       "_view_module": "@jupyter-widgets/controls",
       "_view_module_version": "2.0.0",
       "_view_name": "HTMLView",
       "description": "",
       "description_allow_html": false,
       "layout": "IPY_MODEL_11cca0d2c4b04a5d9ed7237ee75ce223",
       "placeholder": "​",
       "style": "IPY_MODEL_a14b2709248f4ce880b8728c7c2b9844",
       "tabbable": null,
       "tooltip": null,
       "value": "Map: 100%"
      }
     },
     "f04a868bde214ebda174d18df8fe1ad9": {
      "model_module": "@jupyter-widgets/controls",
      "model_module_version": "2.0.0",
      "model_name": "FloatProgressModel",
      "state": {
       "_dom_classes": [],
       "_model_module": "@jupyter-widgets/controls",
       "_model_module_version": "2.0.0",
       "_model_name": "FloatProgressModel",
       "_view_count": null,
       "_view_module": "@jupyter-widgets/controls",
       "_view_module_version": "2.0.0",
       "_view_name": "ProgressView",
       "bar_style": "success",
       "description": "",
       "description_allow_html": false,
       "layout": "IPY_MODEL_adba14a0a00c43618536fb42bb0eb6ce",
       "max": 2.0,
       "min": 0.0,
       "orientation": "horizontal",
       "style": "IPY_MODEL_ac2081cce7ad46e78ebcaf8627bf082f",
       "tabbable": null,
       "tooltip": null,
       "value": 2.0
      }
     },
     "f72807a9d7824f00a3b29c314daaceeb": {
      "model_module": "@jupyter-widgets/base",
      "model_module_version": "2.0.0",
      "model_name": "LayoutModel",
      "state": {
       "_model_module": "@jupyter-widgets/base",
       "_model_module_version": "2.0.0",
       "_model_name": "LayoutModel",
       "_view_count": null,
       "_view_module": "@jupyter-widgets/base",
       "_view_module_version": "2.0.0",
       "_view_name": "LayoutView",
       "align_content": null,
       "align_items": null,
       "align_self": null,
       "border_bottom": null,
       "border_left": null,
       "border_right": null,
       "border_top": null,
       "bottom": null,
       "display": null,
       "flex": null,
       "flex_flow": null,
       "grid_area": null,
       "grid_auto_columns": null,
       "grid_auto_flow": null,
       "grid_auto_rows": null,
       "grid_column": null,
       "grid_gap": null,
       "grid_row": null,
       "grid_template_areas": null,
       "grid_template_columns": null,
       "grid_template_rows": null,
       "height": null,
       "justify_content": null,
       "justify_items": null,
       "left": null,
       "margin": null,
       "max_height": null,
       "max_width": null,
       "min_height": null,
       "min_width": null,
       "object_fit": null,
       "object_position": null,
       "order": null,
       "overflow": null,
       "padding": null,
       "right": null,
       "top": null,
       "visibility": null,
       "width": null
      }
     },
     "feeefaa2768843dc90b3a8b35aca73c2": {
      "model_module": "@jupyter-widgets/controls",
      "model_module_version": "2.0.0",
      "model_name": "HTMLStyleModel",
      "state": {
       "_model_module": "@jupyter-widgets/controls",
       "_model_module_version": "2.0.0",
       "_model_name": "HTMLStyleModel",
       "_view_count": null,
       "_view_module": "@jupyter-widgets/base",
       "_view_module_version": "2.0.0",
       "_view_name": "StyleView",
       "background": null,
       "description_width": "",
       "font_size": null,
       "text_color": null
      }
     }
    },
    "version_major": 2,
    "version_minor": 0
   }
  }
 },
 "nbformat": 4,
 "nbformat_minor": 5
}

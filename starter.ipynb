{
 "cells": [
  {
   "cell_type": "code",
   "execution_count": 1,
   "id": "573149ae",
   "metadata": {
    "_cell_guid": "b1076dfc-b9ad-4769-8c92-a6c4dae69d19",
    "_uuid": "8f2839f25d086af736a60e9eeb907d3b93b6e0e5",
    "collapsed": true,
    "execution": {
     "iopub.execute_input": "2025-01-09T17:25:57.745420Z",
     "iopub.status.busy": "2025-01-09T17:25:57.745018Z",
     "iopub.status.idle": "2025-01-09T17:26:21.798540Z",
     "shell.execute_reply": "2025-01-09T17:26:21.797122Z"
    },
    "jupyter": {
     "outputs_hidden": true
    },
    "papermill": {
     "duration": 24.06289,
     "end_time": "2025-01-09T17:26:21.801216",
     "exception": false,
     "start_time": "2025-01-09T17:25:57.738326",
     "status": "completed"
    },
    "tags": []
   },
   "outputs": [
    {
     "name": "stdout",
     "output_type": "stream",
     "text": [
      "Collecting transformers==4.33.2\r\n",
      "  Downloading transformers-4.33.2-py3-none-any.whl.metadata (119 kB)\r\n",
      "\u001b[2K     \u001b[90m━━━━━━━━━━━━━━━━━━━━━━━━━━━━━━━━━━━━━━━━\u001b[0m \u001b[32m119.9/119.9 kB\u001b[0m \u001b[31m3.0 MB/s\u001b[0m eta \u001b[36m0:00:00\u001b[0m\r\n",
      "\u001b[?25hCollecting trl==0.5.0\r\n",
      "  Downloading trl-0.5.0-py3-none-any.whl.metadata (10 kB)\r\n",
      "Collecting peft==0.5.0\r\n",
      "  Downloading peft-0.5.0-py3-none-any.whl.metadata (22 kB)\r\n",
      "Collecting bitsandbytes==0.41.1\r\n",
      "  Downloading bitsandbytes-0.41.1-py3-none-any.whl.metadata (9.8 kB)\r\n",
      "Requirement already satisfied: accelerate in /usr/local/lib/python3.10/dist-packages (0.34.2)\r\n",
      "Requirement already satisfied: filelock in /usr/local/lib/python3.10/dist-packages (from transformers==4.33.2) (3.16.1)\r\n",
      "Requirement already satisfied: huggingface-hub<1.0,>=0.15.1 in /usr/local/lib/python3.10/dist-packages (from transformers==4.33.2) (0.24.7)\r\n",
      "Requirement already satisfied: numpy>=1.17 in /usr/local/lib/python3.10/dist-packages (from transformers==4.33.2) (1.26.4)\r\n",
      "Requirement already satisfied: packaging>=20.0 in /usr/local/lib/python3.10/dist-packages (from transformers==4.33.2) (24.1)\r\n",
      "Requirement already satisfied: pyyaml>=5.1 in /usr/local/lib/python3.10/dist-packages (from transformers==4.33.2) (6.0.2)\r\n",
      "Requirement already satisfied: regex!=2019.12.17 in /usr/local/lib/python3.10/dist-packages (from transformers==4.33.2) (2024.9.11)\r\n",
      "Requirement already satisfied: requests in /usr/local/lib/python3.10/dist-packages (from transformers==4.33.2) (2.32.3)\r\n",
      "Collecting tokenizers!=0.11.3,<0.14,>=0.11.1 (from transformers==4.33.2)\r\n",
      "  Downloading tokenizers-0.13.3-cp310-cp310-manylinux_2_17_x86_64.manylinux2014_x86_64.whl.metadata (6.7 kB)\r\n",
      "Requirement already satisfied: safetensors>=0.3.1 in /usr/local/lib/python3.10/dist-packages (from transformers==4.33.2) (0.4.5)\r\n",
      "Requirement already satisfied: tqdm>=4.27 in /usr/local/lib/python3.10/dist-packages (from transformers==4.33.2) (4.66.5)\r\n",
      "Requirement already satisfied: torch>=1.4.0 in /usr/local/lib/python3.10/dist-packages (from trl==0.5.0) (2.4.1+cu121)\r\n",
      "Requirement already satisfied: datasets in /usr/local/lib/python3.10/dist-packages (from trl==0.5.0) (3.2.0)\r\n",
      "Requirement already satisfied: psutil in /usr/local/lib/python3.10/dist-packages (from peft==0.5.0) (5.9.5)\r\n",
      "Requirement already satisfied: fsspec>=2023.5.0 in /usr/local/lib/python3.10/dist-packages (from huggingface-hub<1.0,>=0.15.1->transformers==4.33.2) (2024.6.1)\r\n",
      "Requirement already satisfied: typing-extensions>=3.7.4.3 in /usr/local/lib/python3.10/dist-packages (from huggingface-hub<1.0,>=0.15.1->transformers==4.33.2) (4.12.2)\r\n",
      "Requirement already satisfied: sympy in /usr/local/lib/python3.10/dist-packages (from torch>=1.4.0->trl==0.5.0) (1.13.3)\r\n",
      "Requirement already satisfied: networkx in /usr/local/lib/python3.10/dist-packages (from torch>=1.4.0->trl==0.5.0) (3.3)\r\n",
      "Requirement already satisfied: jinja2 in /usr/local/lib/python3.10/dist-packages (from torch>=1.4.0->trl==0.5.0) (3.1.4)\r\n",
      "Requirement already satisfied: pyarrow>=15.0.0 in /usr/local/lib/python3.10/dist-packages (from datasets->trl==0.5.0) (18.1.0)\r\n",
      "Requirement already satisfied: dill<0.3.9,>=0.3.0 in /usr/local/lib/python3.10/dist-packages (from datasets->trl==0.5.0) (0.3.8)\r\n",
      "Requirement already satisfied: pandas in /usr/local/lib/python3.10/dist-packages (from datasets->trl==0.5.0) (2.1.4)\r\n",
      "Requirement already satisfied: xxhash in /usr/local/lib/python3.10/dist-packages (from datasets->trl==0.5.0) (3.5.0)\r\n",
      "Requirement already satisfied: multiprocess<0.70.17 in /usr/local/lib/python3.10/dist-packages (from datasets->trl==0.5.0) (0.70.16)\r\n",
      "Requirement already satisfied: aiohttp in /usr/local/lib/python3.10/dist-packages (from datasets->trl==0.5.0) (3.10.5)\r\n",
      "Requirement already satisfied: charset-normalizer<4,>=2 in /usr/local/lib/python3.10/dist-packages (from requests->transformers==4.33.2) (3.3.2)\r\n",
      "Requirement already satisfied: idna<4,>=2.5 in /usr/local/lib/python3.10/dist-packages (from requests->transformers==4.33.2) (3.10)\r\n",
      "Requirement already satisfied: urllib3<3,>=1.21.1 in /usr/local/lib/python3.10/dist-packages (from requests->transformers==4.33.2) (2.2.3)\r\n",
      "Requirement already satisfied: certifi>=2017.4.17 in /usr/local/lib/python3.10/dist-packages (from requests->transformers==4.33.2) (2024.8.30)\r\n",
      "Requirement already satisfied: aiohappyeyeballs>=2.3.0 in /usr/local/lib/python3.10/dist-packages (from aiohttp->datasets->trl==0.5.0) (2.4.0)\r\n",
      "Requirement already satisfied: aiosignal>=1.1.2 in /usr/local/lib/python3.10/dist-packages (from aiohttp->datasets->trl==0.5.0) (1.3.1)\r\n",
      "Requirement already satisfied: attrs>=17.3.0 in /usr/local/lib/python3.10/dist-packages (from aiohttp->datasets->trl==0.5.0) (24.2.0)\r\n",
      "Requirement already satisfied: frozenlist>=1.1.1 in /usr/local/lib/python3.10/dist-packages (from aiohttp->datasets->trl==0.5.0) (1.4.1)\r\n",
      "Requirement already satisfied: multidict<7.0,>=4.5 in /usr/local/lib/python3.10/dist-packages (from aiohttp->datasets->trl==0.5.0) (6.1.0)\r\n",
      "Requirement already satisfied: yarl<2.0,>=1.0 in /usr/local/lib/python3.10/dist-packages (from aiohttp->datasets->trl==0.5.0) (1.11.1)\r\n",
      "Requirement already satisfied: async-timeout<5.0,>=4.0 in /usr/local/lib/python3.10/dist-packages (from aiohttp->datasets->trl==0.5.0) (4.0.3)\r\n",
      "Requirement already satisfied: MarkupSafe>=2.0 in /usr/local/lib/python3.10/dist-packages (from jinja2->torch>=1.4.0->trl==0.5.0) (2.1.5)\r\n",
      "Requirement already satisfied: python-dateutil>=2.8.2 in /usr/local/lib/python3.10/dist-packages (from pandas->datasets->trl==0.5.0) (2.8.2)\r\n",
      "Requirement already satisfied: pytz>=2020.1 in /usr/local/lib/python3.10/dist-packages (from pandas->datasets->trl==0.5.0) (2024.2)\r\n",
      "Requirement already satisfied: tzdata>=2022.1 in /usr/local/lib/python3.10/dist-packages (from pandas->datasets->trl==0.5.0) (2024.1)\r\n",
      "Requirement already satisfied: mpmath<1.4,>=1.1.0 in /usr/local/lib/python3.10/dist-packages (from sympy->torch>=1.4.0->trl==0.5.0) (1.3.0)\r\n",
      "Requirement already satisfied: six>=1.5 in /usr/local/lib/python3.10/dist-packages (from python-dateutil>=2.8.2->pandas->datasets->trl==0.5.0) (1.16.0)\r\n",
      "Downloading transformers-4.33.2-py3-none-any.whl (7.6 MB)\r\n",
      "\u001b[2K   \u001b[90m━━━━━━━━━━━━━━━━━━━━━━━━━━━━━━━━━━━━━━━━\u001b[0m \u001b[32m7.6/7.6 MB\u001b[0m \u001b[31m68.2 MB/s\u001b[0m eta \u001b[36m0:00:00\u001b[0m\r\n",
      "\u001b[?25hDownloading trl-0.5.0-py3-none-any.whl (88 kB)\r\n",
      "\u001b[2K   \u001b[90m━━━━━━━━━━━━━━━━━━━━━━━━━━━━━━━━━━━━━━━━\u001b[0m \u001b[32m88.1/88.1 kB\u001b[0m \u001b[31m4.1 MB/s\u001b[0m eta \u001b[36m0:00:00\u001b[0m\r\n",
      "\u001b[?25hDownloading peft-0.5.0-py3-none-any.whl (85 kB)\r\n",
      "\u001b[2K   \u001b[90m━━━━━━━━━━━━━━━━━━━━━━━━━━━━━━━━━━━━━━━━\u001b[0m \u001b[32m85.6/85.6 kB\u001b[0m \u001b[31m4.1 MB/s\u001b[0m eta \u001b[36m0:00:00\u001b[0m\r\n",
      "\u001b[?25hDownloading bitsandbytes-0.41.1-py3-none-any.whl (92.6 MB)\r\n",
      "\u001b[2K   \u001b[90m━━━━━━━━━━━━━━━━━━━━━━━━━━━━━━━━━━━━━━━━\u001b[0m \u001b[32m92.6/92.6 MB\u001b[0m \u001b[31m16.9 MB/s\u001b[0m eta \u001b[36m0:00:00\u001b[0m\r\n",
      "\u001b[?25hDownloading tokenizers-0.13.3-cp310-cp310-manylinux_2_17_x86_64.manylinux2014_x86_64.whl (7.8 MB)\r\n",
      "\u001b[2K   \u001b[90m━━━━━━━━━━━━━━━━━━━━━━━━━━━━━━━━━━━━━━━━\u001b[0m \u001b[32m7.8/7.8 MB\u001b[0m \u001b[31m84.3 MB/s\u001b[0m eta \u001b[36m0:00:00\u001b[0m\r\n",
      "\u001b[?25hInstalling collected packages: tokenizers, bitsandbytes, transformers, peft, trl\r\n",
      "  Attempting uninstall: tokenizers\r\n",
      "    Found existing installation: tokenizers 0.19.1\r\n",
      "    Uninstalling tokenizers-0.19.1:\r\n",
      "      Successfully uninstalled tokenizers-0.19.1\r\n",
      "  Attempting uninstall: transformers\r\n",
      "    Found existing installation: transformers 4.44.2\r\n",
      "    Uninstalling transformers-4.44.2:\r\n",
      "      Successfully uninstalled transformers-4.44.2\r\n",
      "Successfully installed bitsandbytes-0.41.1 peft-0.5.0 tokenizers-0.13.3 transformers-4.33.2 trl-0.5.0\r\n"
     ]
    }
   ],
   "source": [
    "!pip install transformers==4.33.2 trl==0.5.0 peft==0.5.0 bitsandbytes==0.41.1 accelerate"
   ]
  },
  {
   "cell_type": "code",
   "execution_count": 2,
   "id": "9aa0c4bc",
   "metadata": {
    "execution": {
     "iopub.execute_input": "2025-01-09T17:26:21.820897Z",
     "iopub.status.busy": "2025-01-09T17:26:21.820380Z",
     "iopub.status.idle": "2025-01-09T17:26:41.298206Z",
     "shell.execute_reply": "2025-01-09T17:26:41.297066Z"
    },
    "papermill": {
     "duration": 19.490055,
     "end_time": "2025-01-09T17:26:41.300232",
     "exception": false,
     "start_time": "2025-01-09T17:26:21.810177",
     "status": "completed"
    },
    "tags": []
   },
   "outputs": [
    {
     "name": "stderr",
     "output_type": "stream",
     "text": [
      "/usr/local/lib/python3.10/dist-packages/transformers/utils/generic.py:311: FutureWarning: `torch.utils._pytree._register_pytree_node` is deprecated. Please use `torch.utils._pytree.register_pytree_node` instead.\n",
      "  torch.utils._pytree._register_pytree_node(\n",
      "/usr/local/lib/python3.10/dist-packages/bitsandbytes/cextension.py:34: UserWarning: The installed version of bitsandbytes was compiled without GPU support. 8-bit optimizers, 8-bit multiplication, and GPU quantization are unavailable.\n",
      "  warn(\"The installed version of bitsandbytes was compiled without GPU support. \"\n"
     ]
    },
    {
     "name": "stdout",
     "output_type": "stream",
     "text": [
      "/usr/local/lib/python3.10/dist-packages/bitsandbytes/libbitsandbytes_cpu.so: undefined symbol: cadam32bit_grad_fp32\n"
     ]
    }
   ],
   "source": [
    "from dataclasses import dataclass\n",
    "import torch\n",
    "import os, time , json, gc\n",
    "from IPython.display import display, Markdown\n",
    "\n",
    "import numpy as np\n",
    "import pandas as pd\n",
    "\n",
    "import transformers\n",
    "from transformers import (AutoTokenizer, AutoModelForCausalLM, \n",
    "                          AutoModelForSequenceClassification, TrainingArguments,\n",
    "                          BitsAndBytesConfig)\n",
    "\n",
    "from datasets import Dataset, DatasetDict\n",
    "\n",
    "# fine tuning\n",
    "from trl import SFTTrainer\n",
    "from peft import LoraConfig, PeftModel, get_peft_model\n",
    "\n",
    "import asyncio\n",
    "\n",
    "# Metric\n",
    "from sklearn.metrics import (classification_report, ConfusionMatrixDisplay,\n",
    "                             f1_score, accuracy_score, precision_score, recall_score)"
   ]
  },
  {
   "cell_type": "code",
   "execution_count": 3,
   "id": "eb77e1d5",
   "metadata": {
    "execution": {
     "iopub.execute_input": "2025-01-09T17:26:41.317456Z",
     "iopub.status.busy": "2025-01-09T17:26:41.316687Z",
     "iopub.status.idle": "2025-01-09T17:26:41.322650Z",
     "shell.execute_reply": "2025-01-09T17:26:41.321318Z"
    },
    "papermill": {
     "duration": 0.016278,
     "end_time": "2025-01-09T17:26:41.324414",
     "exception": false,
     "start_time": "2025-01-09T17:26:41.308136",
     "status": "completed"
    },
    "tags": []
   },
   "outputs": [],
   "source": [
    "class CFG:\n",
    "\n",
    "    test = 0.2\n",
    "\n",
    "    # LLM Config\n",
    "    reportTo = \"none\"\n",
    "    topK = 10\n",
    "    topP = 1.0\n",
    "    temperature = 0.1\n",
    "    maxEpoch= 1\n",
    "    evalSetp = 20\n",
    "    learning_rate = 2e-4 # 1e-4\n",
    "\n",
    "    \n",
    "    gemma_dir = '/kaggle/input/gemma-2/transformers/gemma-2-9b-it-4bit/1/gemma-2-9b-it-4bit'\n",
    "    lora_dir = '/kaggle/input/lora-gemma-new/pytorch/default/1/opt/tiger/kaggle/ckpt/checkpoint-170'\n",
    "\n",
    "    trainFile = \"/kaggle/input/wsdm-cup-multilingual-chatbot-arena/train.parquet\"\n",
    "    testFile =  \"/kaggle/input/wsdm-cup-multilingual-chatbot-arena/test.parquet\"\n",
    "    sampleFile = \"/kaggle/input/wsdm-cup-multilingual-chatbot-arena/sample_submission.csv\""
   ]
  },
  {
   "cell_type": "code",
   "execution_count": 4,
   "id": "3473a88e",
   "metadata": {
    "execution": {
     "iopub.execute_input": "2025-01-09T17:26:41.341398Z",
     "iopub.status.busy": "2025-01-09T17:26:41.340981Z",
     "iopub.status.idle": "2025-01-09T17:26:41.349183Z",
     "shell.execute_reply": "2025-01-09T17:26:41.348055Z"
    },
    "papermill": {
     "duration": 0.018672,
     "end_time": "2025-01-09T17:26:41.350998",
     "exception": false,
     "start_time": "2025-01-09T17:26:41.332326",
     "status": "completed"
    },
    "tags": []
   },
   "outputs": [
    {
     "data": {
      "text/plain": [
       "device(type='cpu')"
      ]
     },
     "execution_count": 4,
     "metadata": {},
     "output_type": "execute_result"
    }
   ],
   "source": [
    "device = torch.device(\"cuda\" if torch.cuda.is_available() else \"cpu\")\n",
    "device"
   ]
  },
  {
   "cell_type": "code",
   "execution_count": 5,
   "id": "ad793c50",
   "metadata": {
    "execution": {
     "iopub.execute_input": "2025-01-09T17:26:41.367924Z",
     "iopub.status.busy": "2025-01-09T17:26:41.367459Z",
     "iopub.status.idle": "2025-01-09T17:26:41.372423Z",
     "shell.execute_reply": "2025-01-09T17:26:41.371321Z"
    },
    "papermill": {
     "duration": 0.015484,
     "end_time": "2025-01-09T17:26:41.374356",
     "exception": false,
     "start_time": "2025-01-09T17:26:41.358872",
     "status": "completed"
    },
    "tags": []
   },
   "outputs": [],
   "source": [
    "def clearMemory():\n",
    "    for _ in range(5):\n",
    "        torch.cuda.empty_cache()\n",
    "        gc.collect()\n",
    "        time.sleep(3)"
   ]
  },
  {
   "cell_type": "code",
   "execution_count": 6,
   "id": "513c3431",
   "metadata": {
    "execution": {
     "iopub.execute_input": "2025-01-09T17:26:41.391385Z",
     "iopub.status.busy": "2025-01-09T17:26:41.390975Z",
     "iopub.status.idle": "2025-01-09T17:26:58.346557Z",
     "shell.execute_reply": "2025-01-09T17:26:58.345138Z"
    },
    "papermill": {
     "duration": 16.966781,
     "end_time": "2025-01-09T17:26:58.348997",
     "exception": false,
     "start_time": "2025-01-09T17:26:41.382216",
     "status": "completed"
    },
    "tags": []
   },
   "outputs": [],
   "source": [
    "clearMemory()"
   ]
  },
  {
   "cell_type": "code",
   "execution_count": 7,
   "id": "a8ee3016",
   "metadata": {
    "execution": {
     "iopub.execute_input": "2025-01-09T17:26:58.366428Z",
     "iopub.status.busy": "2025-01-09T17:26:58.365915Z",
     "iopub.status.idle": "2025-01-09T17:26:58.371662Z",
     "shell.execute_reply": "2025-01-09T17:26:58.370327Z"
    },
    "papermill": {
     "duration": 0.016975,
     "end_time": "2025-01-09T17:26:58.373778",
     "exception": false,
     "start_time": "2025-01-09T17:26:58.356803",
     "status": "completed"
    },
    "tags": []
   },
   "outputs": [],
   "source": [
    "def printSeriesUniqueVal(series):\n",
    "    print(f\"{series.unique()}\")"
   ]
  },
  {
   "cell_type": "code",
   "execution_count": 8,
   "id": "c0b1e10d",
   "metadata": {
    "execution": {
     "iopub.execute_input": "2025-01-09T17:26:58.390759Z",
     "iopub.status.busy": "2025-01-09T17:26:58.390306Z",
     "iopub.status.idle": "2025-01-09T17:26:58.395720Z",
     "shell.execute_reply": "2025-01-09T17:26:58.394655Z"
    },
    "papermill": {
     "duration": 0.015699,
     "end_time": "2025-01-09T17:26:58.397392",
     "exception": false,
     "start_time": "2025-01-09T17:26:58.381693",
     "status": "completed"
    },
    "tags": []
   },
   "outputs": [],
   "source": [
    "def printAllColumnsValue(df, showAll=True):\n",
    "    for col in df.columns:\n",
    "        if showAll:\n",
    "            print(f\"{col} : {df[col].unique()}\") # print unique value\n",
    "        else:\n",
    "            if df[col].dtype == \"object\": #only print catergory type column\n",
    "                print(f\"{col} : {df[col].unique()}\")"
   ]
  },
  {
   "cell_type": "code",
   "execution_count": 9,
   "id": "73557ab8",
   "metadata": {
    "execution": {
     "iopub.execute_input": "2025-01-09T17:26:58.414186Z",
     "iopub.status.busy": "2025-01-09T17:26:58.413787Z",
     "iopub.status.idle": "2025-01-09T17:27:01.507042Z",
     "shell.execute_reply": "2025-01-09T17:27:01.505481Z"
    },
    "papermill": {
     "duration": 3.103898,
     "end_time": "2025-01-09T17:27:01.509062",
     "exception": false,
     "start_time": "2025-01-09T17:26:58.405164",
     "status": "completed"
    },
    "tags": []
   },
   "outputs": [
    {
     "data": {
      "text/html": [
       "<div>\n",
       "<style scoped>\n",
       "    .dataframe tbody tr th:only-of-type {\n",
       "        vertical-align: middle;\n",
       "    }\n",
       "\n",
       "    .dataframe tbody tr th {\n",
       "        vertical-align: top;\n",
       "    }\n",
       "\n",
       "    .dataframe thead th {\n",
       "        text-align: right;\n",
       "    }\n",
       "</style>\n",
       "<table border=\"1\" class=\"dataframe\">\n",
       "  <thead>\n",
       "    <tr style=\"text-align: right;\">\n",
       "      <th></th>\n",
       "      <th>id</th>\n",
       "      <th>prompt</th>\n",
       "      <th>response_a</th>\n",
       "      <th>response_b</th>\n",
       "      <th>winner</th>\n",
       "      <th>model_a</th>\n",
       "      <th>model_b</th>\n",
       "      <th>language</th>\n",
       "    </tr>\n",
       "  </thead>\n",
       "  <tbody>\n",
       "    <tr>\n",
       "      <th>0</th>\n",
       "      <td>00007cff95d7f7974642a785aca248b0f26e60d3312fac...</td>\n",
       "      <td>vieš po Slovensky?</td>\n",
       "      <td>Áno, hovorím po slovensky. Ako vám môžem pomôcť?</td>\n",
       "      <td>Áno, veď som tu! Môžem ti pomôcť s otázkami al...</td>\n",
       "      <td>model_a</td>\n",
       "      <td>o1-preview</td>\n",
       "      <td>reka-core-20240904</td>\n",
       "      <td>Slovak</td>\n",
       "    </tr>\n",
       "    <tr>\n",
       "      <th>1</th>\n",
       "      <td>00010ed04b536f56ebe43eef1100c13906abea12bf9855...</td>\n",
       "      <td>You will be given a piece of news. Analyze it ...</td>\n",
       "      <td>Let's break down the news and analyze it accor...</td>\n",
       "      <td>```json\\n{\\n  \"contains_orgs\": true,\\n  \"orgs\"...</td>\n",
       "      <td>model_a</td>\n",
       "      <td>gemma-2-27b-it</td>\n",
       "      <td>gemini-1.5-flash-002</td>\n",
       "      <td>Russian</td>\n",
       "    </tr>\n",
       "    <tr>\n",
       "      <th>2</th>\n",
       "      <td>0003800d510e38803efba5ceaec122bc66408fe367b0be...</td>\n",
       "      <td>Dört basamaklı, rakamları birbirinden ve sıfır...</td>\n",
       "      <td>Bu soruyu çözmek için, verilen koşulları adım ...</td>\n",
       "      <td>Bu problemi adım adım çözelim:\\n\\n1) ABCD - DC...</td>\n",
       "      <td>model_a</td>\n",
       "      <td>gpt-4-0125-preview</td>\n",
       "      <td>claude-3-5-sonnet-20240620</td>\n",
       "      <td>Turkish</td>\n",
       "    </tr>\n",
       "    <tr>\n",
       "      <th>3</th>\n",
       "      <td>00072026c68f5418ef2da238394e418ce72a534b9b22d5...</td>\n",
       "      <td>현재 추천된 탑 3 종목인 Cabaletta Bio (CABA), Rocket Ph...</td>\n",
       "      <td>죄송하지만 저는 금융 조언을 제공할 수 없습니다. 저는 AI 모델이며, 투자 결정에...</td>\n",
       "      <td>현재 추천된 탑 3 종목에 순위를 매기기 위해서는 여러 가지 요소들을 고려해야 합니...</td>\n",
       "      <td>model_b</td>\n",
       "      <td>gemma-2-2b-it</td>\n",
       "      <td>llama-3.1-nemotron-70b-instruct</td>\n",
       "      <td>English</td>\n",
       "    </tr>\n",
       "    <tr>\n",
       "      <th>4</th>\n",
       "      <td>0007ce7cf6bc1b5a8f8a4669b854fb12030863c970d9dc...</td>\n",
       "      <td>Please be boring</td>\n",
       "      <td>Alright, I'll be as boring as possible.\\n\\nTod...</td>\n",
       "      <td>Understood. Here is a straightforward, unadorn...</td>\n",
       "      <td>model_a</td>\n",
       "      <td>reka-flash-20240722</td>\n",
       "      <td>grok-2-2024-08-13</td>\n",
       "      <td>English</td>\n",
       "    </tr>\n",
       "    <tr>\n",
       "      <th>...</th>\n",
       "      <td>...</td>\n",
       "      <td>...</td>\n",
       "      <td>...</td>\n",
       "      <td>...</td>\n",
       "      <td>...</td>\n",
       "      <td>...</td>\n",
       "      <td>...</td>\n",
       "      <td>...</td>\n",
       "    </tr>\n",
       "    <tr>\n",
       "      <th>48434</th>\n",
       "      <td>fff5962462043091a771018e37ece11c425e9c7cca64b2...</td>\n",
       "      <td>你好，请你介绍下你自己</td>\n",
       "      <td>你好！我是LSK，一个形式为人工智能的chatbot。</td>\n",
       "      <td>### 介绍\\n\\n我是一款人工智能语言模型，基于深度学习技术开发而成。我的主要功能是理解自...</td>\n",
       "      <td>model_b</td>\n",
       "      <td>llama-3.2-3b-instruct</td>\n",
       "      <td>llama-3.1-8b-instruct</td>\n",
       "      <td>Chinese</td>\n",
       "    </tr>\n",
       "    <tr>\n",
       "      <th>48435</th>\n",
       "      <td>fffad6c95fb82e3a694b4952965852130285e0a38905d5...</td>\n",
       "      <td>Viva Technology参展费用</td>\n",
       "      <td>Viva Technology是一个国际性的科技展览会，每年在法国巴黎举行。参展费用会根据多...</td>\n",
       "      <td>我无法找到Viva Technology参展费用的具体公开信息。\\n\\n**参展费用通常取决...</td>\n",
       "      <td>model_a</td>\n",
       "      <td>reka-core-20240904</td>\n",
       "      <td>gemini-1.5-flash-exp-0827</td>\n",
       "      <td>English</td>\n",
       "    </tr>\n",
       "    <tr>\n",
       "      <th>48436</th>\n",
       "      <td>fffbf502f2cd88b706a4bd6e54ed90e9a2d59d1643140d...</td>\n",
       "      <td>다음은 '사무장병원 경찰 조사 동행기 - 장효강 변호사의 현장 이야기'라는 제목의 ...</td>\n",
       "      <td>사무장병원 경찰 조사 동행기 - 장효강 변호사의 현장 이야기\\n\\n**\"압수수색, ...</td>\n",
       "      <td>도입부를 개선하기 위해서는 독자의 관심을 더 끌어야 하며, 좀 더 명료하고 간결하게...</td>\n",
       "      <td>model_a</td>\n",
       "      <td>gemini-1.5-pro-002</td>\n",
       "      <td>yi-lightning-lite</td>\n",
       "      <td>Korean</td>\n",
       "    </tr>\n",
       "    <tr>\n",
       "      <th>48437</th>\n",
       "      <td>fffd2ffdaa03e9e0a0cd1e8f2ee80f530bb19b08fa4312...</td>\n",
       "      <td>What is the height of the church located in Sa...</td>\n",
       "      <td>**Church Information: Église de Saint-Nazaire-...</td>\n",
       "      <td>I couldn't find any information about a church...</td>\n",
       "      <td>model_a</td>\n",
       "      <td>llama-3.1-70b-instruct</td>\n",
       "      <td>llama-3.2-3b-instruct</td>\n",
       "      <td>English</td>\n",
       "    </tr>\n",
       "    <tr>\n",
       "      <th>48438</th>\n",
       "      <td>ffff059aea247f1dc7a09cfea55e00309b5b9a2e8cd9fc...</td>\n",
       "      <td>1000Tb 每秒传输10gb要多久才能完成</td>\n",
       "      <td>**1. 单位转换:**\\n\\n* 1000 Tb = 1000 * 1024 Gb = 1...</td>\n",
       "      <td>要计算传输 1000TB 数据以 10Gb/s 的速率需要多长时间，我们可以按以下步骤进行。...</td>\n",
       "      <td>model_a</td>\n",
       "      <td>gemini-1.5-flash-exp-0827</td>\n",
       "      <td>chatgpt-4o-latest-20240903</td>\n",
       "      <td>unknown</td>\n",
       "    </tr>\n",
       "  </tbody>\n",
       "</table>\n",
       "<p>48439 rows × 8 columns</p>\n",
       "</div>"
      ],
      "text/plain": [
       "                                                      id  \\\n",
       "0      00007cff95d7f7974642a785aca248b0f26e60d3312fac...   \n",
       "1      00010ed04b536f56ebe43eef1100c13906abea12bf9855...   \n",
       "2      0003800d510e38803efba5ceaec122bc66408fe367b0be...   \n",
       "3      00072026c68f5418ef2da238394e418ce72a534b9b22d5...   \n",
       "4      0007ce7cf6bc1b5a8f8a4669b854fb12030863c970d9dc...   \n",
       "...                                                  ...   \n",
       "48434  fff5962462043091a771018e37ece11c425e9c7cca64b2...   \n",
       "48435  fffad6c95fb82e3a694b4952965852130285e0a38905d5...   \n",
       "48436  fffbf502f2cd88b706a4bd6e54ed90e9a2d59d1643140d...   \n",
       "48437  fffd2ffdaa03e9e0a0cd1e8f2ee80f530bb19b08fa4312...   \n",
       "48438  ffff059aea247f1dc7a09cfea55e00309b5b9a2e8cd9fc...   \n",
       "\n",
       "                                                  prompt  \\\n",
       "0                                     vieš po Slovensky?   \n",
       "1      You will be given a piece of news. Analyze it ...   \n",
       "2      Dört basamaklı, rakamları birbirinden ve sıfır...   \n",
       "3      현재 추천된 탑 3 종목인 Cabaletta Bio (CABA), Rocket Ph...   \n",
       "4                                      Please be boring    \n",
       "...                                                  ...   \n",
       "48434                                        你好，请你介绍下你自己   \n",
       "48435                                Viva Technology参展费用   \n",
       "48436  다음은 '사무장병원 경찰 조사 동행기 - 장효강 변호사의 현장 이야기'라는 제목의 ...   \n",
       "48437  What is the height of the church located in Sa...   \n",
       "48438                             1000Tb 每秒传输10gb要多久才能完成   \n",
       "\n",
       "                                              response_a  \\\n",
       "0       Áno, hovorím po slovensky. Ako vám môžem pomôcť?   \n",
       "1      Let's break down the news and analyze it accor...   \n",
       "2      Bu soruyu çözmek için, verilen koşulları adım ...   \n",
       "3      죄송하지만 저는 금융 조언을 제공할 수 없습니다. 저는 AI 모델이며, 투자 결정에...   \n",
       "4      Alright, I'll be as boring as possible.\\n\\nTod...   \n",
       "...                                                  ...   \n",
       "48434                        你好！我是LSK，一个形式为人工智能的chatbot。   \n",
       "48435  Viva Technology是一个国际性的科技展览会，每年在法国巴黎举行。参展费用会根据多...   \n",
       "48436  사무장병원 경찰 조사 동행기 - 장효강 변호사의 현장 이야기\\n\\n**\"압수수색, ...   \n",
       "48437  **Church Information: Église de Saint-Nazaire-...   \n",
       "48438  **1. 单位转换:**\\n\\n* 1000 Tb = 1000 * 1024 Gb = 1...   \n",
       "\n",
       "                                              response_b   winner  \\\n",
       "0      Áno, veď som tu! Môžem ti pomôcť s otázkami al...  model_a   \n",
       "1      ```json\\n{\\n  \"contains_orgs\": true,\\n  \"orgs\"...  model_a   \n",
       "2      Bu problemi adım adım çözelim:\\n\\n1) ABCD - DC...  model_a   \n",
       "3      현재 추천된 탑 3 종목에 순위를 매기기 위해서는 여러 가지 요소들을 고려해야 합니...  model_b   \n",
       "4      Understood. Here is a straightforward, unadorn...  model_a   \n",
       "...                                                  ...      ...   \n",
       "48434  ### 介绍\\n\\n我是一款人工智能语言模型，基于深度学习技术开发而成。我的主要功能是理解自...  model_b   \n",
       "48435  我无法找到Viva Technology参展费用的具体公开信息。\\n\\n**参展费用通常取决...  model_a   \n",
       "48436  도입부를 개선하기 위해서는 독자의 관심을 더 끌어야 하며, 좀 더 명료하고 간결하게...  model_a   \n",
       "48437  I couldn't find any information about a church...  model_a   \n",
       "48438  要计算传输 1000TB 数据以 10Gb/s 的速率需要多长时间，我们可以按以下步骤进行。...  model_a   \n",
       "\n",
       "                         model_a                          model_b language  \n",
       "0                     o1-preview               reka-core-20240904   Slovak  \n",
       "1                 gemma-2-27b-it             gemini-1.5-flash-002  Russian  \n",
       "2             gpt-4-0125-preview       claude-3-5-sonnet-20240620  Turkish  \n",
       "3                  gemma-2-2b-it  llama-3.1-nemotron-70b-instruct  English  \n",
       "4            reka-flash-20240722                grok-2-2024-08-13  English  \n",
       "...                          ...                              ...      ...  \n",
       "48434      llama-3.2-3b-instruct            llama-3.1-8b-instruct  Chinese  \n",
       "48435         reka-core-20240904        gemini-1.5-flash-exp-0827  English  \n",
       "48436         gemini-1.5-pro-002                yi-lightning-lite   Korean  \n",
       "48437     llama-3.1-70b-instruct            llama-3.2-3b-instruct  English  \n",
       "48438  gemini-1.5-flash-exp-0827       chatgpt-4o-latest-20240903  unknown  \n",
       "\n",
       "[48439 rows x 8 columns]"
      ]
     },
     "execution_count": 9,
     "metadata": {},
     "output_type": "execute_result"
    }
   ],
   "source": [
    "trainDF = pd.read_parquet(CFG.trainFile)\n",
    "trainDF"
   ]
  },
  {
   "cell_type": "code",
   "execution_count": 10,
   "id": "0240af96",
   "metadata": {
    "execution": {
     "iopub.execute_input": "2025-01-09T17:27:01.545156Z",
     "iopub.status.busy": "2025-01-09T17:27:01.544253Z",
     "iopub.status.idle": "2025-01-09T17:27:01.574141Z",
     "shell.execute_reply": "2025-01-09T17:27:01.572112Z"
    },
    "papermill": {
     "duration": 0.050605,
     "end_time": "2025-01-09T17:27:01.577170",
     "exception": false,
     "start_time": "2025-01-09T17:27:01.526565",
     "status": "completed"
    },
    "tags": []
   },
   "outputs": [
    {
     "data": {
      "text/html": [
       "<div>\n",
       "<style scoped>\n",
       "    .dataframe tbody tr th:only-of-type {\n",
       "        vertical-align: middle;\n",
       "    }\n",
       "\n",
       "    .dataframe tbody tr th {\n",
       "        vertical-align: top;\n",
       "    }\n",
       "\n",
       "    .dataframe thead th {\n",
       "        text-align: right;\n",
       "    }\n",
       "</style>\n",
       "<table border=\"1\" class=\"dataframe\">\n",
       "  <thead>\n",
       "    <tr style=\"text-align: right;\">\n",
       "      <th></th>\n",
       "      <th>id</th>\n",
       "      <th>prompt</th>\n",
       "      <th>response_a</th>\n",
       "      <th>response_b</th>\n",
       "      <th>scored</th>\n",
       "    </tr>\n",
       "  </thead>\n",
       "  <tbody>\n",
       "    <tr>\n",
       "      <th>0</th>\n",
       "      <td>327228</td>\n",
       "      <td>Caso Clínico: Un hombre de 70 años con anteced...</td>\n",
       "      <td>**Diagnóstico Diferencial de Anemia en Pacient...</td>\n",
       "      <td>Basándonos en el caso clínico presentado, pode...</td>\n",
       "      <td>False</td>\n",
       "    </tr>\n",
       "    <tr>\n",
       "      <th>1</th>\n",
       "      <td>1139415</td>\n",
       "      <td>Peel Company received a cash dividend from a ...</td>\n",
       "      <td>The correct answer is **(a) No   No**. Here's ...</td>\n",
       "      <td>The correct answer is **(a) No No**. Here's wh...</td>\n",
       "      <td>False</td>\n",
       "    </tr>\n",
       "    <tr>\n",
       "      <th>2</th>\n",
       "      <td>1235630</td>\n",
       "      <td>Há um grave problema com o relógio da torre da...</td>\n",
       "      <td>Dois problemas interessantes!\\n\\n**Problema 1:...</td>\n",
       "      <td>Vamos resolver os dois problemas em sequência....</td>\n",
       "      <td>False</td>\n",
       "    </tr>\n",
       "  </tbody>\n",
       "</table>\n",
       "</div>"
      ],
      "text/plain": [
       "        id                                             prompt  \\\n",
       "0   327228  Caso Clínico: Un hombre de 70 años con anteced...   \n",
       "1  1139415   Peel Company received a cash dividend from a ...   \n",
       "2  1235630  Há um grave problema com o relógio da torre da...   \n",
       "\n",
       "                                          response_a  \\\n",
       "0  **Diagnóstico Diferencial de Anemia en Pacient...   \n",
       "1  The correct answer is **(a) No   No**. Here's ...   \n",
       "2  Dois problemas interessantes!\\n\\n**Problema 1:...   \n",
       "\n",
       "                                          response_b  scored  \n",
       "0  Basándonos en el caso clínico presentado, pode...   False  \n",
       "1  The correct answer is **(a) No No**. Here's wh...   False  \n",
       "2  Vamos resolver os dois problemas em sequência....   False  "
      ]
     },
     "execution_count": 10,
     "metadata": {},
     "output_type": "execute_result"
    }
   ],
   "source": [
    "testDF = pd.read_parquet(CFG.testFile)\n",
    "testDF"
   ]
  },
  {
   "cell_type": "code",
   "execution_count": 11,
   "id": "93675e24",
   "metadata": {
    "execution": {
     "iopub.execute_input": "2025-01-09T17:27:01.600748Z",
     "iopub.status.busy": "2025-01-09T17:27:01.600168Z",
     "iopub.status.idle": "2025-01-09T17:27:01.609138Z",
     "shell.execute_reply": "2025-01-09T17:27:01.607645Z"
    },
    "papermill": {
     "duration": 0.021732,
     "end_time": "2025-01-09T17:27:01.611287",
     "exception": false,
     "start_time": "2025-01-09T17:27:01.589555",
     "status": "completed"
    },
    "tags": []
   },
   "outputs": [
    {
     "data": {
      "text/plain": [
       "Index(['id', 'prompt', 'response_a', 'response_b', 'scored'], dtype='object')"
      ]
     },
     "execution_count": 11,
     "metadata": {},
     "output_type": "execute_result"
    }
   ],
   "source": [
    "testDF.columns"
   ]
  },
  {
   "cell_type": "code",
   "execution_count": 12,
   "id": "3de7653e",
   "metadata": {
    "execution": {
     "iopub.execute_input": "2025-01-09T17:27:01.631479Z",
     "iopub.status.busy": "2025-01-09T17:27:01.630971Z",
     "iopub.status.idle": "2025-01-09T17:27:01.651395Z",
     "shell.execute_reply": "2025-01-09T17:27:01.650055Z"
    },
    "papermill": {
     "duration": 0.033338,
     "end_time": "2025-01-09T17:27:01.653802",
     "exception": false,
     "start_time": "2025-01-09T17:27:01.620464",
     "status": "completed"
    },
    "tags": []
   },
   "outputs": [
    {
     "data": {
      "text/html": [
       "<div>\n",
       "<style scoped>\n",
       "    .dataframe tbody tr th:only-of-type {\n",
       "        vertical-align: middle;\n",
       "    }\n",
       "\n",
       "    .dataframe tbody tr th {\n",
       "        vertical-align: top;\n",
       "    }\n",
       "\n",
       "    .dataframe thead th {\n",
       "        text-align: right;\n",
       "    }\n",
       "</style>\n",
       "<table border=\"1\" class=\"dataframe\">\n",
       "  <thead>\n",
       "    <tr style=\"text-align: right;\">\n",
       "      <th></th>\n",
       "      <th>id</th>\n",
       "      <th>winner</th>\n",
       "    </tr>\n",
       "  </thead>\n",
       "  <tbody>\n",
       "    <tr>\n",
       "      <th>0</th>\n",
       "      <td>327228</td>\n",
       "      <td>model_a</td>\n",
       "    </tr>\n",
       "    <tr>\n",
       "      <th>1</th>\n",
       "      <td>1139415</td>\n",
       "      <td>model_a</td>\n",
       "    </tr>\n",
       "    <tr>\n",
       "      <th>2</th>\n",
       "      <td>1235630</td>\n",
       "      <td>model_a</td>\n",
       "    </tr>\n",
       "  </tbody>\n",
       "</table>\n",
       "</div>"
      ],
      "text/plain": [
       "        id   winner\n",
       "0   327228  model_a\n",
       "1  1139415  model_a\n",
       "2  1235630  model_a"
      ]
     },
     "execution_count": 12,
     "metadata": {},
     "output_type": "execute_result"
    }
   ],
   "source": [
    "submit = pd.read_csv(CFG.sampleFile)\n",
    "submit"
   ]
  },
  {
   "cell_type": "code",
   "execution_count": 13,
   "id": "145ac971",
   "metadata": {
    "execution": {
     "iopub.execute_input": "2025-01-09T17:27:01.675429Z",
     "iopub.status.busy": "2025-01-09T17:27:01.674888Z",
     "iopub.status.idle": "2025-01-09T17:27:01.695960Z",
     "shell.execute_reply": "2025-01-09T17:27:01.694612Z"
    },
    "papermill": {
     "duration": 0.035013,
     "end_time": "2025-01-09T17:27:01.698316",
     "exception": false,
     "start_time": "2025-01-09T17:27:01.663303",
     "status": "completed"
    },
    "tags": []
   },
   "outputs": [
    {
     "data": {
      "text/plain": [
       "language\n",
       "English       25211\n",
       "Russian        6455\n",
       "Chinese        4310\n",
       "Vietnamese     3103\n",
       "German         1402\n",
       "Japanese       1159\n",
       "unknown        1128\n",
       "Korean         1041\n",
       "Spanish         790\n",
       "French          640\n",
       "Portuguese      558\n",
       "Persian         366\n",
       "Italian         269\n",
       "Turkish         212\n",
       "Czech           165\n",
       "Arabic          163\n",
       "Polish          158\n",
       "Ukrainian       153\n",
       "Dutch           123\n",
       "Hungarian       109\n",
       "Indonesian       66\n",
       "Slovak           54\n",
       "Swedish          54\n",
       "Danish           53\n",
       "Finnish          50\n",
       "Serbian          49\n",
       "Bulgarian        36\n",
       "Hebrew           33\n",
       "Thai             32\n",
       "Romanian         26\n",
       "Latin            26\n",
       "Galician         22\n",
       "Norwegian        17\n",
       "Catalan          16\n",
       "Greek            16\n",
       "Lithuanian       14\n",
       "Croatian         13\n",
       "Sanskrit         12\n",
       "Estonian         11\n",
       "Scots            10\n",
       "Basque           10\n",
       "Uzbek             9\n",
       "Tagalog           9\n",
       "Corsican          9\n",
       "Macedonian        9\n",
       "Yoruba            9\n",
       "Malay             9\n",
       "Xhosa             8\n",
       "Esperanto         7\n",
       "Armenian          7\n",
       "Name: count, dtype: int64"
      ]
     },
     "execution_count": 13,
     "metadata": {},
     "output_type": "execute_result"
    }
   ],
   "source": [
    "trainDF[\"language\"].value_counts()[:50] # top 50 language"
   ]
  },
  {
   "cell_type": "code",
   "execution_count": 14,
   "id": "28b7c5d2",
   "metadata": {
    "execution": {
     "iopub.execute_input": "2025-01-09T17:27:01.718979Z",
     "iopub.status.busy": "2025-01-09T17:27:01.718335Z",
     "iopub.status.idle": "2025-01-09T17:27:02.075212Z",
     "shell.execute_reply": "2025-01-09T17:27:02.073681Z"
    },
    "papermill": {
     "duration": 0.369592,
     "end_time": "2025-01-09T17:27:02.077522",
     "exception": false,
     "start_time": "2025-01-09T17:27:01.707930",
     "status": "completed"
    },
    "tags": []
   },
   "outputs": [
    {
     "data": {
      "text/plain": [
       "<Axes: title={'center': 'Winner Distribution'}, xlabel='winner'>"
      ]
     },
     "execution_count": 14,
     "metadata": {},
     "output_type": "execute_result"
    },
    {
     "data": {
      "image/png": "[encoded data removed]",
      "text/plain": [
       "<Figure size 640x480 with 1 Axes>"
      ]
     },
     "metadata": {},
     "output_type": "display_data"
    }
   ],
   "source": [
    "trainDF[\"winner\"].value_counts().plot(kind=\"bar\", title=\"Winner Distribution\")"
   ]
  },
  {
   "cell_type": "code",
   "execution_count": 15,
   "id": "fa50a2db",
   "metadata": {
    "execution": {
     "iopub.execute_input": "2025-01-09T17:27:02.100564Z",
     "iopub.status.busy": "2025-01-09T17:27:02.099985Z",
     "iopub.status.idle": "2025-01-09T17:27:02.108369Z",
     "shell.execute_reply": "2025-01-09T17:27:02.107091Z"
    },
    "papermill": {
     "duration": 0.021869,
     "end_time": "2025-01-09T17:27:02.110694",
     "exception": false,
     "start_time": "2025-01-09T17:27:02.088825",
     "status": "completed"
    },
    "tags": []
   },
   "outputs": [
    {
     "data": {
      "text/plain": [
       "Index(['id', 'prompt', 'response_a', 'response_b', 'winner', 'model_a',\n",
       "       'model_b', 'language'],\n",
       "      dtype='object')"
      ]
     },
     "execution_count": 15,
     "metadata": {},
     "output_type": "execute_result"
    }
   ],
   "source": [
    "trainDF.columns"
   ]
  },
  {
   "cell_type": "code",
   "execution_count": 16,
   "id": "db6b406b",
   "metadata": {
    "execution": {
     "iopub.execute_input": "2025-01-09T17:27:02.132746Z",
     "iopub.status.busy": "2025-01-09T17:27:02.132177Z",
     "iopub.status.idle": "2025-01-09T17:27:02.151855Z",
     "shell.execute_reply": "2025-01-09T17:27:02.150541Z"
    },
    "papermill": {
     "duration": 0.033423,
     "end_time": "2025-01-09T17:27:02.154276",
     "exception": false,
     "start_time": "2025-01-09T17:27:02.120853",
     "status": "completed"
    },
    "tags": []
   },
   "outputs": [
    {
     "data": {
      "text/plain": [
       "(60, 60)"
      ]
     },
     "execution_count": 16,
     "metadata": {},
     "output_type": "execute_result"
    }
   ],
   "source": [
    "listModelA = trainDF[\"model_a\"].unique()\n",
    "listModelB = trainDF[\"model_b\"].unique()\n",
    "len(listModelA),  len(listModelB) # 60 LLM model"
   ]
  },
  {
   "cell_type": "code",
   "execution_count": 17,
   "id": "2525f1ca",
   "metadata": {
    "execution": {
     "iopub.execute_input": "2025-01-09T17:27:02.176234Z",
     "iopub.status.busy": "2025-01-09T17:27:02.175707Z",
     "iopub.status.idle": "2025-01-09T17:27:02.184246Z",
     "shell.execute_reply": "2025-01-09T17:27:02.183093Z"
    },
    "papermill": {
     "duration": 0.021726,
     "end_time": "2025-01-09T17:27:02.186187",
     "exception": false,
     "start_time": "2025-01-09T17:27:02.164461",
     "status": "completed"
    },
    "tags": []
   },
   "outputs": [
    {
     "data": {
      "text/plain": [
       "['athene-70b-0725',\n",
       " 'c4ai-aya-expanse-32b',\n",
       " 'chatgpt-4o-latest-20240808',\n",
       " 'chatgpt-4o-latest-20240903',\n",
       " 'claude-3-5-sonnet-20240620',\n",
       " 'claude-3-5-sonnet-20241022',\n",
       " 'claude-3-haiku-20240307',\n",
       " 'claude-3-opus-20240229',\n",
       " 'command-r-08-2024',\n",
       " 'command-r-plus-08-2024',\n",
       " 'deepseek-coder-v2-0724',\n",
       " 'deepseek-v2-api-0628',\n",
       " 'deepseek-v2.5',\n",
       " 'gemini-1.5-flash-001',\n",
       " 'gemini-1.5-flash-002',\n",
       " 'gemini-1.5-flash-8b-001',\n",
       " 'gemini-1.5-flash-8b-exp-0827',\n",
       " 'gemini-1.5-flash-exp-0827',\n",
       " 'gemini-1.5-pro-001',\n",
       " 'gemini-1.5-pro-002',\n",
       " 'gemini-1.5-pro-exp-0827',\n",
       " 'gemma-2-27b-it',\n",
       " 'gemma-2-2b-it',\n",
       " 'gemma-2-9b-it',\n",
       " 'gemma-2-9b-it-simpo',\n",
       " 'glm-4-plus',\n",
       " 'gpt-4-0125-preview',\n",
       " 'gpt-4-1106-preview',\n",
       " 'gpt-4-turbo-2024-04-09',\n",
       " 'gpt-4o-2024-05-13',\n",
       " 'gpt-4o-2024-08-06',\n",
       " 'gpt-4o-mini-2024-07-18',\n",
       " 'grok-2-2024-08-13',\n",
       " 'grok-2-mini-2024-08-13',\n",
       " 'internlm2_5-20b-chat',\n",
       " 'jamba-1.5-large',\n",
       " 'jamba-1.5-mini',\n",
       " 'llama-3.1-405b-instruct-bf16',\n",
       " 'llama-3.1-405b-instruct-fp8',\n",
       " 'llama-3.1-70b-instruct',\n",
       " 'llama-3.1-8b-instruct',\n",
       " 'llama-3.1-nemotron-51b-instruct',\n",
       " 'llama-3.1-nemotron-70b-instruct',\n",
       " 'llama-3.2-1b-instruct',\n",
       " 'llama-3.2-3b-instruct',\n",
       " 'mistral-large-2407',\n",
       " 'mixtral-8x22b-instruct-v0.1',\n",
       " 'o1-mini',\n",
       " 'o1-preview',\n",
       " 'phi-3-medium-4k-instruct',\n",
       " 'qwen-max-0919',\n",
       " 'qwen-plus-0828',\n",
       " 'qwen2-72b-instruct',\n",
       " 'qwen2.5-72b-instruct',\n",
       " 'reka-core-20240722',\n",
       " 'reka-core-20240904',\n",
       " 'reka-flash-20240722',\n",
       " 'reka-flash-20240904',\n",
       " 'yi-lightning',\n",
       " 'yi-lightning-lite']"
      ]
     },
     "execution_count": 17,
     "metadata": {},
     "output_type": "execute_result"
    }
   ],
   "source": [
    "sorted(listModelA)"
   ]
  },
  {
   "cell_type": "code",
   "execution_count": 18,
   "id": "79ac1dbf",
   "metadata": {
    "execution": {
     "iopub.execute_input": "2025-01-09T17:27:02.209346Z",
     "iopub.status.busy": "2025-01-09T17:27:02.208887Z",
     "iopub.status.idle": "2025-01-09T17:27:02.216806Z",
     "shell.execute_reply": "2025-01-09T17:27:02.215640Z"
    },
    "papermill": {
     "duration": 0.021894,
     "end_time": "2025-01-09T17:27:02.219023",
     "exception": false,
     "start_time": "2025-01-09T17:27:02.197129",
     "status": "completed"
    },
    "tags": []
   },
   "outputs": [
    {
     "data": {
      "text/plain": [
       "['athene-70b-0725',\n",
       " 'c4ai-aya-expanse-32b',\n",
       " 'chatgpt-4o-latest-20240808',\n",
       " 'chatgpt-4o-latest-20240903',\n",
       " 'claude-3-5-sonnet-20240620',\n",
       " 'claude-3-5-sonnet-20241022',\n",
       " 'claude-3-haiku-20240307',\n",
       " 'claude-3-opus-20240229',\n",
       " 'command-r-08-2024',\n",
       " 'command-r-plus-08-2024',\n",
       " 'deepseek-coder-v2-0724',\n",
       " 'deepseek-v2-api-0628',\n",
       " 'deepseek-v2.5',\n",
       " 'gemini-1.5-flash-001',\n",
       " 'gemini-1.5-flash-002',\n",
       " 'gemini-1.5-flash-8b-001',\n",
       " 'gemini-1.5-flash-8b-exp-0827',\n",
       " 'gemini-1.5-flash-exp-0827',\n",
       " 'gemini-1.5-pro-001',\n",
       " 'gemini-1.5-pro-002',\n",
       " 'gemini-1.5-pro-exp-0827',\n",
       " 'gemma-2-27b-it',\n",
       " 'gemma-2-2b-it',\n",
       " 'gemma-2-9b-it',\n",
       " 'gemma-2-9b-it-simpo',\n",
       " 'glm-4-plus',\n",
       " 'gpt-4-0125-preview',\n",
       " 'gpt-4-1106-preview',\n",
       " 'gpt-4-turbo-2024-04-09',\n",
       " 'gpt-4o-2024-05-13',\n",
       " 'gpt-4o-2024-08-06',\n",
       " 'gpt-4o-mini-2024-07-18',\n",
       " 'grok-2-2024-08-13',\n",
       " 'grok-2-mini-2024-08-13',\n",
       " 'internlm2_5-20b-chat',\n",
       " 'jamba-1.5-large',\n",
       " 'jamba-1.5-mini',\n",
       " 'llama-3.1-405b-instruct-bf16',\n",
       " 'llama-3.1-405b-instruct-fp8',\n",
       " 'llama-3.1-70b-instruct',\n",
       " 'llama-3.1-8b-instruct',\n",
       " 'llama-3.1-nemotron-51b-instruct',\n",
       " 'llama-3.1-nemotron-70b-instruct',\n",
       " 'llama-3.2-1b-instruct',\n",
       " 'llama-3.2-3b-instruct',\n",
       " 'mistral-large-2407',\n",
       " 'mixtral-8x22b-instruct-v0.1',\n",
       " 'o1-mini',\n",
       " 'o1-preview',\n",
       " 'phi-3-medium-4k-instruct',\n",
       " 'qwen-max-0919',\n",
       " 'qwen-plus-0828',\n",
       " 'qwen2-72b-instruct',\n",
       " 'qwen2.5-72b-instruct',\n",
       " 'reka-core-20240722',\n",
       " 'reka-core-20240904',\n",
       " 'reka-flash-20240722',\n",
       " 'reka-flash-20240904',\n",
       " 'yi-lightning',\n",
       " 'yi-lightning-lite']"
      ]
     },
     "execution_count": 18,
     "metadata": {},
     "output_type": "execute_result"
    }
   ],
   "source": [
    "sorted(listModelB)"
   ]
  },
  {
   "cell_type": "code",
   "execution_count": 19,
   "id": "9c020a09",
   "metadata": {
    "execution": {
     "iopub.execute_input": "2025-01-09T17:27:02.241984Z",
     "iopub.status.busy": "2025-01-09T17:27:02.241435Z",
     "iopub.status.idle": "2025-01-09T17:27:02.292546Z",
     "shell.execute_reply": "2025-01-09T17:27:02.291026Z"
    },
    "papermill": {
     "duration": 0.064822,
     "end_time": "2025-01-09T17:27:02.294760",
     "exception": false,
     "start_time": "2025-01-09T17:27:02.229938",
     "status": "completed"
    },
    "tags": []
   },
   "outputs": [
    {
     "data": {
      "text/plain": [
       "id            0\n",
       "prompt        0\n",
       "response_a    0\n",
       "response_b    0\n",
       "winner        0\n",
       "model_a       0\n",
       "model_b       0\n",
       "language      0\n",
       "dtype: int64"
      ]
     },
     "execution_count": 19,
     "metadata": {},
     "output_type": "execute_result"
    }
   ],
   "source": [
    "trainDF.isnull().sum() # no null value"
   ]
  },
  {
   "cell_type": "code",
   "execution_count": null,
   "id": "c7046875",
   "metadata": {
    "papermill": {
     "duration": 0.009605,
     "end_time": "2025-01-09T17:27:02.314833",
     "exception": false,
     "start_time": "2025-01-09T17:27:02.305228",
     "status": "completed"
    },
    "tags": []
   },
   "outputs": [],
   "source": []
  }
 ],
 "metadata": {
  "kaggle": {
   "accelerator": "none",
   "dataSources": [
    {
     "databundleVersionId": 10131489,
     "sourceId": 86946,
     "sourceType": "competition"
    }
   ],
   "dockerImageVersionId": 30822,
   "isGpuEnabled": false,
   "isInternetEnabled": true,
   "language": "python",
   "sourceType": "notebook"
  },
  "kernelspec": {
   "display_name": "Python 3",
   "language": "python",
   "name": "python3"
  },
  "language_info": {
   "codemirror_mode": {
    "name": "ipython",
    "version": 3
   },
   "file_extension": ".py",
   "mimetype": "text/x-python",
   "name": "python",
   "nbconvert_exporter": "python",
   "pygments_lexer": "ipython3",
   "version": "3.10.12"
  },
  "papermill": {
   "default_parameters": {},
   "duration": 71.082531,
   "end_time": "2025-01-09T17:27:05.837314",
   "environment_variables": {},
   "exception": null,
   "input_path": "__notebook__.ipynb",
   "output_path": "__notebook__.ipynb",
   "parameters": {},
   "start_time": "2025-01-09T17:25:54.754783",
   "version": "2.6.0"
  }
 },
 "nbformat": 4,
 "nbformat_minor": 5
}
